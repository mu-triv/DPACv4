{
 "cells": [
  {
   "cell_type": "markdown",
   "metadata": {},
   "source": [
    "# Hamming weight and Pearson Correlation\n",
    "\n",
    "This notebook demonstrates how to guess a floating number using Hamming Weight model.\n",
    "\n",
    "\n",
    "We generate a random secret floating number. Then we use hamming weight model to guess the number.\n",
    "\n",
    "We develop a method of devide-and-conquer to quickly arrive to a close number with a defined precision."
   ]
  },
  {
   "cell_type": "markdown",
   "metadata": {},
   "source": [
    "## Guessing..."
   ]
  },
  {
   "cell_type": "code",
   "execution_count": null,
   "metadata": {},
   "outputs": [],
   "source": [
    "import numpy as np\n",
    "import pandas as pd\n",
    "import hashlib\n",
    "from guess_range import *\n",
    "from pprint import pprint"
   ]
  },
  {
   "cell_type": "code",
   "execution_count": null,
   "metadata": {},
   "outputs": [],
   "source": [
    "import binascii\n",
    "\n",
    "def secret_signature(secret_numbers):\n",
    "    m = hashlib.md5()\n",
    "    m.update(secret_numbers)\n",
    "    a = m.digest()\n",
    "    s = 2\n",
    "    n = [0] * s\n",
    "    for idx in range(len(a)):\n",
    "        i = idx % s\n",
    "        n[i] = (n[i] + a[idx]) % 256\n",
    "    return binascii.hexlify(bytes(n))        "
   ]
  },
  {
   "cell_type": "markdown",
   "metadata": {},
   "source": [
    "## Test single point"
   ]
  },
  {
   "cell_type": "code",
   "execution_count": null,
   "metadata": {},
   "outputs": [],
   "source": [
    "SECRET_VALUE = 'secret value'\n",
    "\n",
    "guess_range = (0, 5.0)\n",
    "precision = 1e-6\n",
    "exponent= 0"
   ]
  },
  {
   "cell_type": "code",
   "execution_count": null,
   "metadata": {},
   "outputs": [],
   "source": [
    "# secret_number = random.uniform(guess_range[0] / 10, guess_range[1] / 10)\n",
    "secret_number = 0.9401 * (10 ** exponent)\n",
    "known_input_set = generate_known_inputs(exps=[-2,0,2], nsize=500)\n",
    "secret_hws = (known_input_set * secret_number).applymap(lambda x: hamming_weight(x))\n",
    "#secret_number = np.round(secret_number, int(-np.log10(precision)))\n",
    "print('secret_number = %.08f' % secret_number)\n",
    "number_of_guess_values = 500"
   ]
  },
  {
   "cell_type": "code",
   "execution_count": null,
   "metadata": {},
   "outputs": [],
   "source": [
    "%%time\n",
    "candidates = get_range_candidates(secret_hws=secret_hws,\n",
    "                                  guess_range=guess_range,\n",
    "                                  known_input_set=known_input_set,\n",
    "                                  precision=precision,\n",
    "                                  number_values=number_of_guess_values)\n",
    "candidates"
   ]
  },
  {
   "cell_type": "code",
   "execution_count": null,
   "metadata": {
    "scrolled": true
   },
   "outputs": [],
   "source": [
    "%%time\n",
    "weight_value = dismiss_bad_ranges(secret_hws, candidates, known_input_set, number_values=number_of_guess_values)\n",
    "weight_value"
   ]
  },
  {
   "cell_type": "code",
   "execution_count": null,
   "metadata": {},
   "outputs": [],
   "source": [
    "%%time\n",
    "known_inputs = generate_known_inputs(exps=0)\n",
    "df = guess_number_range((known_inputs * secret_number).applymap(lambda x: hamming_weight(x)),\n",
    "                        guess_range, precision, known_inputs, number_values=500)\n",
    "df"
   ]
  },
  {
   "cell_type": "code",
   "execution_count": null,
   "metadata": {},
   "outputs": [],
   "source": [
    "%%time\n",
    "secret_hw=(known_inputs * secret_number).applymap(lambda x: hamming_weight(x))\n",
    "single_correlations = compute_corr(secret_hw=secret_hw, known_inputs=known_inputs,\n",
    "                                   guess_range=guess_range, number_values=number_of_guess_values)\n",
    "single_correlations.sort_values(ascending=False, inplace=True)\n",
    "single_correlations.iloc[:10]"
   ]
  },
  {
   "cell_type": "code",
   "execution_count": null,
   "metadata": {},
   "outputs": [],
   "source": [
    "ax = single_correlations.sort_index().plot(figsize=(15, 6), label='HW correlations')\n",
    "ax.vlines(secret_number, \n",
    "          single_correlations.min(),\n",
    "          single_correlations.max(),\n",
    "          color='red', label='secret value')\n",
    "ax.legend()\n",
    "ax.grid()"
   ]
  },
  {
   "cell_type": "code",
   "execution_count": null,
   "metadata": {
    "scrolled": true
   },
   "outputs": [],
   "source": [
    "%%time\n",
    "TEST_VALUE = 'test value'\n",
    "low_range, high_range = guess_range\n",
    "\n",
    "results = pd.DataFrame()\n",
    "known_input_size = 2000\n",
    "\n",
    "for (low_range, high_range) in get_subranges(guess_range, precision):\n",
    "    pprint('searching in the range %f - %f' % (low_range, high_range))\n",
    "    exponent = np.floor(-np.log10(np.max(np.abs(np.asarray([low_range, high_range])))))\n",
    "    for e in [exponent-1, exponent, exponent+1]:\n",
    "        known_inputs = np.random.uniform(-10 ** e, 10 ** e, known_input_size)\n",
    "        print(e, known_inputs.min(), known_inputs.max())\n",
    "        secret_hw = np.vectorize(hamming_weight)(known_inputs * secret_number)\n",
    "\n",
    "        corr = compute_corr(secret_hw=secret_hw, known_inputs=known_inputs,\n",
    "                                           guess_range=(low_range, high_range), number_values=number_of_guess_values)\n",
    "        df = pd.DataFrame([corr.index, corr.values], index=[TEST_VALUE, CORRELATION])\n",
    "        df.loc[INPUT_ID] = e\n",
    "        df.loc[LOW_VALUE] = low_range\n",
    "        df.loc[HIGH_VALUE] = high_range\n",
    "        results = pd.concat([results, df], axis=1, ignore_index=True)"
   ]
  },
  {
   "cell_type": "code",
   "execution_count": null,
   "metadata": {},
   "outputs": [],
   "source": [
    "a = results.T\n",
    "for idx, df in a.groupby(INPUT_ID):\n",
    "    d = df[CORRELATION].reset_index(drop=True)\n",
    "    ax = d.plot(figsize=(15,8), label=idx)\n",
    "    ax.legend()\n",
    "    ax.grid()"
   ]
  },
  {
   "cell_type": "code",
   "execution_count": null,
   "metadata": {},
   "outputs": [],
   "source": [
    "a = results.T\n",
    "a.sort_values(CORRELATION, ascending=False)[:10]"
   ]
  },
  {
   "cell_type": "code",
   "execution_count": null,
   "metadata": {
    "scrolled": true
   },
   "outputs": [],
   "source": [
    "a = results.T\n",
    "for g in a[HIGH_VALUE].unique():\n",
    "    b = a[a[HIGH_VALUE] == g]\n",
    "    c = b[[TEST_VALUE, CORRELATION]].set_index(TEST_VALUE).sort_index()\n",
    "    ax = c.plot(figsize=(15,6))\n",
    "    if secret_number <= g:\n",
    "        ax.vlines(secret_number, \n",
    "                  c.min(),\n",
    "                  c.max(),\n",
    "                  color='red', label='secret value')\n",
    "    ax.legend()\n",
    "    ax.grid()"
   ]
  },
  {
   "cell_type": "markdown",
   "metadata": {},
   "source": [
    "### Run advanced search"
   ]
  },
  {
   "cell_type": "code",
   "execution_count": null,
   "metadata": {
    "scrolled": true
   },
   "outputs": [],
   "source": [
    "%%time\n",
    "known_input_size = 1000\n",
    "print('secret_number = %f' % secret_number)\n",
    "print('guess_range = %s' % str(guess_range))\n",
    "results = advanced_guess_number_range(secret_number, guess_range, precision, \n",
    "                                      known_input_size, number_of_guess_values)"
   ]
  },
  {
   "cell_type": "code",
   "execution_count": null,
   "metadata": {},
   "outputs": [],
   "source": [
    "results.sort_values(CORRELATION, ascending=False)"
   ]
  },
  {
   "cell_type": "code",
   "execution_count": null,
   "metadata": {
    "scrolled": true
   },
   "outputs": [],
   "source": [
    "single_results.sort_values(CORRELATION, ascending=False)"
   ]
  },
  {
   "cell_type": "code",
   "execution_count": null,
   "metadata": {
    "scrolled": false
   },
   "outputs": [],
   "source": [
    "guess_values = (single_results[LOW_VALUE] + single_results[HIGH_VALUE]) / 2.0\n",
    "error_rates = ((guess_values - secret_number) / secret_number).abs() * 100.0\n",
    "pprint(error_rates)\n",
    "guessed_number = guess_values[error_rates.idxmin()]    \n",
    "pprint('the secret number = %f' % secret_number)\n",
    "pprint('the guessed number = %f' % guessed_number)\n",
    "pprint('best correlation = %f' % single_results[CORRELATION][error_rates.idxmin()])\n",
    "pprint('error rate = %0.6f%s' % (error_rates.min(), '%'))"
   ]
  },
  {
   "cell_type": "code",
   "execution_count": null,
   "metadata": {},
   "outputs": [],
   "source": [
    "known_inputs = np.random.uniform(-1e2, 1e2, 1000)\n",
    "secret_hw = pd.Series(np.vectorize(hamming_weight)(known_inputs * secret_number))\n",
    "print('guess_range = %s' % str(guess_range))\n",
    "guess_number_range(secret_hw, guess_range, precision, known_inputs)"
   ]
  },
  {
   "cell_type": "markdown",
   "metadata": {},
   "source": [
    "## Test multiple points"
   ]
  },
  {
   "cell_type": "code",
   "execution_count": null,
   "metadata": {},
   "outputs": [],
   "source": [
    "multiple_results = pd.DataFrame()"
   ]
  },
  {
   "cell_type": "code",
   "execution_count": null,
   "metadata": {},
   "outputs": [],
   "source": [
    "n_secret_numbers = 10\n",
    "secret_numbers = np.concatenate((\n",
    "    np.random.uniform(guess_range[0], guess_range[1], int(n_secret_numbers*2/4) ),\n",
    "    np.random.uniform(guess_range[0]*3e-1, guess_range[1]*3e-1, int(n_secret_numbers*1/4)),\n",
    "    np.random.uniform(guess_range[0]*1e-1, guess_range[1]*1e-1, int(n_secret_numbers*1/4))\n",
    "))\n",
    "np.random.shuffle(secret_numbers)\n",
    "print('secret_numbers.shape = %s' % (str(secret_numbers.shape)))"
   ]
  },
  {
   "cell_type": "markdown",
   "metadata": {},
   "source": [
    "### advanced_guess_number_range"
   ]
  },
  {
   "cell_type": "code",
   "execution_count": null,
   "metadata": {
    "scrolled": true
   },
   "outputs": [],
   "source": [
    "%%time\n",
    "loops = 0\n",
    "for idx in secret_numbers:\n",
    "    # if the number is already treated, the ignore it\n",
    "    if (SECRET_VALUE in multiple_results.columns) and (idx in multiple_results[SECRET_VALUE].values):\n",
    "        continue\n",
    "\n",
    "    print('secret_number = %f' % idx)\n",
    "    print('guess_range = %s' % str(guess_range))\n",
    "    results = advanced_guess_number_range(idx, guess_range, precision,\n",
    "                                          known_input_size, number_of_guess_values)\n",
    "    results[SECRET_VALUE] = idx\n",
    "    pprint('=' * 20)\n",
    "    pprint(results)\n",
    "    multiple_results = pd.concat([multiple_results, results], axis=0, ignore_index=True)\n",
    "    loops = loops + 1"
   ]
  },
  {
   "cell_type": "markdown",
   "metadata": {},
   "source": [
    "### get_range_candidates & dismiss_bad_ranges"
   ]
  },
  {
   "cell_type": "code",
   "execution_count": null,
   "metadata": {},
   "outputs": [],
   "source": [
    "%%time\n",
    "loops = 0\n",
    "for idx in secret_numbers:\n",
    "    # if the number is already treated, the ignore it\n",
    "    if (SECRET_VALUE in multiple_results.columns) and (idx in multiple_results[SECRET_VALUE].values):\n",
    "        continue\n",
    "\n",
    "    print('secret_number = %f' % idx)\n",
    "    print('guess_range = %s' % str(guess_range))\n",
    "    range_candidates = get_range_candidates(secret_hws=(known_input_set, idx).applymap(lambda x: hamming_weight(x)),\n",
    "                                            guess_range=guess_range, \n",
    "                                            known_input_set=known_input_set,\n",
    "                                            precision=precision,\n",
    "                                            number_values=number_of_guess_values)\n",
    "    \n",
    "    weight_value = dismiss_bad_ranges(secret_hws=secret_hws,\n",
    "                                      range_df=range_candidates, known_input_set=known_input_set,\n",
    "                                      number_values=number_of_guess_values)\n",
    "    weight_value[SECRET_VALUE] = idx    \n",
    "    pprint('=' * 20)\n",
    "    pprint(weight_value)\n",
    "    multiple_results = pd.concat([multiple_results, weight_value], axis=0, ignore_index=True)"
   ]
  },
  {
   "cell_type": "markdown",
   "metadata": {},
   "source": [
    "### Save data"
   ]
  },
  {
   "cell_type": "code",
   "execution_count": null,
   "metadata": {},
   "outputs": [],
   "source": [
    "from datetime import datetime\n",
    "multiple_results_fname = 'multiple_results-%s_%s.csv' % (datetime.now().strftime(\"%Y%m%d\"), secret_signature(secret_numbers).decode('utf8'))\n",
    "multiple_results.to_csv(multiple_results_fname)\n",
    "pprint('multiple_results_fname = %s' % multiple_results_fname)"
   ]
  },
  {
   "cell_type": "markdown",
   "metadata": {},
   "source": [
    "### Load data"
   ]
  },
  {
   "cell_type": "code",
   "execution_count": null,
   "metadata": {
    "scrolled": true
   },
   "outputs": [],
   "source": [
    "# multiple_results_fname = 'multiple_results-20200523_011136.csv'\n",
    "multiple_results = pd.read_csv(multiple_results_fname, index_col=0)\n",
    "pprint('multiple_results_fname = %s' % multiple_results_fname)\n",
    "multiple_results"
   ]
  },
  {
   "cell_type": "markdown",
   "metadata": {},
   "source": [
    "### Hit targets and missed targets"
   ]
  },
  {
   "cell_type": "code",
   "execution_count": null,
   "metadata": {},
   "outputs": [],
   "source": [
    "#\n",
    "# compute the number of secret values which are present in guessed ranges\n",
    "n_identified_ranges = multiple_results.groupby(SECRET_VALUE).apply(lambda x: ((x[LOW_VALUE]<=x[SECRET_VALUE]) & (x[SECRET_VALUE]<=x[HIGH_VALUE])).any())\n",
    "counts = n_identified_ranges.value_counts()\n",
    "if True in counts.index:\n",
    "    pprint('The number of identified values: %d/%d' % (counts[True], counts.sum()))\n",
    "if False in counts.index:\n",
    "    pprint('The number of missed values: %d/%d' % (counts[False], counts.sum()))"
   ]
  },
  {
   "cell_type": "code",
   "execution_count": null,
   "metadata": {
    "scrolled": true
   },
   "outputs": [],
   "source": [
    "df = multiple_results.loc[multiple_results.groupby(SECRET_VALUE)[CORRELATION].idxmax()]\n",
    "df['guess_values'] = (df[LOW_VALUE] + df[HIGH_VALUE]) / 2.0\n",
    "df['error_rate'] = ((df['guess_values'] - df[SECRET_VALUE])/df[SECRET_VALUE]).abs()\n",
    "df.sort_values('error_rate', ascending=False)[:20].reset_index(drop=True)"
   ]
  },
  {
   "cell_type": "markdown",
   "metadata": {},
   "source": [
    "### Graphs of the first choices"
   ]
  },
  {
   "cell_type": "code",
   "execution_count": null,
   "metadata": {},
   "outputs": [],
   "source": [
    "first_choice_results = multiple_results.loc[multiple_results.groupby(SECRET_VALUE)[CORRELATION].idxmax()]\n",
    "guess_values = (first_choice_results[LOW_VALUE] + first_choice_results[HIGH_VALUE]) / 2.0\n",
    "guess_values.index = first_choice_results[SECRET_VALUE]\n",
    "guess_values.sort_index(inplace=True)\n",
    "error_rate = ((guess_values - guess_values.index)/guess_values.index).abs()\n",
    "(error_rate < 1e-3).value_counts()"
   ]
  },
  {
   "cell_type": "code",
   "execution_count": null,
   "metadata": {},
   "outputs": [],
   "source": [
    "ax = guess_values.plot(figsize = (12, 6), marker='.', label='guessed values')\n",
    "ax.plot(guess_values.index, guess_values.index, marker='.', linewidth=1, label='secret_numbers')\n",
    "ax.legend()\n",
    "ax.set_xlabel('secret values')\n",
    "ax.set_ylabel('guessed values')\n",
    "ax.set_title('the first choices')\n",
    "ax.grid(True)"
   ]
  },
  {
   "cell_type": "code",
   "execution_count": null,
   "metadata": {},
   "outputs": [],
   "source": [
    "ax = error_rate.plot(figsize = (12, 6), label='error rate', marker='.', linewidth=1)\n",
    "ax.legend()\n",
    "ax.set_xlabel('secret values')\n",
    "ax.set_ylabel('error rates')\n",
    "ax.set_title('the first choices')\n",
    "ax.grid(True)"
   ]
  },
  {
   "cell_type": "markdown",
   "metadata": {},
   "source": [
    "### Graphs of the second choice"
   ]
  },
  {
   "cell_type": "code",
   "execution_count": null,
   "metadata": {},
   "outputs": [],
   "source": [
    "pprint('The total number of the second choices is: %d' % (multiple_results.groupby(SECRET_VALUE).size().prod()-1))"
   ]
  },
  {
   "cell_type": "code",
   "execution_count": null,
   "metadata": {},
   "outputs": [],
   "source": [
    "guess_values = ((multiple_results[LOW_VALUE] + multiple_results[HIGH_VALUE]) / 2.0)\n",
    "error_rate = ((guess_values - multiple_results[SECRET_VALUE])/multiple_results[SECRET_VALUE]).abs()\n",
    "second_choice_results = multiple_results.loc[error_rate.groupby(multiple_results[SECRET_VALUE]).idxmin()]\n",
    "guess_values = ((second_choice_results[LOW_VALUE] + second_choice_results[HIGH_VALUE]) / 2.0)\n",
    "guess_values.index = second_choice_results[SECRET_VALUE]\n",
    "guess_values.sort_index(inplace=True)\n",
    "\n",
    "error_rate = ((guess_values - guess_values.index)/guess_values.index).abs()\n",
    "(error_rate < 1e-3).value_counts()"
   ]
  },
  {
   "cell_type": "code",
   "execution_count": null,
   "metadata": {},
   "outputs": [],
   "source": [
    "ax = guess_values.plot(figsize = (12, 6), marker='.', label='guessed values')\n",
    "ax.plot(guess_values.index, guess_values.index, marker='.', linewidth=1, label='secret_numbers')\n",
    "ax.legend()\n",
    "ax.set_xlabel('secret values')\n",
    "ax.set_ylabel('guessed values')\n",
    "ax.set_title('the second choices')\n",
    "ax.grid(True)"
   ]
  },
  {
   "cell_type": "code",
   "execution_count": null,
   "metadata": {},
   "outputs": [],
   "source": [
    "ax = error_rate.plot(figsize = (12, 6), label='error rate', marker='.', linewidth=1)\n",
    "ax.legend()\n",
    "ax.set_xlabel('secret values')\n",
    "ax.set_ylabel('error rates')\n",
    "ax.set_title('the second choices')\n",
    "ax.grid(True)"
   ]
  },
  {
   "cell_type": "markdown",
   "metadata": {},
   "source": [
    "# Batina 1st method"
   ]
  },
  {
   "cell_type": "code",
   "execution_count": null,
   "metadata": {},
   "outputs": [],
   "source": [
    "def batina_guess_number(secret_number, guess_range, precision, known_inputs):\n",
    "    low, high = guess_range\n",
    "    guess_val = np.arange(low, high, precision)\n",
    "    hw = pd.DataFrame(columns=guess_val,\n",
    "                        data=np.vectorize(hamming_weight)(known_inputs.reshape(-1, 1) * guess_val))\n",
    "    hw['actual'] = np.vectorize(hamming_weight)(known_inputs * secret_number)\n",
    "    corr = hw.corr(method='pearson')['actual'].drop('actual')\n",
    "    idxmax = corr.idxmax()\n",
    "    return idxmax, corr[idxmax]"
   ]
  },
  {
   "cell_type": "code",
   "execution_count": null,
   "metadata": {},
   "outputs": [],
   "source": [
    "batinta_results = pd.Series(name='guessed_numbers', dtype=np.float32)"
   ]
  },
  {
   "cell_type": "code",
   "execution_count": null,
   "metadata": {},
   "outputs": [],
   "source": [
    "# we have to define a low precision, otherwise, it takes too long time to run\n",
    "precision = 1e-3\n",
    "known_inputs = np.random.uniform(-1e1, 1e1, 1000)"
   ]
  },
  {
   "cell_type": "code",
   "execution_count": null,
   "metadata": {
    "scrolled": true
   },
   "outputs": [],
   "source": [
    "%%time\n",
    "for idx in secret_numbers:\n",
    "    if idx in batinta_results.index:\n",
    "        continue    \n",
    "    batinta_results[idx], corr = batina_guess_number(idx, guess_range, precision, known_inputs)\n",
    "    print('secret_value = %f, guessed_value = %f, corr=%f' % (idx, batinta_results[idx], corr))\n",
    "batinta_results.sort_index(inplace=True)    "
   ]
  },
  {
   "cell_type": "markdown",
   "metadata": {},
   "source": [
    "### Save data"
   ]
  },
  {
   "cell_type": "code",
   "execution_count": null,
   "metadata": {},
   "outputs": [],
   "source": [
    "from datetime import datetime\n",
    "batinta_results_fname = 'batinta_results-%s_%s.csv' % (datetime.now().strftime(\"%Y%m%d\"), secret_signature(secret_numbers).decode('utf8'))\n",
    "batinta_results.to_csv(batinta_results_fname)\n",
    "pprint('batinta_results_fname = %s' % batinta_results_fname)"
   ]
  },
  {
   "cell_type": "markdown",
   "metadata": {},
   "source": [
    "### Load data"
   ]
  },
  {
   "cell_type": "code",
   "execution_count": null,
   "metadata": {},
   "outputs": [],
   "source": [
    "# batinta_results_fname = 'batinta_results-%s.csv' % '20200522_071337'\n",
    "batinta_results = pd.read_csv(batinta_results_fname, index_col=0, squeeze=True)\n",
    "batinta_results.sort_index(inplace=True)    \n",
    "batinta_results"
   ]
  },
  {
   "cell_type": "markdown",
   "metadata": {},
   "source": [
    "### Graphs"
   ]
  },
  {
   "cell_type": "code",
   "execution_count": null,
   "metadata": {},
   "outputs": [],
   "source": [
    "ax = batinta_results.plot(figsize = (12, 6), marker='.', label='batina')\n",
    "#results.plot(ax=ax, marker='.', label='bxlab')\n",
    "ax.plot(batinta_results.index, batinta_results.index, marker='.', linewidth=1, label='secret_numbers')\n",
    "ax.legend()\n",
    "ax.set_xlabel('secret values')\n",
    "ax.set_ylabel('guessed values')\n",
    "ax.grid(True)"
   ]
  },
  {
   "cell_type": "code",
   "execution_count": null,
   "metadata": {},
   "outputs": [],
   "source": [
    "batina_error_rate = ((batinta_results - batinta_results.index)/batinta_results.index).abs()\n",
    "ax = batina_error_rate.plot(figsize = (12, 6), label='batina error rate')\n",
    "#ax = error_rate.plot(ax=ax, label='error rate')\n",
    "ax.legend()\n",
    "ax.set_xlabel('secret values')\n",
    "ax.set_ylabel('error rates')\n",
    "ax.grid(True)"
   ]
  },
  {
   "cell_type": "code",
   "execution_count": null,
   "metadata": {
    "scrolled": true
   },
   "outputs": [],
   "source": [
    "batina_error_rate[batina_error_rate > 0.10]"
   ]
  },
  {
   "cell_type": "code",
   "execution_count": null,
   "metadata": {},
   "outputs": [],
   "source": [
    "####\n",
    "# number of correctly guessed values / number of wrong values\n",
    "###\n",
    "(batina_error_rate < precision).value_counts()"
   ]
  },
  {
   "cell_type": "markdown",
   "metadata": {},
   "source": [
    "# Annex"
   ]
  },
  {
   "cell_type": "code",
   "execution_count": null,
   "metadata": {},
   "outputs": [],
   "source": [
    "def annex_compute_corr(secret_hw, guess_range, known_inputs, guess_val_size=1000):\n",
    "    low, high = guess_range\n",
    "    guess_val = np.arange(low, high, (high - low) / (guess_val_size - 1e-5))\n",
    "    hw = pd.DataFrame(columns=guess_val,\n",
    "                        data=np.vectorize(hamming_weight)(known_inputs.reshape(-1, 1) * guess_val))\n",
    "    return hw.corrwith(pd.Series(secret_hw), method='pearson')"
   ]
  },
  {
   "cell_type": "code",
   "execution_count": null,
   "metadata": {},
   "outputs": [],
   "source": [
    "guess_range=(-3e0, 3e0)\n",
    "# the number of guess values in the guess range\n",
    "guess_val_size=4000\n",
    "# generate the known inputs which is used to test the guess values\n",
    "known_inputs = np.random.uniform(-1e2, 1e2, 1000)\n",
    "\n",
    "secret_number = random.uniform(guess_range[0], guess_range[1]) \n",
    "secret_number = 6.374345698e-2\n",
    "print('secret_number =', secret_number)\n",
    "\n",
    "secret_hw = np.vectorize(hamming_weight)(known_inputs * secret_number)\n",
    "correlations = annex_compute_corr(secret_hw, guess_range, known_inputs, guess_val_size)\n",
    "correlations_1 = annex_compute_corr(secret_hw, guess_range, known_inputs, int(guess_val_size*10))\n",
    "correlations_2 = annex_compute_corr(secret_hw, guess_range, known_inputs, int(guess_val_size/10))\n",
    "correlations.sort_values(ascending=False).iloc[:10]"
   ]
  },
  {
   "cell_type": "code",
   "execution_count": null,
   "metadata": {},
   "outputs": [],
   "source": [
    "from matplotlib import pyplot as plt\n",
    "fig, ax = plt.subplots(nrows=4, ncols=1, figsize=(15, 20))\n",
    "correlations_1.plot(ax=ax[0], label='corr-%s' % correlations_1.shape[0], color='green')\n",
    "correlations.plot(ax=ax[0], label='corr-%s' % correlations.shape[0], color='magenta')\n",
    "correlations_2.plot(ax=ax[0], label='corr-%s' % correlations_2.shape[0], color='yellow')\n",
    "ax[0].vlines(secret_number, correlations.min(), correlations.max(), color='red')\n",
    "\n",
    "correlations_1.plot(ax=ax[1], label='corr-%s' % correlations_1.shape[0], color='green')\n",
    "ax[1].vlines(secret_number, correlations_1.min(), correlations_1.max(), color='red')\n",
    "\n",
    "correlations.plot(ax=ax[2], label='corr-%s' % correlations.shape[0], color='magenta')\n",
    "ax[2].vlines(secret_number, correlations.min(), correlations.max(), color='red')\n",
    "\n",
    "correlations_2.plot(ax=ax[3], label='corr-%s' % correlations_2.shape[0], color='yellow')\n",
    "ax[3].vlines(secret_number, correlations_2.min(), correlations_2.max(), color='red')\n",
    "\n",
    "for a in ax:\n",
    "    a.legend()\n",
    "    a.grid(True)\n",
    "    a.set_xlabel('guess numbers')\n",
    "    a.set_ylabel('HW correlations')\n",
    "    \n",
    "plt.show()"
   ]
  },
  {
   "cell_type": "code",
   "execution_count": null,
   "metadata": {},
   "outputs": [],
   "source": []
  }
 ],
 "metadata": {
  "kernelspec": {
   "display_name": "Python 3",
   "language": "python",
   "name": "python3"
  },
  "language_info": {
   "codemirror_mode": {
    "name": "ipython",
    "version": 3
   },
   "file_extension": ".py",
   "mimetype": "text/x-python",
   "name": "python",
   "nbconvert_exporter": "python",
   "pygments_lexer": "ipython3",
   "version": "3.7.5"
  }
 },
 "nbformat": 4,
 "nbformat_minor": 4
}
