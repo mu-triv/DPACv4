{
 "cells": [
  {
   "cell_type": "markdown",
   "metadata": {},
   "source": [
    "# Hamming weight and Pearson Correlation\n",
    "\n",
    "We generate a random secret floating number.\n",
    "Then we use hamming weight model to guess the number"
   ]
  },
  {
   "cell_type": "code",
   "execution_count": 1,
   "metadata": {},
   "outputs": [],
   "source": [
    "import numpy as np\n",
    "import pandas as pd\n",
    "import random\n",
    "\n",
    "#\n",
    "# initalize parameter and generate a random number (secret number)\n",
    "guess_range = (-100, 100.0)\n",
    "secret_number = random.uniform(guess_range[0], guess_range[1])\n",
    "prescision = 1e-3"
   ]
  },
  {
   "cell_type": "code",
   "execution_count": 2,
   "metadata": {},
   "outputs": [],
   "source": [
    "import struct\n",
    "\n",
    "def float_to_bin(num):\n",
    "    bits, = struct.unpack('!I', struct.pack('!f', num))\n",
    "    return \"{:032b}\".format(bits)\n",
    "\n",
    "def hamming_weight(num):\n",
    "    return float_to_bin(num).count('1')"
   ]
  },
  {
   "cell_type": "code",
   "execution_count": 3,
   "metadata": {},
   "outputs": [],
   "source": [
    "number_tests = 10\n",
    "known_inputs = np.random.uniform(-1e0, 1e0, 10000)"
   ]
  },
  {
   "cell_type": "markdown",
   "metadata": {},
   "source": [
    "## Guessing..."
   ]
  },
  {
   "cell_type": "code",
   "execution_count": 4,
   "metadata": {
    "scrolled": true
   },
   "outputs": [
    {
     "name": "stdout",
     "output_type": "stream",
     "text": [
      "*** guess_range = (-100, 100.0)\n",
      "low_corr = 1.9021329271394112 , high_corr = 0.9603314464064184\n",
      "*** guess_range = (-100, 0.0)\n",
      "low_corr = 2.1595917395892137 , high_corr = 1.6908259798867893\n",
      "*** guess_range = (-100, -50.0)\n",
      "low_corr = 1.810282059406428 , high_corr = 2.456719027167893\n",
      "*** guess_range = (-75.0, -50.0)\n",
      "low_corr = 2.758483829016159 , high_corr = 2.0993753407504476\n",
      "*** guess_range = (-75.0, -62.5)\n",
      "low_corr = 2.92559782841162 , high_corr = 2.573212178444251\n",
      "*** guess_range = (-75.0, -68.75)\n",
      "low_corr = 2.48999722234911 , high_corr = 3.4532223876892365\n",
      "*** guess_range = (-71.875, -68.75)\n",
      "low_corr = 3.115636601510544 , high_corr = 3.8700982799340133\n",
      "*** guess_range = (-70.3125, -68.75)\n",
      "low_corr = 4.243841533401206 , high_corr = 3.477175095302977\n",
      "*** guess_range = (-70.3125, -69.53125)\n",
      "low_corr = 3.862470341236342 , high_corr = 4.650765614724012\n",
      "*** guess_range = (-69.921875, -69.53125)\n",
      "low_corr = 5.183581473112667 , high_corr = 4.227403635611537\n",
      "*** guess_range = (-69.921875, -69.7265625)\n",
      "low_corr = 4.9597245687913345 , high_corr = 5.289843612207383\n",
      "*** guess_range = (-69.82421875, -69.7265625)\n",
      "low_corr = 5.624526253321036 , high_corr = 4.746213796657318\n",
      "*** guess_range = (-69.82421875, -69.775390625)\n",
      "low_corr = 6.027516618035398 , high_corr = 5.152733590500773\n",
      "*** guess_range = (-69.82421875, -69.7998046875)\n",
      "low_corr = 6.483180721311738 , high_corr = 5.581614270352925\n",
      "*** guess_range = (-69.82421875, -69.81201171875)\n",
      "low_corr = 6.90759600576759 , high_corr = 6.007644790960712\n",
      "*** guess_range = (-69.82421875, -69.818115234375)\n",
      "low_corr = 7.326361091193143 , high_corr = 6.416436321872463\n",
      "*** guess_range = (-69.82421875, -69.8211669921875)\n",
      "low_corr = 7.747616600309602 , high_corr = 7.05779292306964\n",
      "*** guess_range = (-69.82421875, -69.82269287109375)\n",
      "low_corr = 7.2518912443575685 , high_corr = 8.12680305174046\n"
     ]
    }
   ],
   "source": [
    "while (guess_range[1] - guess_range[0]) > prescision:\n",
    "    print('*** guess_range =', guess_range)\n",
    "    range_middle_value = (guess_range[1] + guess_range[0]) / 2.0\n",
    "    sub_ranges = [(guess_range[0], range_middle_value), (range_middle_value, guess_range[1])]\n",
    "    low, high = sub_ranges[0]\n",
    "    guess_val = np.arange(low, high, (high-low)/number_tests)\n",
    "    hw_low = pd.DataFrame(columns=guess_val, index=range(len(known_inputs)))\n",
    "    for x in guess_val:\n",
    "        hw_low[x] = [hamming_weight(x*y) for y in known_inputs]\n",
    "    hw_low['actual'] = [hamming_weight(secret_number*y) for y in known_inputs]\n",
    "\n",
    "    low, high = sub_ranges[1]\n",
    "    guess_val = np.arange(low, high, (high-low)/number_tests)\n",
    "    hw_high = pd.DataFrame(columns=guess_val, index=range(len(known_inputs)))\n",
    "    for x in guess_val:\n",
    "        hw_high[x] = [hamming_weight(x*y) for y in known_inputs]\n",
    "    hw_high['actual'] = [hamming_weight(secret_number*y) for y in known_inputs]\n",
    "\n",
    "    low_corr = hw_low.corr(method='pearson')\n",
    "    high_corr = hw_high.corr(method='pearson')\n",
    "    \n",
    "    a = low_corr['actual'].sum()\n",
    "    b = high_corr['actual'].sum()\n",
    "    print('low_corr =', a,', high_corr =', b)\n",
    "    if a > b:\n",
    "        guess_range = sub_ranges[0]\n",
    "    else:\n",
    "        guess_range = sub_ranges[1]"
   ]
  },
  {
   "cell_type": "markdown",
   "metadata": {},
   "source": [
    "## Result"
   ]
  },
  {
   "cell_type": "code",
   "execution_count": 5,
   "metadata": {},
   "outputs": [
    {
     "name": "stdout",
     "output_type": "stream",
     "text": [
      "the secret number = -69.82314691217954\n",
      "the guessed number = -69.82307434082031\n",
      "error rate = 0.0001 %\n"
     ]
    }
   ],
   "source": [
    "print('the secret number =', secret_number)\n",
    "guessed_number = (guess_range[1] + guess_range[0]) / 2.0\n",
    "print('the guessed number =', guessed_number)\n",
    "error_rate = abs((guessed_number - secret_number) / secret_number) * 100\n",
    "print('error rate = %0.4f' % error_rate, '%')"
   ]
  },
  {
   "cell_type": "code",
   "execution_count": null,
   "metadata": {},
   "outputs": [],
   "source": []
  }
 ],
 "metadata": {
  "kernelspec": {
   "display_name": "Python 3",
   "language": "python",
   "name": "python3"
  },
  "language_info": {
   "codemirror_mode": {
    "name": "ipython",
    "version": 3
   },
   "file_extension": ".py",
   "mimetype": "text/x-python",
   "name": "python",
   "nbconvert_exporter": "python",
   "pygments_lexer": "ipython3",
   "version": "3.7.5"
  }
 },
 "nbformat": 4,
 "nbformat_minor": 4
}
