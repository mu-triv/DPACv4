{
 "cells": [
  {
   "cell_type": "markdown",
   "metadata": {},
   "source": [
    "# Hamming weight and Pearson Correlation\n",
    "\n",
    "We generate a random secret floating number.\n",
    "Then we use hamming weight model to guess the number"
   ]
  },
  {
   "cell_type": "code",
   "execution_count": 1,
   "metadata": {},
   "outputs": [],
   "source": [
    "import numpy as np\n",
    "import pandas as pd\n",
    "import random\n",
    "\n",
    "#\n",
    "# initalize parameter and generate a random number (secret number)\n",
    "guess_range = (-100, 100.0)\n",
    "secret_number = random.uniform(guess_range[0], guess_range[1])\n",
    "prescision = 1e-3"
   ]
  },
  {
   "cell_type": "code",
   "execution_count": 2,
   "metadata": {},
   "outputs": [],
   "source": [
    "import struct\n",
    "\n",
    "def float_to_bin(num):\n",
    "    bits, = struct.unpack('!I', struct.pack('!f', num))\n",
    "    return \"{:032b}\".format(bits)\n",
    "\n",
    "def hamming_weight(num):\n",
    "    return float_to_bin(num).count('1')"
   ]
  },
  {
   "cell_type": "code",
   "execution_count": 3,
   "metadata": {},
   "outputs": [],
   "source": [
    "number_tests = 50\n",
    "known_inputs = np.random.uniform(-1e0, 1e0, 10000)"
   ]
  },
  {
   "cell_type": "markdown",
   "metadata": {},
   "source": [
    "## Guessing..."
   ]
  },
  {
   "cell_type": "code",
   "execution_count": 4,
   "metadata": {
    "scrolled": true
   },
   "outputs": [
    {
     "name": "stdout",
     "output_type": "stream",
     "text": [
      "*** guess_range = (-100, 100.0)\n",
      "low_corr = 2.364726975642291 , high_corr = 6.0302874676216165\n",
      "*** guess_range = (0.0, 100.0)\n",
      "low_corr = 7.991551660678979 , high_corr = 4.084728921175774\n",
      "*** guess_range = (0.0, 50.0)\n",
      "low_corr = 9.288651418099995 , high_corr = 6.68603870934006\n",
      "*** guess_range = (0.0, 25.0)\n",
      "low_corr = 5.248311800605842 , high_corr = 13.392710344005657\n",
      "*** guess_range = (12.5, 25.0)\n",
      "low_corr = 12.655911623835976 , high_corr = 14.134533977763834\n",
      "*** guess_range = (18.75, 25.0)\n",
      "low_corr = 16.488074972938897 , high_corr = 11.717026090176454\n",
      "*** guess_range = (18.75, 21.875)\n",
      "low_corr = 18.414615018084827 , high_corr = 14.547193621576945\n",
      "*** guess_range = (18.75, 20.3125)\n",
      "low_corr = 18.000925641586683 , high_corr = 18.848177617694674\n",
      "*** guess_range = (19.53125, 20.3125)\n",
      "low_corr = 20.780793548637597 , high_corr = 16.935733572348568\n",
      "*** guess_range = (19.53125, 19.921875)\n",
      "low_corr = 22.795210133027943 , high_corr = 18.776832914493834\n",
      "*** guess_range = (19.53125, 19.7265625)\n",
      "low_corr = 24.127314678760108 , high_corr = 21.46134087593333\n",
      "*** guess_range = (19.53125, 19.62890625)\n",
      "low_corr = 22.294307129419074 , high_corr = 26.154680041052504\n",
      "*** guess_range = (19.580078125, 19.62890625)\n",
      "low_corr = 25.05652108198547 , high_corr = 27.11568999667896\n",
      "*** guess_range = (19.6044921875, 19.62890625)\n",
      "low_corr = 28.98087803975656 , high_corr = 25.094352787400577\n",
      "*** guess_range = (19.6044921875, 19.61669921875)\n",
      "low_corr = 27.670914923018827 , high_corr = 30.213478909461255\n",
      "*** guess_range = (19.610595703125, 19.61669921875)\n",
      "low_corr = 32.069365802364004 , high_corr = 28.345256860485204\n",
      "*** guess_range = (19.610595703125, 19.6136474609375)\n",
      "low_corr = 31.18153519847658 , high_corr = 32.923493214445706\n",
      "*** guess_range = (19.61212158203125, 19.6136474609375)\n",
      "low_corr = 34.960043321358 , high_corr = 30.888018702370704\n"
     ]
    }
   ],
   "source": [
    "while (guess_range[1] - guess_range[0]) > prescision:\n",
    "    print('*** guess_range =', guess_range)\n",
    "    range_middle_value = (guess_range[1] + guess_range[0]) / 2.0\n",
    "    sub_ranges = [(guess_range[0], range_middle_value), (range_middle_value, guess_range[1])]\n",
    "    low, high = sub_ranges[0]\n",
    "    guess_val = np.arange(low, high, (high-low)/number_tests)\n",
    "    hw_low = pd.DataFrame(columns=guess_val, index=range(len(known_inputs)))\n",
    "    for x in guess_val:\n",
    "        hw_low[x] = [hamming_weight(x*y) for y in known_inputs]\n",
    "    hw_low['actual'] = [hamming_weight(secret_number*y) for y in known_inputs]\n",
    "\n",
    "    low, high = sub_ranges[1]\n",
    "    guess_val = np.arange(low, high, (high-low)/number_tests)\n",
    "    hw_high = pd.DataFrame(columns=guess_val, index=range(len(known_inputs)))\n",
    "    for x in guess_val:\n",
    "        hw_high[x] = [hamming_weight(x*y) for y in known_inputs]\n",
    "    hw_high['actual'] = [hamming_weight(secret_number*y) for y in known_inputs]\n",
    "\n",
    "    low_corr = hw_low.corr(method='pearson')\n",
    "    high_corr = hw_high.corr(method='pearson')\n",
    "    \n",
    "    a = low_corr['actual'].sum()\n",
    "    b = high_corr['actual'].sum()\n",
    "    print('low_corr =', a,', high_corr =', b)\n",
    "    if a > b:\n",
    "        guess_range = sub_ranges[0]\n",
    "    else:\n",
    "        guess_range = sub_ranges[1]"
   ]
  },
  {
   "cell_type": "markdown",
   "metadata": {},
   "source": [
    "## Result"
   ]
  },
  {
   "cell_type": "code",
   "execution_count": 5,
   "metadata": {},
   "outputs": [
    {
     "name": "stdout",
     "output_type": "stream",
     "text": [
      "secret_number = 19.612317441267408\n",
      "guess_number = 19.612503051757812\n"
     ]
    }
   ],
   "source": [
    "print('secret_number =', secret_number)\n",
    "print('guess_number =', (guess_range[1] + guess_range[0]) / 2.0)"
   ]
  },
  {
   "cell_type": "code",
   "execution_count": null,
   "metadata": {},
   "outputs": [],
   "source": []
  }
 ],
 "metadata": {
  "kernelspec": {
   "display_name": "Python 3",
   "language": "python",
   "name": "python3"
  },
  "language_info": {
   "codemirror_mode": {
    "name": "ipython",
    "version": 3
   },
   "file_extension": ".py",
   "mimetype": "text/x-python",
   "name": "python",
   "nbconvert_exporter": "python",
   "pygments_lexer": "ipython3",
   "version": "3.7.5"
  }
 },
 "nbformat": 4,
 "nbformat_minor": 4
}
