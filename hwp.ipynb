{
 "cells": [
  {
   "cell_type": "markdown",
   "metadata": {},
   "source": [
    "# Hamming weight and Pearson Correlation\n",
    "\n",
    "This notebook demonstrates how to guess a floating number using Hamming Weight model.\n",
    "\n",
    "\n",
    "We generate a random secret floating number. Then we use hamming weight model to guess the number.\n",
    "\n",
    "We develop a method of devide-and-conquer to quickly arrive to a close number with a defined precision."
   ]
  },
  {
   "cell_type": "markdown",
   "metadata": {},
   "source": [
    "## Guessing..."
   ]
  },
  {
   "cell_type": "code",
   "execution_count": 1,
   "metadata": {},
   "outputs": [],
   "source": [
    "import struct\n",
    "import numpy as np\n",
    "import pandas as pd\n",
    "import random\n",
    "from pprint import pprint\n",
    "import hashlib\n",
    "import binascii\n",
    "from guess_range import *"
   ]
  },
  {
   "cell_type": "code",
   "execution_count": 2,
   "metadata": {},
   "outputs": [],
   "source": [
    "def generate_known_inputs(exps=(-1, 3), nsize=3000):\n",
    "    low, high = exps[0], (exps[1] + 1)\n",
    "    subsize = int(nsize / (high - low))\n",
    "    return pd.DataFrame(\n",
    "        data=[np.random.uniform(-10.0 ** i, 10.0 ** i, subsize) for i in range(low, high)],\n",
    "        index=range(low, high))\n",
    "\n",
    "def secret_signature(secret_numbers):\n",
    "    m = hashlib.md5()\n",
    "    m.update(secret_numbers)\n",
    "    a = m.digest()\n",
    "    s = 2\n",
    "    n = [0] * s\n",
    "    for idx in range(len(a)):\n",
    "        i = idx % s\n",
    "        n[i] = (n[i] + a[idx]) % 256\n",
    "    return binascii.hexlify(bytes(n))        "
   ]
  },
  {
   "cell_type": "code",
   "execution_count": 3,
   "metadata": {},
   "outputs": [],
   "source": [
    "def guess_number_range_stat(secret_number, guess_range, prescision, known_input_size=3000):\n",
    "    known_input_set = generate_known_inputs(exps=(-1, 8), nsize=known_input_size)\n",
    "    results = guess_number_range_multiple_inputs(secret_number, guess_range, prescision, known_input_set)\n",
    "    # pprint(results)\n",
    "    #\n",
    "    # discard low correlation results\n",
    "    corr_values = results[CORRELATION]\n",
    "    results = results[corr_values > (corr_values.max() * 0.95)].sort_values(CORRELATION, ascending=False)\n",
    "    guess_values = ((results[LOW_VALUE] + results[HIGH_VALUE]) / 2.0).round(decimals=int(-np.log10(prescision)))\n",
    "    return results[~guess_values.duplicated(keep='first')]"
   ]
  },
  {
   "cell_type": "code",
   "execution_count": 52,
   "metadata": {},
   "outputs": [],
   "source": [
    "SECRET_VALUE = 'secret value'\n",
    "\n",
    "guess_range = (-5e0, 5.0e0)\n",
    "prescision = 1e-8\n",
    "#\n",
    "# initalize parameter and generate a random number (secret number)\n",
    "known_input_size = 5000"
   ]
  },
  {
   "cell_type": "markdown",
   "metadata": {},
   "source": [
    "## Test single point"
   ]
  },
  {
   "cell_type": "code",
   "execution_count": 5,
   "metadata": {},
   "outputs": [],
   "source": [
    "secret_number = random.uniform(guess_range[0] / 10, guess_range[1] / 10) \n",
    "secret_number = -0.001374"
   ]
  },
  {
   "cell_type": "code",
   "execution_count": 6,
   "metadata": {
    "scrolled": false
   },
   "outputs": [
    {
     "name": "stdout",
     "output_type": "stream",
     "text": [
      "-0.001374\n",
      "CPU times: user 49.7 s, sys: 1.29 s, total: 50.9 s\n",
      "Wall time: 50.9 s\n"
     ]
    },
    {
     "data": {
      "text/html": [
       "<div>\n",
       "<style scoped>\n",
       "    .dataframe tbody tr th:only-of-type {\n",
       "        vertical-align: middle;\n",
       "    }\n",
       "\n",
       "    .dataframe tbody tr th {\n",
       "        vertical-align: top;\n",
       "    }\n",
       "\n",
       "    .dataframe thead th {\n",
       "        text-align: right;\n",
       "    }\n",
       "</style>\n",
       "<table border=\"1\" class=\"dataframe\">\n",
       "  <thead>\n",
       "    <tr style=\"text-align: right;\">\n",
       "      <th></th>\n",
       "      <th>low value</th>\n",
       "      <th>high value</th>\n",
       "      <th>correlation</th>\n",
       "    </tr>\n",
       "  </thead>\n",
       "  <tbody>\n",
       "    <tr>\n",
       "      <th>0</th>\n",
       "      <td>-1.406976</td>\n",
       "      <td>-1.406976</td>\n",
       "      <td>0.976540</td>\n",
       "    </tr>\n",
       "    <tr>\n",
       "      <th>2</th>\n",
       "      <td>-2.813952</td>\n",
       "      <td>-2.813952</td>\n",
       "      <td>0.944013</td>\n",
       "    </tr>\n",
       "  </tbody>\n",
       "</table>\n",
       "</div>"
      ],
      "text/plain": [
       "   low value  high value  correlation\n",
       "0  -1.406976   -1.406976     0.976540\n",
       "2  -2.813952   -2.813952     0.944013"
      ]
     },
     "execution_count": 6,
     "metadata": {},
     "output_type": "execute_result"
    }
   ],
   "source": [
    "%%time\n",
    "single_results = guess_number_range_stat(secret_number, guess_range, prescision, known_input_size)\n",
    "print(secret_number)\n",
    "single_results"
   ]
  },
  {
   "cell_type": "code",
   "execution_count": 7,
   "metadata": {
    "scrolled": false
   },
   "outputs": [
    {
     "name": "stdout",
     "output_type": "stream",
     "text": [
      "0    102299.999894\n",
      "2    204700.000127\n",
      "dtype: float64\n",
      "'the secret number = -0.001374'\n",
      "'the guessed number = -1.406976'\n",
      "'best correlation = 0.976540'\n",
      "'error rate = 102299.999894%'\n"
     ]
    }
   ],
   "source": [
    "guess_values = (single_results[LOW_VALUE] + single_results[HIGH_VALUE]) / 2.0\n",
    "error_rates = ((guess_values - secret_number) / secret_number).abs() * 100.0\n",
    "pprint(error_rates)\n",
    "guessed_number = guess_values[error_rates.idxmin()]    \n",
    "pprint('the secret number = %f' % secret_number)\n",
    "pprint('the guessed number = %f' % guessed_number)\n",
    "pprint('best correlation = %f' % single_results[CORRELATION][error_rates.idxmin()])\n",
    "pprint('error rate = %0.6f%s' % (error_rates.min(), '%'))"
   ]
  },
  {
   "cell_type": "markdown",
   "metadata": {},
   "source": [
    "## Test multiple points"
   ]
  },
  {
   "cell_type": "code",
   "execution_count": 8,
   "metadata": {},
   "outputs": [],
   "source": [
    "multiple_results = pd.DataFrame()"
   ]
  },
  {
   "cell_type": "code",
   "execution_count": 9,
   "metadata": {},
   "outputs": [
    {
     "name": "stdout",
     "output_type": "stream",
     "text": [
      "secret_numbers.shape = (100,)\n"
     ]
    }
   ],
   "source": [
    "n_secret_numbers = 100\n",
    "secret_numbers = np.concatenate((\n",
    "    np.random.uniform(guess_range[0], guess_range[1], int(n_secret_numbers*2/4) ),\n",
    "    np.random.uniform(guess_range[0]*3e-1, guess_range[1]*3e-1, int(n_secret_numbers*1/4)),\n",
    "    np.random.uniform(guess_range[0]*1e-1, guess_range[1]*1e-1, int(n_secret_numbers*1/4))\n",
    "))\n",
    "np.random.shuffle(secret_numbers)\n",
    "print('secret_numbers.shape = %s' % (str(secret_numbers.shape)))"
   ]
  },
  {
   "cell_type": "code",
   "execution_count": 10,
   "metadata": {
    "scrolled": true
   },
   "outputs": [
    {
     "name": "stdout",
     "output_type": "stream",
     "text": [
      "'===================='\n",
      "   low value  high value  correlation  secret value\n",
      "2   0.116897    0.116897     0.999754      0.116897\n",
      "8   1.870357    1.870357     0.986933      0.116897\n",
      "'===================='\n",
      "    low value  high value  correlation  secret value\n",
      "-1  -1.225407   -1.225407          1.0     -1.225407\n",
      "'===================='\n",
      "   low value  high value  correlation  secret value\n",
      "1  -0.460877   -0.460877     1.000000     -0.460877\n",
      "0  -1.843506   -1.843506     0.983765     -0.460877\n",
      "4  -3.687012   -3.687012     0.952335     -0.460877\n",
      "'===================='\n",
      "    low value  high value  correlation  secret value\n",
      " 1   0.145472    0.145472     1.000000      0.145472\n",
      "-1   2.327559    2.327559     0.982696      0.145472\n",
      " 8   4.655118    4.655118     0.958856      0.145472\n",
      "'===================='\n",
      "    low value  high value  correlation  secret value\n",
      "-1  -4.233629   -4.233629          1.0     -4.233629\n",
      "'===================='\n",
      "   low value  high value  correlation  secret value\n",
      "0   2.617823    2.617823          1.0      2.617823\n",
      "'===================='\n",
      "    low value  high value  correlation  secret value\n",
      " 0  -1.181232   -1.181232     1.000000     -1.181232\n",
      "-1  -4.724927   -4.724927     0.980327     -1.181232\n",
      " 2  -4.724927   -4.724927     0.970867     -1.181232\n",
      "'===================='\n",
      "   low value  high value  correlation  secret value\n",
      "1  -0.497321   -0.497321     1.000000     -0.497321\n",
      "8  -0.497321   -0.497321     1.000000     -0.497321\n",
      "0  -1.989282   -1.989282     0.984262     -0.497321\n",
      "'===================='\n",
      "   low value  high value  correlation  secret value\n",
      "1  -0.439866   -0.439866     1.000000     -0.439866\n",
      "0  -1.759463   -1.759463     0.983685     -0.439866\n",
      "4  -3.518926   -3.518926     0.958600     -0.439866\n",
      "'===================='\n",
      "   low value  high value  correlation  secret value\n",
      "2  -0.132729   -0.132729     1.000000     -0.132729\n",
      "8  -2.123669   -2.123669     0.989346     -0.132729\n",
      "'===================='\n",
      "   low value  high value  correlation  secret value\n",
      "1   0.284864    0.284864     1.000000      0.284864\n",
      "8   4.557821    4.557821     0.993196      0.284864\n",
      "'===================='\n",
      "    low value  high value  correlation  secret value\n",
      "-1  -1.411125   -1.411125          1.0     -1.411125\n",
      " 5  -1.411125   -1.411125          1.0     -1.411125\n",
      "'===================='\n",
      "   low value  high value  correlation  secret value\n",
      "0   0.812013    0.812013          1.0      0.812013\n",
      "'===================='\n",
      "    low value  high value  correlation  secret value\n",
      "-1  -3.322822   -3.322822          1.0     -3.322822\n",
      " 0  -3.322822   -3.322822          1.0     -3.322822\n",
      "'===================='\n",
      "   low value  high value  correlation  secret value\n",
      "2   0.576037    0.576037      1.00000      0.576037\n",
      "4   2.304149    2.304149      0.97627      0.576037\n",
      "'===================='\n",
      "   low value  high value  correlation  secret value\n",
      "1  -0.306476   -0.306476     1.000000     -0.306476\n",
      "8  -4.903617   -4.903617     0.994700     -0.306476\n",
      "5  -1.225904   -1.225904     0.984765     -0.306476\n",
      "'===================='\n",
      "   low value  high value  correlation  secret value\n",
      "2   0.678432    0.678432     1.000000      0.678432\n",
      "4   2.713727    2.713727     0.977882      0.678432\n",
      "'===================='\n",
      "    low value  high value  correlation  secret value\n",
      "-1   1.425669    1.425669          1.0      1.425669\n",
      "'===================='\n",
      "    low value  high value  correlation  secret value\n",
      "-1  -0.499236   -0.499236     1.000000     -0.499236\n",
      " 0  -1.996944   -1.996944     0.985859     -0.499236\n",
      " 5  -0.124809   -0.124809     0.976761     -0.499236\n",
      "'===================='\n",
      "    low value  high value  correlation  secret value\n",
      "-1   0.412687    0.412687          1.0      0.412687\n",
      "'===================='\n",
      "    low value  high value  correlation  secret value\n",
      "-1   3.023661    3.023661          1.0      3.023661\n",
      "'===================='\n",
      "    low value  high value  correlation  secret value\n",
      " 0  -1.195076   -1.195076     1.000000     -1.195076\n",
      "-1  -4.780302   -4.780302     0.977948     -1.195076\n",
      "'===================='\n",
      "   low value  high value  correlation  secret value\n",
      "0  -2.244383   -2.244383     1.000000     -2.244383\n",
      "2  -4.488766   -4.488766     0.952051     -2.244383\n",
      "'===================='\n",
      "   low value  high value  correlation  secret value\n",
      "2   0.180273    0.180273     1.000000      0.180273\n",
      "8   2.884361    2.884361     0.991721      0.180273\n",
      "7   2.884361    2.884361     0.977592      0.180273\n",
      "'===================='\n",
      "   low value  high value  correlation  secret value\n",
      "1   0.841209    0.841209     1.000000      0.841209\n",
      "7   3.364836    3.364836     0.983026      0.841209\n",
      "'===================='\n",
      "    low value  high value  correlation  secret value\n",
      "-1   2.812736    2.812736          1.0      2.812736\n",
      "'===================='\n",
      "   low value  high value  correlation  secret value\n",
      "1  -0.260491   -0.260491     1.000000     -0.260491\n",
      "8  -4.167860   -4.167860     0.993936     -0.260491\n",
      "'===================='\n",
      "   low value  high value  correlation  secret value\n",
      "1   -3.15903    -3.15903          1.0      -3.15903\n",
      "'===================='\n",
      "    low value  high value  correlation  secret value\n",
      "-1  -3.972196   -3.972196          1.0     -3.972196\n",
      "'===================='\n",
      "   low value  high value  correlation  secret value\n",
      "1   -0.40468    -0.40468          1.0      -0.40468\n",
      "'===================='\n",
      "   low value  high value  correlation  secret value\n",
      "1  -0.482530   -0.482530     1.000000      -0.48253\n",
      "0  -1.930119   -1.930119     0.985259      -0.48253\n",
      "4  -3.860238   -3.860238     0.959413      -0.48253\n",
      "'===================='\n",
      "    low value  high value  correlation  secret value\n",
      " 2   0.036604    0.036604     1.000000      0.036604\n",
      " 8   2.342626    2.342626     0.966255      0.036604\n",
      "-1   4.685251    4.685251     0.954223      0.036604\n",
      "'===================='\n",
      "   low value  high value  correlation  secret value\n",
      "2   0.115002    0.115002     0.999887      0.115002\n",
      "0   1.840039    1.840039     0.992878      0.115002\n",
      "8   0.460010    0.460010     0.951515      0.115002\n",
      "'===================='\n",
      "   low value  high value  correlation  secret value\n",
      "0  -0.782280   -0.782280     1.000000      -0.78228\n",
      "4  -3.129118   -3.129118     0.980066      -0.78228\n",
      "'===================='\n",
      "    low value  high value  correlation  secret value\n",
      "-1   4.227189    4.227189          1.0      4.227189\n",
      " 5   4.227189    4.227189          1.0      4.227189\n",
      "'===================='\n",
      "   low value  high value  correlation  secret value\n",
      "1   1.045823    1.045823     1.000000      1.045823\n",
      "4   4.183291    4.183291     0.979481      1.045823\n",
      "'===================='\n",
      "   low value  high value  correlation  secret value\n",
      "3  -0.169025   -0.169025     1.000000     -0.169025\n",
      "8  -2.704408   -2.704408     0.991605     -0.169025\n",
      "5  -0.676102   -0.676102     0.980079     -0.169025\n",
      "'===================='\n",
      "   low value  high value  correlation  secret value\n",
      "0  -2.340698   -2.340698      0.93061     -2.340698\n",
      "'===================='\n",
      "    low value  high value  correlation  secret value\n",
      "-1  -2.541539   -2.541539          1.0     -2.541539\n",
      "'===================='\n",
      "    low value  high value  correlation  secret value\n",
      "-1   0.901264    0.901264     1.000000      0.901264\n",
      " 7   3.605055    3.605055     0.973182      0.901264\n",
      "'===================='\n",
      "    low value  high value  correlation  secret value\n",
      "-1  -1.324524   -1.324524          1.0     -1.324524\n",
      "'===================='\n",
      "    low value  high value  correlation  secret value\n",
      " 0  -0.838630   -0.838630     1.000000      -0.83863\n",
      " 7  -3.354519   -3.354519     0.983355      -0.83863\n",
      "-1  -3.354519   -3.354519     0.970437      -0.83863\n",
      "'===================='\n",
      "    low value  high value  correlation  secret value\n",
      " 0   1.093243    1.093243     1.000000      1.093243\n",
      "-1   4.372973    4.372973     0.979649      1.093243\n",
      "'===================='\n",
      "    low value  high value  correlation  secret value\n",
      " 2  -0.071605   -0.071605     1.000000     -0.071605\n",
      " 0  -1.145675   -1.145675     0.993668     -0.071605\n",
      "-1  -4.582701   -4.582701     0.982301     -0.071605\n",
      "'===================='\n",
      "    low value  high value  correlation  secret value\n",
      "-1    2.44683     2.44683          1.0       2.44683\n",
      "'===================='\n",
      "    low value  high value  correlation  secret value\n",
      "-1    4.16242    4.162421          1.0       4.16242\n"
     ]
    },
    {
     "name": "stdout",
     "output_type": "stream",
     "text": [
      "'===================='\n",
      "    low value  high value  correlation  secret value\n",
      "-1  -1.236503   -1.236503          1.0     -1.236503\n",
      "'===================='\n",
      "    low value  high value  correlation  secret value\n",
      "-1  -3.573372   -3.573372          1.0     -3.573372\n",
      "'===================='\n",
      "   low value  high value  correlation  secret value\n",
      "1   0.372239    0.372239      1.00000      0.372239\n",
      "0   1.488956    1.488956      0.98058      0.372239\n",
      "'===================='\n",
      "   low value  high value  correlation  secret value\n",
      "1  -1.189267   -1.189267      1.00000     -1.189267\n",
      "4  -4.757066   -4.757066      0.97523     -1.189267\n",
      "'===================='\n",
      "    low value  high value  correlation  secret value\n",
      "-1   1.284135    1.284135          1.0      1.284135\n",
      "'===================='\n",
      "    low value  high value  correlation  secret value\n",
      "-1  -2.748031   -2.748031     1.000000     -2.748031\n",
      " 4  -0.171752   -0.171752     0.984502     -2.748031\n",
      "'===================='\n",
      "    low value  high value  correlation  secret value\n",
      "-1  -1.333665   -1.333665          1.0     -1.333665\n",
      "'===================='\n",
      "   low value  high value  correlation  secret value\n",
      "2   0.082832    0.082832     0.999642      0.082832\n",
      "5   1.325317    1.325317     0.992297      0.082832\n",
      "'===================='\n",
      "    low value  high value  correlation  secret value\n",
      " 0  -0.538048   -0.538048     1.000000     -0.538048\n",
      "-1  -2.152192   -2.152192     0.966931     -0.538048\n",
      "'===================='\n",
      "   low value  high value  correlation  secret value\n",
      "0   3.691907    3.691907     1.000000      3.691907\n",
      "4   0.922977    0.922977     0.977418      3.691907\n",
      "'===================='\n",
      "    low value  high value  correlation  secret value\n",
      " 2  -0.095132   -0.095132     1.000000     -0.095132\n",
      " 0  -1.522112   -1.522112     0.992968     -0.095132\n",
      "-1  -1.522112   -1.522112     0.987120     -0.095132\n",
      "'===================='\n",
      "    low value  high value  correlation  secret value\n",
      "-1  -4.682761   -4.682761          1.0     -4.682761\n",
      "'===================='\n",
      "   low value  high value  correlation  secret value\n",
      "0  -2.508634   -2.508634      1.00000     -2.508634\n",
      "2  -1.254317   -1.254317      0.95656     -2.508634\n",
      "'===================='\n",
      "   low value  high value  correlation  secret value\n",
      "1  -0.746955   -0.746955     1.000000     -0.746955\n",
      "7  -2.987822   -2.987822     0.981391     -0.746955\n",
      "0  -1.493911   -1.493911     0.965169     -0.746955\n",
      "'===================='\n",
      "    low value  high value  correlation  secret value\n",
      " 2  -2.101817   -2.101817     1.000000     -2.101817\n",
      "-1  -0.131364   -0.131364     0.981775     -2.101817\n",
      "'===================='\n",
      "   low value  high value  correlation  secret value\n",
      "2  -0.130656   -0.130656     1.000000     -0.130656\n",
      "8  -2.090499   -2.090499     0.985233     -0.130656\n",
      "'===================='\n",
      "    low value  high value  correlation  secret value\n",
      "-1   3.161555    3.161555          1.0      3.161555\n",
      "'===================='\n",
      "    low value  high value  correlation  secret value\n",
      "-1   3.704574    3.704574          1.0      3.704574\n",
      "'===================='\n",
      "    low value  high value  correlation  secret value\n",
      " 0  -3.899252   -3.899252     1.000000     -3.899252\n",
      " 8  -3.899252   -3.899252     1.000000     -3.899252\n",
      " 4  -0.243703   -0.243703     0.988042     -3.899252\n",
      "-1  -0.060926   -0.060926     0.978087     -3.899252\n",
      "'===================='\n",
      "    low value  high value  correlation  secret value\n",
      " 0  -1.174443   -1.174443     1.000000     -1.174443\n",
      "-1  -4.697770   -4.697770     0.980386     -1.174443\n",
      "'===================='\n",
      "   low value  high value  correlation  secret value\n",
      "8   2.487528    2.487528     0.989138       0.15547\n",
      "'===================='\n",
      "    low value  high value  correlation  secret value\n",
      "-1  -1.254852   -1.254852     1.000000     -1.254852\n",
      " 7  -0.627426   -0.627426     0.959243     -1.254852\n",
      "'===================='\n",
      "    low value  high value  correlation  secret value\n",
      " 3  -1.069248   -1.069248     1.000000     -1.069248\n",
      "-1  -4.276994   -4.276994     0.978288     -1.069248\n",
      "'===================='\n",
      "    low value  high value  correlation  secret value\n",
      " 1  -1.122031   -1.122031     1.000000     -1.122031\n",
      "-1  -4.488124   -4.488124     0.980560     -1.122031\n",
      " 2  -4.488124   -4.488124     0.962708     -1.122031\n",
      "'===================='\n",
      "    low value  high value  correlation  secret value\n",
      "-1   1.875945    1.875945          1.0      1.875945\n",
      "'===================='\n",
      "    low value  high value  correlation  secret value\n",
      "-1  -1.859454   -1.859454          1.0     -1.859454\n",
      "'===================='\n",
      "   low value  high value  correlation  secret value\n",
      "1   0.455124    0.455124     1.000000      0.455124\n",
      "0   1.820494    1.820494     0.981256      0.455124\n",
      "'===================='\n",
      "   low value  high value  correlation  secret value\n",
      "0   0.450211    0.450211          1.0      0.450211\n",
      "'===================='\n",
      "   low value  high value  correlation  secret value\n",
      "5  -0.521191   -0.521191     1.000000     -0.521191\n",
      "7  -2.084763   -2.084763     0.971217     -0.521191\n",
      "'===================='\n",
      "    low value  high value  correlation  secret value\n",
      " 0  -0.483626   -0.483626     1.000000     -0.483626\n",
      " 7  -1.934504   -1.934504     0.971526     -0.483626\n",
      "-1  -1.934504   -1.934504     0.964277     -0.483626\n",
      " 4  -3.869008   -3.869008     0.954157     -0.483626\n",
      "'===================='\n",
      "   low value  high value  correlation  secret value\n",
      "1   0.323083    0.323083     1.000000      0.323083\n",
      "5   1.292331    1.292331     0.982784      0.323083\n",
      "'===================='\n",
      "   low value  high value  correlation  secret value\n",
      "1  -4.400261   -4.400261     1.000000     -4.400261\n",
      "6  -0.017189   -0.017189     0.996621     -4.400261\n",
      "'===================='\n",
      "   low value  high value  correlation  secret value\n",
      "3   0.425289    0.425289     1.000000      0.425289\n",
      "0   1.701154    1.701154     0.982243      0.425289\n",
      "'===================='\n",
      "    low value  high value  correlation  secret value\n",
      " 1  -0.999225   -0.999225     1.000000     -0.999225\n",
      "-1  -0.062452   -0.062452     0.995137     -0.999225\n",
      " 0  -0.003903   -0.003903     0.989046     -0.999225\n",
      " 7  -3.996902   -3.996902     0.955236     -0.999225\n",
      "'===================='\n",
      "    low value  high value  correlation  secret value\n",
      "-1  -3.099076   -3.099076          1.0     -3.099076\n",
      "'===================='\n",
      "   low value  high value  correlation  secret value\n",
      "0   4.622039    4.622039     1.000000      4.622039\n",
      "1   4.622039    4.622039     0.999861      4.622039\n",
      "'===================='\n",
      "   low value  high value  correlation  secret value\n",
      "2  -0.216699   -0.216699     1.000000     -0.216699\n",
      "8  -3.467180   -3.467180     0.994027     -0.216699\n",
      "'===================='\n",
      "    low value  high value  correlation  secret value\n",
      "-1   2.459799    2.459799          1.0      2.459799\n",
      "'===================='\n",
      "    low value  high value  correlation  secret value\n",
      "-1  -4.625488   -4.625488          1.0     -4.625488\n",
      "'===================='\n",
      "    low value  high value  correlation  secret value\n",
      "-1  -4.763726   -4.763726          1.0     -4.763726\n",
      "'===================='\n",
      "    low value  high value  correlation  secret value\n",
      "-1  -1.703852   -1.703852     1.000000     -1.703852\n",
      " 0  -0.006656   -0.006656     0.987019     -1.703852\n",
      " 2  -3.407704   -3.407704     0.950025     -1.703852\n",
      "'===================='\n",
      "    low value  high value  correlation  secret value\n",
      "-1  -2.806141   -2.806141     1.000000     -2.806141\n",
      " 7  -0.010961   -0.010961     0.996028     -2.806141\n",
      " 8  -0.175384   -0.175384     0.990818     -2.806141\n",
      "'===================='\n",
      "    low value  high value  correlation  secret value\n",
      "-1   0.319017    0.319017     1.000000      0.319017\n",
      " 8   2.552134    2.552134     0.951036      0.319017\n",
      "'===================='\n",
      "    low value  high value  correlation  secret value\n",
      "-1   2.149043    2.149043          1.0      2.149043\n",
      "'===================='\n",
      "   low value  high value  correlation  secret value\n",
      "1  -0.292550   -0.292550     1.000000      -0.29255\n",
      "8  -4.680798   -4.680798     0.992598      -0.29255\n",
      "5  -1.170199   -1.170199     0.980971      -0.29255\n",
      "'===================='\n",
      "   low value  high value  correlation  secret value\n",
      "2  -0.293224   -0.293224     1.000000     -0.293224\n",
      "8  -4.691579   -4.691579     0.994288     -0.293224\n",
      "'===================='\n",
      "    low value  high value  correlation  secret value\n",
      "-1  -2.371101   -2.371101     1.000000     -2.371101\n",
      " 8  -4.742202   -4.742202     0.957314     -2.371101\n"
     ]
    },
    {
     "name": "stdout",
     "output_type": "stream",
     "text": [
      "'===================='\n",
      "    low value  high value  correlation  secret value\n",
      "-1  -1.334768   -1.334768          1.0     -1.334768\n",
      "'===================='\n",
      "    low value  high value  correlation  secret value\n",
      "-1  -3.429919   -3.429919     0.998625     -0.013398\n",
      " 3  -0.013398   -0.013398     0.998054     -0.013398\n",
      "'===================='\n",
      "   low value  high value  correlation  secret value\n",
      "0  -0.730307   -0.730307     1.000000     -0.730307\n",
      "7  -2.921229   -2.921229     0.979108     -0.730307\n",
      "'===================='\n",
      "    low value  high value  correlation  secret value\n",
      "-1  -0.111789   -0.111789     1.000000     -0.111789\n",
      " 0  -1.788630   -1.788630     0.994453     -0.111789\n",
      "'===================='\n",
      "   low value  high value  correlation  secret value\n",
      "1  -4.576267   -4.576267          1.0     -4.576267\n",
      "2  -4.576267   -4.576267          1.0     -4.576267\n",
      "'===================='\n",
      "    low value  high value  correlation  secret value\n",
      " 1  -1.194383   -1.194383     1.000000     -1.194383\n",
      "-1  -4.777534   -4.777534     0.981075     -1.194383\n",
      "'===================='\n",
      "    low value  high value  correlation  secret value\n",
      " 0  -1.007541   -1.007541     1.000000     -1.007541\n",
      "-1  -4.030164   -4.030164     0.979109     -1.007541\n",
      "CPU times: user 1h 18min 24s, sys: 59.6 s, total: 1h 19min 24s\n",
      "Wall time: 1h 19min 24s\n"
     ]
    }
   ],
   "source": [
    "%%time\n",
    "loops = 0\n",
    "for idx in secret_numbers:\n",
    "    # if the number is already treated, the ignore it\n",
    "    if (SECRET_VALUE in multiple_results.columns) and (idx in multiple_results[SECRET_VALUE].values):\n",
    "        continue    \n",
    "    results = guess_number_range_stat(idx, guess_range, prescision, known_input_size)\n",
    "    results[SECRET_VALUE] = idx\n",
    "    pprint('=' * 20)\n",
    "    pprint(results)\n",
    "    guess_values = (results[LOW_VALUE] + results[HIGH_VALUE]) / 2.0\n",
    "    multiple_results = pd.concat([multiple_results, results], axis=0, ignore_index=True)\n",
    "    loops = loops + 1"
   ]
  },
  {
   "cell_type": "markdown",
   "metadata": {},
   "source": [
    "### Save data"
   ]
  },
  {
   "cell_type": "code",
   "execution_count": 11,
   "metadata": {},
   "outputs": [
    {
     "name": "stdout",
     "output_type": "stream",
     "text": [
      "'multiple_results_fname = multiple_results-20200524_cc0c.csv'\n"
     ]
    }
   ],
   "source": [
    "from datetime import datetime\n",
    "multiple_results_fname = 'multiple_results-%s_%s.csv' % (datetime.now().strftime(\"%Y%m%d\"), secret_signature(secret_numbers).decode('utf8'))\n",
    "multiple_results.to_csv(multiple_results_fname)\n",
    "pprint('multiple_results_fname = %s' % multiple_results_fname)"
   ]
  },
  {
   "cell_type": "markdown",
   "metadata": {},
   "source": [
    "### Load data"
   ]
  },
  {
   "cell_type": "code",
   "execution_count": 12,
   "metadata": {},
   "outputs": [
    {
     "data": {
      "text/html": [
       "<div>\n",
       "<style scoped>\n",
       "    .dataframe tbody tr th:only-of-type {\n",
       "        vertical-align: middle;\n",
       "    }\n",
       "\n",
       "    .dataframe tbody tr th {\n",
       "        vertical-align: top;\n",
       "    }\n",
       "\n",
       "    .dataframe thead th {\n",
       "        text-align: right;\n",
       "    }\n",
       "</style>\n",
       "<table border=\"1\" class=\"dataframe\">\n",
       "  <thead>\n",
       "    <tr style=\"text-align: right;\">\n",
       "      <th></th>\n",
       "      <th>low value</th>\n",
       "      <th>high value</th>\n",
       "      <th>correlation</th>\n",
       "      <th>secret value</th>\n",
       "    </tr>\n",
       "  </thead>\n",
       "  <tbody>\n",
       "    <tr>\n",
       "      <th>0</th>\n",
       "      <td>0.116897</td>\n",
       "      <td>0.116897</td>\n",
       "      <td>0.999754</td>\n",
       "      <td>0.116897</td>\n",
       "    </tr>\n",
       "    <tr>\n",
       "      <th>1</th>\n",
       "      <td>1.870357</td>\n",
       "      <td>1.870357</td>\n",
       "      <td>0.986933</td>\n",
       "      <td>0.116897</td>\n",
       "    </tr>\n",
       "    <tr>\n",
       "      <th>2</th>\n",
       "      <td>-1.225407</td>\n",
       "      <td>-1.225407</td>\n",
       "      <td>1.000000</td>\n",
       "      <td>-1.225407</td>\n",
       "    </tr>\n",
       "    <tr>\n",
       "      <th>3</th>\n",
       "      <td>-0.460877</td>\n",
       "      <td>-0.460877</td>\n",
       "      <td>1.000000</td>\n",
       "      <td>-0.460877</td>\n",
       "    </tr>\n",
       "    <tr>\n",
       "      <th>4</th>\n",
       "      <td>-1.843506</td>\n",
       "      <td>-1.843506</td>\n",
       "      <td>0.983765</td>\n",
       "      <td>-0.460877</td>\n",
       "    </tr>\n",
       "    <tr>\n",
       "      <th>...</th>\n",
       "      <td>...</td>\n",
       "      <td>...</td>\n",
       "      <td>...</td>\n",
       "      <td>...</td>\n",
       "    </tr>\n",
       "    <tr>\n",
       "      <th>188</th>\n",
       "      <td>-4.576267</td>\n",
       "      <td>-4.576267</td>\n",
       "      <td>1.000000</td>\n",
       "      <td>-4.576267</td>\n",
       "    </tr>\n",
       "    <tr>\n",
       "      <th>189</th>\n",
       "      <td>-1.194383</td>\n",
       "      <td>-1.194383</td>\n",
       "      <td>1.000000</td>\n",
       "      <td>-1.194383</td>\n",
       "    </tr>\n",
       "    <tr>\n",
       "      <th>190</th>\n",
       "      <td>-4.777534</td>\n",
       "      <td>-4.777534</td>\n",
       "      <td>0.981075</td>\n",
       "      <td>-1.194383</td>\n",
       "    </tr>\n",
       "    <tr>\n",
       "      <th>191</th>\n",
       "      <td>-1.007541</td>\n",
       "      <td>-1.007541</td>\n",
       "      <td>1.000000</td>\n",
       "      <td>-1.007541</td>\n",
       "    </tr>\n",
       "    <tr>\n",
       "      <th>192</th>\n",
       "      <td>-4.030164</td>\n",
       "      <td>-4.030164</td>\n",
       "      <td>0.979109</td>\n",
       "      <td>-1.007541</td>\n",
       "    </tr>\n",
       "  </tbody>\n",
       "</table>\n",
       "<p>193 rows × 4 columns</p>\n",
       "</div>"
      ],
      "text/plain": [
       "     low value  high value  correlation  secret value\n",
       "0     0.116897    0.116897     0.999754      0.116897\n",
       "1     1.870357    1.870357     0.986933      0.116897\n",
       "2    -1.225407   -1.225407     1.000000     -1.225407\n",
       "3    -0.460877   -0.460877     1.000000     -0.460877\n",
       "4    -1.843506   -1.843506     0.983765     -0.460877\n",
       "..         ...         ...          ...           ...\n",
       "188  -4.576267   -4.576267     1.000000     -4.576267\n",
       "189  -1.194383   -1.194383     1.000000     -1.194383\n",
       "190  -4.777534   -4.777534     0.981075     -1.194383\n",
       "191  -1.007541   -1.007541     1.000000     -1.007541\n",
       "192  -4.030164   -4.030164     0.979109     -1.007541\n",
       "\n",
       "[193 rows x 4 columns]"
      ]
     },
     "execution_count": 12,
     "metadata": {},
     "output_type": "execute_result"
    }
   ],
   "source": [
    "# multiple_results_fname = 'multiple_results-20200523_011136.csv'\n",
    "multiple_results = pd.read_csv(multiple_results_fname, index_col=0)\n",
    "multiple_results"
   ]
  },
  {
   "cell_type": "markdown",
   "metadata": {},
   "source": [
    "### Hit targets and missed targets"
   ]
  },
  {
   "cell_type": "code",
   "execution_count": 53,
   "metadata": {},
   "outputs": [
    {
     "name": "stdout",
     "output_type": "stream",
     "text": [
      "'The number of identified values: 97/100'\n",
      "'The number of missed values: 3/100'\n"
     ]
    }
   ],
   "source": [
    "#\n",
    "# compute the number of secret values which are present in guessed ranges\n",
    "n_identified_ranges = multiple_results.groupby(SECRET_VALUE).apply(lambda x: ((x[LOW_VALUE]<=x[SECRET_VALUE]) & (x[SECRET_VALUE]<=x[HIGH_VALUE])).any())\n",
    "counts = n_identified_ranges.value_counts()\n",
    "if True in counts.index:\n",
    "    pprint('The number of identified values: %d/%d' % (counts[True], counts.sum()))\n",
    "if False in counts.index:\n",
    "    pprint('The number of missed values: %d/%d' % (counts[False], counts.sum()))"
   ]
  },
  {
   "cell_type": "code",
   "execution_count": 14,
   "metadata": {},
   "outputs": [
    {
     "data": {
      "text/html": [
       "<div>\n",
       "<style scoped>\n",
       "    .dataframe tbody tr th:only-of-type {\n",
       "        vertical-align: middle;\n",
       "    }\n",
       "\n",
       "    .dataframe tbody tr th {\n",
       "        vertical-align: top;\n",
       "    }\n",
       "\n",
       "    .dataframe thead th {\n",
       "        text-align: right;\n",
       "    }\n",
       "</style>\n",
       "<table border=\"1\" class=\"dataframe\">\n",
       "  <thead>\n",
       "    <tr style=\"text-align: right;\">\n",
       "      <th></th>\n",
       "      <th>low value</th>\n",
       "      <th>high value</th>\n",
       "      <th>correlation</th>\n",
       "      <th>secret value</th>\n",
       "      <th>guess_values</th>\n",
       "      <th>error_rate</th>\n",
       "    </tr>\n",
       "  </thead>\n",
       "  <tbody>\n",
       "    <tr>\n",
       "      <th>163</th>\n",
       "      <td>-4.763726</td>\n",
       "      <td>-4.763726</td>\n",
       "      <td>1.000000</td>\n",
       "      <td>-4.763726</td>\n",
       "      <td>-4.763726</td>\n",
       "      <td>6.592401e-11</td>\n",
       "    </tr>\n",
       "    <tr>\n",
       "      <th>142</th>\n",
       "      <td>-0.483626</td>\n",
       "      <td>-0.483626</td>\n",
       "      <td>1.000000</td>\n",
       "      <td>-0.483626</td>\n",
       "      <td>-0.483626</td>\n",
       "      <td>7.049916e-11</td>\n",
       "    </tr>\n",
       "    <tr>\n",
       "      <th>110</th>\n",
       "      <td>-2.508634</td>\n",
       "      <td>-2.508634</td>\n",
       "      <td>1.000000</td>\n",
       "      <td>-2.508634</td>\n",
       "      <td>-2.508634</td>\n",
       "      <td>7.118483e-11</td>\n",
       "    </tr>\n",
       "    <tr>\n",
       "      <th>55</th>\n",
       "      <td>-3.972196</td>\n",
       "      <td>-3.972196</td>\n",
       "      <td>1.000000</td>\n",
       "      <td>-3.972196</td>\n",
       "      <td>-3.972196</td>\n",
       "      <td>1.301764e-10</td>\n",
       "    </tr>\n",
       "    <tr>\n",
       "      <th>104</th>\n",
       "      <td>3.691907</td>\n",
       "      <td>3.691907</td>\n",
       "      <td>1.000000</td>\n",
       "      <td>3.691907</td>\n",
       "      <td>3.691907</td>\n",
       "      <td>1.330725e-10</td>\n",
       "    </tr>\n",
       "    <tr>\n",
       "      <th>...</th>\n",
       "      <td>...</td>\n",
       "      <td>...</td>\n",
       "      <td>...</td>\n",
       "      <td>...</td>\n",
       "      <td>...</td>\n",
       "      <td>...</td>\n",
       "    </tr>\n",
       "    <tr>\n",
       "      <th>60</th>\n",
       "      <td>0.036604</td>\n",
       "      <td>0.036604</td>\n",
       "      <td>1.000000</td>\n",
       "      <td>0.036604</td>\n",
       "      <td>0.036604</td>\n",
       "      <td>4.511488e-08</td>\n",
       "    </tr>\n",
       "    <tr>\n",
       "      <th>85</th>\n",
       "      <td>-0.071605</td>\n",
       "      <td>-0.071605</td>\n",
       "      <td>1.000000</td>\n",
       "      <td>-0.071605</td>\n",
       "      <td>-0.071605</td>\n",
       "      <td>5.191014e-08</td>\n",
       "    </tr>\n",
       "    <tr>\n",
       "      <th>75</th>\n",
       "      <td>-2.340698</td>\n",
       "      <td>-2.340698</td>\n",
       "      <td>0.930610</td>\n",
       "      <td>-2.340698</td>\n",
       "      <td>-2.340698</td>\n",
       "      <td>9.535532e-08</td>\n",
       "    </tr>\n",
       "    <tr>\n",
       "      <th>127</th>\n",
       "      <td>2.487528</td>\n",
       "      <td>2.487528</td>\n",
       "      <td>0.989138</td>\n",
       "      <td>0.155470</td>\n",
       "      <td>2.487528</td>\n",
       "      <td>1.500000e+01</td>\n",
       "    </tr>\n",
       "    <tr>\n",
       "      <th>181</th>\n",
       "      <td>-3.429919</td>\n",
       "      <td>-3.429919</td>\n",
       "      <td>0.998625</td>\n",
       "      <td>-0.013398</td>\n",
       "      <td>-3.429919</td>\n",
       "      <td>2.550000e+02</td>\n",
       "    </tr>\n",
       "  </tbody>\n",
       "</table>\n",
       "<p>100 rows × 6 columns</p>\n",
       "</div>"
      ],
      "text/plain": [
       "     low value  high value  correlation  secret value  guess_values  \\\n",
       "163  -4.763726   -4.763726     1.000000     -4.763726     -4.763726   \n",
       "142  -0.483626   -0.483626     1.000000     -0.483626     -0.483626   \n",
       "110  -2.508634   -2.508634     1.000000     -2.508634     -2.508634   \n",
       "55   -3.972196   -3.972196     1.000000     -3.972196     -3.972196   \n",
       "104   3.691907    3.691907     1.000000      3.691907      3.691907   \n",
       "..         ...         ...          ...           ...           ...   \n",
       "60    0.036604    0.036604     1.000000      0.036604      0.036604   \n",
       "85   -0.071605   -0.071605     1.000000     -0.071605     -0.071605   \n",
       "75   -2.340698   -2.340698     0.930610     -2.340698     -2.340698   \n",
       "127   2.487528    2.487528     0.989138      0.155470      2.487528   \n",
       "181  -3.429919   -3.429919     0.998625     -0.013398     -3.429919   \n",
       "\n",
       "       error_rate  \n",
       "163  6.592401e-11  \n",
       "142  7.049916e-11  \n",
       "110  7.118483e-11  \n",
       "55   1.301764e-10  \n",
       "104  1.330725e-10  \n",
       "..            ...  \n",
       "60   4.511488e-08  \n",
       "85   5.191014e-08  \n",
       "75   9.535532e-08  \n",
       "127  1.500000e+01  \n",
       "181  2.550000e+02  \n",
       "\n",
       "[100 rows x 6 columns]"
      ]
     },
     "execution_count": 14,
     "metadata": {},
     "output_type": "execute_result"
    }
   ],
   "source": [
    "df = multiple_results.loc[multiple_results.groupby(SECRET_VALUE)[CORRELATION].idxmax()]\n",
    "df['guess_values'] = (df[LOW_VALUE] + df[HIGH_VALUE]) / 2.0\n",
    "df['error_rate'] = ((df['guess_values'] - df[SECRET_VALUE])/df[SECRET_VALUE]).abs()\n",
    "df.sort_values('error_rate')"
   ]
  },
  {
   "cell_type": "markdown",
   "metadata": {},
   "source": [
    "### Graphs of the first choices"
   ]
  },
  {
   "cell_type": "code",
   "execution_count": 54,
   "metadata": {},
   "outputs": [
    {
     "data": {
      "text/plain": [
       "True     86\n",
       "False    14\n",
       "dtype: int64"
      ]
     },
     "execution_count": 54,
     "metadata": {},
     "output_type": "execute_result"
    }
   ],
   "source": [
    "first_choice_results = multiple_results.loc[multiple_results.groupby(SECRET_VALUE)[CORRELATION].idxmax()]\n",
    "guess_values = (first_choice_results[LOW_VALUE] + first_choice_results[HIGH_VALUE]) / 2.0\n",
    "guess_values.index = first_choice_results[SECRET_VALUE]\n",
    "guess_values.sort_index(inplace=True)\n",
    "error_rate = ((guess_values - guess_values.index)/guess_values.index).abs()\n",
    "(error_rate < prescision).value_counts()"
   ]
  },
  {
   "cell_type": "code",
   "execution_count": 40,
   "metadata": {},
   "outputs": [
    {
     "data": {
      "image/png": "[encoded data removed]",
      "text/plain": [
       "<Figure size 864x432 with 1 Axes>"
      ]
     },
     "metadata": {
      "needs_background": "light"
     },
     "output_type": "display_data"
    }
   ],
   "source": [
    "ax = guess_values.plot(figsize = (12, 6), marker='.', label='guessed values')\n",
    "ax.plot(guess_values.index, guess_values.index, marker='.', linewidth=1, label='secret_numbers')\n",
    "ax.legend()\n",
    "ax.set_xlabel('secret values')\n",
    "ax.set_ylabel('guessed values')\n",
    "ax.set_title('the first choices')\n",
    "ax.grid(True)"
   ]
  },
  {
   "cell_type": "code",
   "execution_count": 41,
   "metadata": {},
   "outputs": [
    {
     "data": {
      "image/png": "[encoded data removed]",
      "text/plain": [
       "<Figure size 864x432 with 1 Axes>"
      ]
     },
     "metadata": {
      "needs_background": "light"
     },
     "output_type": "display_data"
    }
   ],
   "source": [
    "ax = error_rate.plot(figsize = (12, 6), label='error rate', marker='.', linewidth=1)\n",
    "ax.legend()\n",
    "ax.set_xlabel('secret values')\n",
    "ax.set_ylabel('error rates')\n",
    "ax.set_title('the first choices')\n",
    "ax.grid(True)"
   ]
  },
  {
   "cell_type": "markdown",
   "metadata": {},
   "source": [
    "### Graphs of the second choice"
   ]
  },
  {
   "cell_type": "code",
   "execution_count": 46,
   "metadata": {},
   "outputs": [
    {
     "name": "stdout",
     "output_type": "stream",
     "text": [
      "'The total number of the second choices is: 7945475642588397567'\n"
     ]
    }
   ],
   "source": [
    "pprint('The total number of the second choices is: %d' % (multiple_results.groupby(SECRET_VALUE).size().prod()-1))"
   ]
  },
  {
   "cell_type": "code",
   "execution_count": 47,
   "metadata": {},
   "outputs": [
    {
     "data": {
      "text/plain": [
       "True     99\n",
       "False     1\n",
       "dtype: int64"
      ]
     },
     "execution_count": 47,
     "metadata": {},
     "output_type": "execute_result"
    }
   ],
   "source": [
    "guess_values = ((multiple_results[LOW_VALUE] + multiple_results[HIGH_VALUE]) / 2.0)\n",
    "error_rate = ((guess_values - multiple_results[SECRET_VALUE])/multiple_results[SECRET_VALUE]).abs()\n",
    "second_choice_results = multiple_results.loc[error_rate.groupby(multiple_results[SECRET_VALUE]).idxmin()]\n",
    "guess_values = ((second_choice_results[LOW_VALUE] + second_choice_results[HIGH_VALUE]) / 2.0)\n",
    "guess_values.index = second_choice_results[SECRET_VALUE]\n",
    "guess_values.sort_index(inplace=True)\n",
    "\n",
    "error_rate = ((guess_values - guess_values.index)/guess_values.index).abs()\n",
    "(error_rate < prescision).value_counts()"
   ]
  },
  {
   "cell_type": "code",
   "execution_count": 48,
   "metadata": {},
   "outputs": [
    {
     "data": {
      "image/png": "[encoded data removed]",
      "text/plain": [
       "<Figure size 864x432 with 1 Axes>"
      ]
     },
     "metadata": {
      "needs_background": "light"
     },
     "output_type": "display_data"
    }
   ],
   "source": [
    "ax = guess_values.plot(figsize = (12, 6), marker='.', label='guessed values')\n",
    "ax.plot(guess_values.index, guess_values.index, marker='.', linewidth=1, label='secret_numbers')\n",
    "ax.legend()\n",
    "ax.set_xlabel('secret values')\n",
    "ax.set_ylabel('guessed values')\n",
    "ax.set_title('the second choices')\n",
    "ax.grid(True)"
   ]
  },
  {
   "cell_type": "code",
   "execution_count": 49,
   "metadata": {},
   "outputs": [
    {
     "data": {
      "image/png": "[encoded data removed]",
      "text/plain": [
       "<Figure size 864x432 with 1 Axes>"
      ]
     },
     "metadata": {
      "needs_background": "light"
     },
     "output_type": "display_data"
    }
   ],
   "source": [
    "ax = error_rate.plot(figsize = (12, 6), label='error rate', marker='.', linewidth=1)\n",
    "ax.legend()\n",
    "ax.set_xlabel('secret values')\n",
    "ax.set_ylabel('error rates')\n",
    "ax.set_title('the second choices')\n",
    "ax.grid(True)"
   ]
  },
  {
   "cell_type": "markdown",
   "metadata": {},
   "source": [
    "# Batina method"
   ]
  },
  {
   "cell_type": "code",
   "execution_count": 22,
   "metadata": {},
   "outputs": [],
   "source": [
    "def batina_guess_number(secret_number, guess_range, prescision, known_inputs):\n",
    "    low, high = guess_range\n",
    "    guess_val = np.arange(low, high, prescision)\n",
    "    hw = pd.DataFrame(columns=guess_val,\n",
    "                        data=np.vectorize(hamming_weight)(known_inputs.reshape(-1, 1) * guess_val))\n",
    "    hw['actual'] = np.vectorize(hamming_weight)(known_inputs * secret_number)\n",
    "    return hw.corr(method='pearson')['actual'].drop('actual').idxmax()"
   ]
  },
  {
   "cell_type": "code",
   "execution_count": 23,
   "metadata": {},
   "outputs": [],
   "source": [
    "batinta_results = pd.Series(name='guessed_numbers', dtype=np.float32)"
   ]
  },
  {
   "cell_type": "code",
   "execution_count": 24,
   "metadata": {},
   "outputs": [],
   "source": [
    "# we have to define a low precision, otherwise, it takes too long time to run\n",
    "prescision = 1e-3\n",
    "known_inputs = np.random.uniform(-1e1, 1e1, 1000)"
   ]
  },
  {
   "cell_type": "code",
   "execution_count": 25,
   "metadata": {
    "scrolled": true
   },
   "outputs": [
    {
     "name": "stdout",
     "output_type": "stream",
     "text": [
      "secret_value = 0.116897, guessed_value = 3.741000\n",
      "secret_value = -1.225407, guessed_value = -1.225000\n",
      "secret_value = -0.460877, guessed_value = -0.461000\n",
      "secret_value = 0.145472, guessed_value = 4.655000\n",
      "secret_value = -4.233629, guessed_value = -4.234000\n",
      "secret_value = 2.617823, guessed_value = 2.618000\n",
      "secret_value = -1.181232, guessed_value = -1.181000\n",
      "secret_value = -0.497321, guessed_value = -0.498000\n",
      "secret_value = -0.439866, guessed_value = -0.440000\n",
      "secret_value = -0.132729, guessed_value = -4.247000\n",
      "secret_value = 0.284864, guessed_value = 0.285000\n",
      "secret_value = -1.411125, guessed_value = -1.411000\n",
      "secret_value = 0.812013, guessed_value = 0.812000\n",
      "secret_value = -3.322822, guessed_value = -3.323000\n",
      "secret_value = 0.576037, guessed_value = 0.576000\n",
      "secret_value = -0.306476, guessed_value = -0.307000\n",
      "secret_value = 0.678432, guessed_value = 0.678000\n",
      "secret_value = 1.425669, guessed_value = 1.426000\n",
      "secret_value = -0.499236, guessed_value = -0.499000\n",
      "secret_value = 0.412687, guessed_value = 0.413000\n",
      "secret_value = 3.023661, guessed_value = 3.024000\n",
      "secret_value = -1.195076, guessed_value = -1.195000\n",
      "secret_value = -2.244383, guessed_value = -2.244000\n",
      "secret_value = 0.180273, guessed_value = 2.884000\n",
      "secret_value = 0.841209, guessed_value = 0.841000\n",
      "secret_value = 2.812736, guessed_value = 2.813000\n",
      "secret_value = -0.260491, guessed_value = -0.261000\n",
      "secret_value = -3.159030, guessed_value = -3.159000\n",
      "secret_value = -3.972196, guessed_value = -3.972000\n",
      "secret_value = -0.404680, guessed_value = -0.405000\n",
      "secret_value = -0.482530, guessed_value = -0.483000\n",
      "secret_value = 0.036604, guessed_value = 4.685000\n",
      "secret_value = 0.115002, guessed_value = 0.115000\n",
      "secret_value = -0.782280, guessed_value = -0.782000\n",
      "secret_value = 4.227189, guessed_value = 4.227000\n",
      "secret_value = 1.045823, guessed_value = 1.046000\n",
      "secret_value = -0.169025, guessed_value = -0.169000\n",
      "secret_value = -2.340698, guessed_value = -2.341000\n",
      "secret_value = -2.541539, guessed_value = -2.541000\n",
      "secret_value = 0.901264, guessed_value = 0.901000\n",
      "secret_value = -1.324524, guessed_value = -1.324000\n",
      "secret_value = -0.838630, guessed_value = -0.839000\n",
      "secret_value = 1.093243, guessed_value = 1.093000\n",
      "secret_value = -0.071605, guessed_value = -4.583000\n",
      "secret_value = 2.446830, guessed_value = 2.447000\n",
      "secret_value = 4.162420, guessed_value = 4.162000\n",
      "secret_value = -1.236503, guessed_value = -2.473000\n",
      "secret_value = -3.573372, guessed_value = -3.573000\n",
      "secret_value = 0.372239, guessed_value = 0.372000\n",
      "secret_value = -1.189267, guessed_value = -1.189000\n",
      "secret_value = 1.284135, guessed_value = 1.284000\n",
      "secret_value = -2.748031, guessed_value = -2.748000\n",
      "secret_value = -1.333665, guessed_value = -1.334000\n",
      "secret_value = 0.082832, guessed_value = 1.325000\n",
      "secret_value = -0.538048, guessed_value = -0.538000\n",
      "secret_value = 3.691907, guessed_value = 3.692000\n",
      "secret_value = -0.095132, guessed_value = -3.044000\n",
      "secret_value = -4.682761, guessed_value = -4.683000\n",
      "secret_value = -2.508634, guessed_value = -2.509000\n",
      "secret_value = -0.746955, guessed_value = -0.747000\n",
      "secret_value = -2.101817, guessed_value = -2.102000\n",
      "secret_value = -0.130656, guessed_value = -4.181000\n",
      "secret_value = 3.161555, guessed_value = 3.161000\n",
      "secret_value = 3.704574, guessed_value = 3.705000\n",
      "secret_value = -3.899252, guessed_value = -3.899000\n",
      "secret_value = -1.174443, guessed_value = -1.174000\n",
      "secret_value = 0.155470, guessed_value = 4.975000\n",
      "secret_value = -1.254852, guessed_value = -1.255000\n",
      "secret_value = -1.069248, guessed_value = -1.069000\n",
      "secret_value = -1.122031, guessed_value = -1.122000\n",
      "secret_value = 1.875945, guessed_value = 1.876000\n",
      "secret_value = -1.859454, guessed_value = -1.858000\n",
      "secret_value = 0.455124, guessed_value = 0.455000\n",
      "secret_value = 0.450211, guessed_value = 0.450000\n",
      "secret_value = -0.521191, guessed_value = -0.521000\n",
      "secret_value = -0.483626, guessed_value = -0.484000\n",
      "secret_value = 0.323083, guessed_value = 0.323000\n",
      "secret_value = -4.400261, guessed_value = -4.400000\n",
      "secret_value = 0.425289, guessed_value = 0.426000\n",
      "secret_value = -0.999225, guessed_value = -0.999000\n",
      "secret_value = -3.099076, guessed_value = -3.099000\n",
      "secret_value = 4.622039, guessed_value = 4.622000\n",
      "secret_value = -0.216699, guessed_value = -0.217000\n",
      "secret_value = 2.459799, guessed_value = 2.460000\n",
      "secret_value = -4.625488, guessed_value = -4.625000\n",
      "secret_value = -4.763726, guessed_value = -4.764000\n",
      "secret_value = -1.703852, guessed_value = -1.704000\n",
      "secret_value = -2.806141, guessed_value = -2.806000\n",
      "secret_value = 0.319017, guessed_value = 0.319000\n",
      "secret_value = 2.149043, guessed_value = 2.149000\n",
      "secret_value = -0.292550, guessed_value = -0.293000\n",
      "secret_value = -0.293224, guessed_value = -0.293000\n",
      "secret_value = -2.371101, guessed_value = -2.371000\n",
      "secret_value = -1.334768, guessed_value = -1.335000\n",
      "secret_value = -0.013398, guessed_value = -3.430000\n",
      "secret_value = -0.730307, guessed_value = -0.730000\n",
      "secret_value = -0.111789, guessed_value = -3.577000\n",
      "secret_value = -4.576267, guessed_value = -4.576000\n",
      "secret_value = -1.194383, guessed_value = -1.194000\n",
      "secret_value = -1.007541, guessed_value = -1.008000\n",
      "CPU times: user 3h 54min 39s, sys: 23.1 s, total: 3h 55min 2s\n",
      "Wall time: 3h 55min 3s\n"
     ]
    }
   ],
   "source": [
    "%%time\n",
    "for idx in secret_numbers:\n",
    "    if idx in batinta_results.index:\n",
    "        continue    \n",
    "    batinta_results[idx] = batina_guess_number(idx, guess_range, prescision, known_inputs)\n",
    "    print('secret_value = %f, guessed_value = %f' % (idx, batinta_results[idx]))\n",
    "batinta_results.sort_index(inplace=True)    "
   ]
  },
  {
   "cell_type": "markdown",
   "metadata": {},
   "source": [
    "### Save data"
   ]
  },
  {
   "cell_type": "code",
   "execution_count": 26,
   "metadata": {},
   "outputs": [
    {
     "name": "stdout",
     "output_type": "stream",
     "text": [
      "'batinta_results_fname = batinta_results-20200524_cc0c.csv'\n"
     ]
    }
   ],
   "source": [
    "from datetime import datetime\n",
    "batinta_results_fname = 'batinta_results-%s_%s.csv' % (datetime.now().strftime(\"%Y%m%d\"), secret_signature(secret_numbers).decode('utf8'))\n",
    "batinta_results.to_csv(batinta_results_fname)\n",
    "pprint('batinta_results_fname = %s' % batinta_results_fname)"
   ]
  },
  {
   "cell_type": "markdown",
   "metadata": {},
   "source": [
    "### Load data"
   ]
  },
  {
   "cell_type": "code",
   "execution_count": 27,
   "metadata": {},
   "outputs": [
    {
     "data": {
      "text/plain": [
       "-4.763726   -4.764\n",
       "-4.682761   -4.683\n",
       "-4.625488   -4.625\n",
       "-4.576267   -4.576\n",
       "-4.400261   -4.400\n",
       "             ...  \n",
       " 3.691907    3.692\n",
       " 3.704574    3.705\n",
       " 4.162420    4.162\n",
       " 4.227189    4.227\n",
       " 4.622039    4.622\n",
       "Name: guessed_numbers, Length: 100, dtype: float64"
      ]
     },
     "execution_count": 27,
     "metadata": {},
     "output_type": "execute_result"
    }
   ],
   "source": [
    "# batinta_results_fname = 'batinta_results-%s.csv' % '20200522_071337'\n",
    "batinta_results = pd.read_csv(batinta_results_fname, index_col=0, squeeze=True)\n",
    "batinta_results.sort_index(inplace=True)    \n",
    "batinta_results"
   ]
  },
  {
   "cell_type": "markdown",
   "metadata": {},
   "source": [
    "### Graphs"
   ]
  },
  {
   "cell_type": "code",
   "execution_count": 28,
   "metadata": {},
   "outputs": [
    {
     "data": {
      "image/png": "[encoded data removed]",
      "text/plain": [
       "<Figure size 864x432 with 1 Axes>"
      ]
     },
     "metadata": {
      "needs_background": "light"
     },
     "output_type": "display_data"
    }
   ],
   "source": [
    "ax = batinta_results.plot(figsize = (12, 6), marker='.', label='batina')\n",
    "#results.plot(ax=ax, marker='.', label='bxlab')\n",
    "ax.plot(batinta_results.index, batinta_results.index, marker='.', linewidth=1, label='secret_numbers')\n",
    "ax.legend()\n",
    "ax.set_xlabel('secret values')\n",
    "ax.set_ylabel('guessed values')\n",
    "ax.grid(True)"
   ]
  },
  {
   "cell_type": "code",
   "execution_count": 29,
   "metadata": {},
   "outputs": [
    {
     "data": {
      "image/png": "[encoded data removed]",
      "text/plain": [
       "<Figure size 864x432 with 1 Axes>"
      ]
     },
     "metadata": {
      "needs_background": "light"
     },
     "output_type": "display_data"
    }
   ],
   "source": [
    "batina_error_rate = ((batinta_results - batinta_results.index)/batinta_results.index).abs()\n",
    "ax = batina_error_rate.plot(figsize = (12, 6), label='batina error rate')\n",
    "#ax = error_rate.plot(ax=ax, label='error rate')\n",
    "ax.legend()\n",
    "ax.set_xlabel('secret values')\n",
    "ax.set_ylabel('error rates')\n",
    "ax.grid(True)"
   ]
  },
  {
   "cell_type": "code",
   "execution_count": 30,
   "metadata": {},
   "outputs": [
    {
     "data": {
      "text/plain": [
       "-1.236503      0.999996\n",
       "-0.132729     30.997450\n",
       "-0.130656     31.000013\n",
       "-0.111789     30.997681\n",
       "-0.095132     30.997637\n",
       "-0.071605     63.004179\n",
       "-0.013398    255.006081\n",
       " 0.036604    126.993134\n",
       " 0.082832     14.996174\n",
       " 0.116897     31.002445\n",
       " 0.145472     30.999187\n",
       " 0.155470     30.999644\n",
       " 0.180273     14.997999\n",
       "dtype: float64"
      ]
     },
     "execution_count": 30,
     "metadata": {},
     "output_type": "execute_result"
    }
   ],
   "source": [
    "batina_error_rate[batina_error_rate > 0.10]"
   ]
  },
  {
   "cell_type": "code",
   "execution_count": 51,
   "metadata": {},
   "outputs": [
    {
     "data": {
      "text/plain": [
       "True     81\n",
       "False    19\n",
       "dtype: int64"
      ]
     },
     "execution_count": 51,
     "metadata": {},
     "output_type": "execute_result"
    }
   ],
   "source": [
    "####\n",
    "# number of correctly guessed values / number of wrong values\n",
    "###\n",
    "(batina_error_rate < prescision).value_counts()"
   ]
  },
  {
   "cell_type": "markdown",
   "metadata": {},
   "source": [
    "# Annex"
   ]
  },
  {
   "cell_type": "code",
   "execution_count": 32,
   "metadata": {},
   "outputs": [],
   "source": [
    "def annex_compute_corr(secret_hw, guess_range, known_inputs, guess_val_size=1000):\n",
    "    low, high = guess_range\n",
    "    guess_val = np.arange(low, high, (high - low) / (guess_val_size - 1e-5))\n",
    "    hw = pd.DataFrame(columns=guess_val,\n",
    "                        data=np.vectorize(hamming_weight)(known_inputs.reshape(-1, 1) * guess_val))\n",
    "    return hw.corrwith(pd.Series(secret_hw), method='pearson')"
   ]
  },
  {
   "cell_type": "code",
   "execution_count": 33,
   "metadata": {},
   "outputs": [],
   "source": [
    "guess_range=(-1e-0, 1e-0)\n",
    "known_inputs = np.random.uniform(-1e9, 1e9, 500)\n",
    "secret_number = -1.374e-4\n",
    "secret_hw = np.vectorize(hamming_weight)(known_inputs * secret_number)\n",
    "correlations = annex_compute_corr(secret_hw, guess_range, known_inputs, 1000)"
   ]
  },
  {
   "cell_type": "code",
   "execution_count": 34,
   "metadata": {},
   "outputs": [
    {
     "data": {
      "text/plain": [
       "<matplotlib.collections.LineCollection at 0x7f64ec4e87d0>"
      ]
     },
     "execution_count": 34,
     "metadata": {},
     "output_type": "execute_result"
    },
    {
     "data": {
      "image/png": "[encoded data removed]",
      "text/plain": [
       "<Figure size 1080x576 with 1 Axes>"
      ]
     },
     "metadata": {
      "needs_background": "light"
     },
     "output_type": "display_data"
    }
   ],
   "source": [
    "ax = correlations.plot(figsize=(15, 8))\n",
    "ax.vlines(secret_number, correlations.min(), correlations.max(), color='red')"
   ]
  },
  {
   "cell_type": "code",
   "execution_count": 35,
   "metadata": {},
   "outputs": [
    {
     "data": {
      "text/plain": [
       "-0.564    0.403603\n",
       "-0.562    0.381387\n",
       " 0.564    0.338465\n",
       "-0.566    0.328667\n",
       " 0.562    0.327039\n",
       "-0.568    0.295336\n",
       " 0.566    0.269498\n",
       "-0.560    0.269187\n",
       "-0.282    0.266391\n",
       "-0.570    0.263976\n",
       "dtype: float64"
      ]
     },
     "execution_count": 35,
     "metadata": {},
     "output_type": "execute_result"
    }
   ],
   "source": [
    "correlations.sort_values(ascending=False).iloc[:10]"
   ]
  },
  {
   "cell_type": "code",
   "execution_count": 36,
   "metadata": {},
   "outputs": [
    {
     "name": "stdout",
     "output_type": "stream",
     "text": [
      "secret_number = -0.000137\n"
     ]
    },
    {
     "data": {
      "text/plain": [
       "1.000000e-08   -0.205986\n",
       "dtype: float64"
      ]
     },
     "execution_count": 36,
     "metadata": {},
     "output_type": "execute_result"
    }
   ],
   "source": [
    "distance=1e-3\n",
    "print('secret_number = %f' % secret_number)\n",
    "correlations[(correlations.index > (secret_number-distance)) & (correlations.index < (secret_number+distance))]"
   ]
  },
  {
   "cell_type": "code",
   "execution_count": null,
   "metadata": {},
   "outputs": [],
   "source": []
  },
  {
   "cell_type": "code",
   "execution_count": null,
   "metadata": {},
   "outputs": [],
   "source": []
  }
 ],
 "metadata": {
  "kernelspec": {
   "display_name": "Python 3",
   "language": "python",
   "name": "python3"
  },
  "language_info": {
   "codemirror_mode": {
    "name": "ipython",
    "version": 3
   },
   "file_extension": ".py",
   "mimetype": "text/x-python",
   "name": "python",
   "nbconvert_exporter": "python",
   "pygments_lexer": "ipython3",
   "version": "3.7.5"
  }
 },
 "nbformat": 4,
 "nbformat_minor": 4
}
