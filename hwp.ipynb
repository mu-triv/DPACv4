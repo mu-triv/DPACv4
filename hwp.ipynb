{
 "cells": [
  {
   "cell_type": "markdown",
   "metadata": {},
   "source": [
    "# Hamming weight and Pearson Correlation\n",
    "\n",
    "This notebook demonstrates how to guess a floating number using Hamming Weight model.\n",
    "\n",
    "\n",
    "We generate a random secret floating number. Then we use hamming weight model to guess the number.\n",
    "\n",
    "We develop a method of devide-and-conquer to quickly arrive to a close number with a defined precision."
   ]
  },
  {
   "cell_type": "markdown",
   "metadata": {},
   "source": [
    "## Guessing..."
   ]
  },
  {
   "cell_type": "code",
   "execution_count": 62,
   "metadata": {},
   "outputs": [],
   "source": [
    "import struct\n",
    "import numpy as np\n",
    "import pandas as pd\n",
    "import random\n",
    "from pprint import pprint\n",
    "import hashlib\n",
    "import binascii\n",
    "from guess_range import *"
   ]
  },
  {
   "cell_type": "code",
   "execution_count": 63,
   "metadata": {},
   "outputs": [],
   "source": [
    "def generate_known_inputs(exps=(-1, 3), nsize=3000):\n",
    "    low, high = exps[0], (exps[1] + 1)\n",
    "    subsize = int(nsize / (high - low))\n",
    "    return pd.DataFrame(\n",
    "        data=[np.random.uniform(-10.0 ** i, 10.0 ** i, subsize) for i in range(low, high)],\n",
    "        index=range(low, high))\n",
    "\n",
    "def secret_signature(secret_numbers):\n",
    "    m = hashlib.md5()\n",
    "    m.update(secret_numbers)\n",
    "    a = m.digest()\n",
    "    s = 2\n",
    "    n = [0] * s\n",
    "    for idx in range(len(a)):\n",
    "        i = idx % s\n",
    "        n[i] = (n[i] + a[idx]) % 256\n",
    "    return binascii.hexlify(bytes(n))        "
   ]
  },
  {
   "cell_type": "code",
   "execution_count": 3,
   "metadata": {},
   "outputs": [],
   "source": [
    "def guess_number_range_stat(secret_number, guess_range, prescision, known_input_size=3000):\n",
    "    known_input_set = generate_known_inputs(exps=(-1, 3), nsize=known_input_size)\n",
    "    results = guess_number_range_multiple_inputs(secret_number, guess_range, prescision, known_input_set)\n",
    "    # pprint(results)\n",
    "    #\n",
    "    # discard low correlation results\n",
    "    corr_values = results[CORRELATION]\n",
    "    results = results[corr_values > (corr_values.max() * 0.95)].sort_values(CORRELATION, ascending=False)\n",
    "    guess_values = ((results[LOW_VALUE] + results[HIGH_VALUE]) / 2.0).round(decimals=int(-np.log10(prescision)))\n",
    "    return results[~guess_values.duplicated(keep='first')]"
   ]
  },
  {
   "cell_type": "code",
   "execution_count": 4,
   "metadata": {},
   "outputs": [],
   "source": [
    "SECRET_VALUE = 'secret value'\n",
    "\n",
    "guess_range = (-5e0, 5.0e0)\n",
    "prescision = 1e-7\n",
    "#\n",
    "# initalize parameter and generate a random number (secret number)\n",
    "known_input_size = 10000"
   ]
  },
  {
   "cell_type": "markdown",
   "metadata": {},
   "source": [
    "## Test single point"
   ]
  },
  {
   "cell_type": "code",
   "execution_count": 5,
   "metadata": {},
   "outputs": [],
   "source": [
    "secret_number = random.uniform(guess_range[0] / 10, guess_range[1] / 10) "
   ]
  },
  {
   "cell_type": "code",
   "execution_count": 6,
   "metadata": {
    "scrolled": true
   },
   "outputs": [
    {
     "name": "stdout",
     "output_type": "stream",
     "text": [
      "-0.45024397022219753\n",
      "CPU times: user 1min 2s, sys: 1.87 s, total: 1min 4s\n",
      "Wall time: 1min 4s\n"
     ]
    },
    {
     "data": {
      "text/html": [
       "<div>\n",
       "<style scoped>\n",
       "    .dataframe tbody tr th:only-of-type {\n",
       "        vertical-align: middle;\n",
       "    }\n",
       "\n",
       "    .dataframe tbody tr th {\n",
       "        vertical-align: top;\n",
       "    }\n",
       "\n",
       "    .dataframe thead th {\n",
       "        text-align: right;\n",
       "    }\n",
       "</style>\n",
       "<table border=\"1\" class=\"dataframe\">\n",
       "  <thead>\n",
       "    <tr style=\"text-align: right;\">\n",
       "      <th></th>\n",
       "      <th>low value</th>\n",
       "      <th>high value</th>\n",
       "      <th>correlation</th>\n",
       "    </tr>\n",
       "  </thead>\n",
       "  <tbody>\n",
       "    <tr>\n",
       "      <th>-1</th>\n",
       "      <td>-0.450244</td>\n",
       "      <td>-0.450244</td>\n",
       "      <td>0.999826</td>\n",
       "    </tr>\n",
       "  </tbody>\n",
       "</table>\n",
       "</div>"
      ],
      "text/plain": [
       "    low value  high value  correlation\n",
       "-1  -0.450244   -0.450244     0.999826"
      ]
     },
     "execution_count": 6,
     "metadata": {},
     "output_type": "execute_result"
    }
   ],
   "source": [
    "%%time\n",
    "single_results = guess_number_range_stat(secret_number, guess_range, prescision, known_input_size)\n",
    "print(secret_number)\n",
    "single_results"
   ]
  },
  {
   "cell_type": "code",
   "execution_count": 7,
   "metadata": {
    "scrolled": false
   },
   "outputs": [
    {
     "name": "stdout",
     "output_type": "stream",
     "text": [
      "-1    0.000004\n",
      "dtype: float64\n",
      "'the secret number = -0.450244'\n",
      "'the guessed number = -0.450244'\n",
      "'best correlation = 0.999826'\n",
      "'error rate = 0.000004%'\n"
     ]
    }
   ],
   "source": [
    "guess_values = (single_results[LOW_VALUE] + single_results[HIGH_VALUE]) / 2.0\n",
    "error_rates = ((guess_values - secret_number) / secret_number).abs() * 100.0\n",
    "pprint(error_rates)\n",
    "guessed_number = guess_values[error_rates.idxmin()]    \n",
    "pprint('the secret number = %f' % secret_number)\n",
    "pprint('the guessed number = %f' % guessed_number)\n",
    "pprint('best correlation = %f' % single_results[CORRELATION][error_rates.idxmin()])\n",
    "pprint('error rate = %0.6f%s' % (error_rates.min(), '%'))"
   ]
  },
  {
   "cell_type": "markdown",
   "metadata": {},
   "source": [
    "## Test multiple points"
   ]
  },
  {
   "cell_type": "code",
   "execution_count": 8,
   "metadata": {},
   "outputs": [],
   "source": [
    "multiple_results = pd.DataFrame()"
   ]
  },
  {
   "cell_type": "code",
   "execution_count": 9,
   "metadata": {},
   "outputs": [
    {
     "name": "stdout",
     "output_type": "stream",
     "text": [
      "secret_numbers.shape = (100,)\n"
     ]
    }
   ],
   "source": [
    "n_secret_numbers = 100\n",
    "secret_numbers = np.concatenate((\n",
    "    np.random.uniform(guess_range[0], guess_range[1], int(n_secret_numbers*2/4) ),\n",
    "    np.random.uniform(guess_range[0]*3e-1, guess_range[1]*3e-1, int(n_secret_numbers*1/4)),\n",
    "    np.random.uniform(guess_range[0]*1e-1, guess_range[1]*1e-1, int(n_secret_numbers*1/4))\n",
    "))\n",
    "np.random.shuffle(secret_numbers)\n",
    "print('secret_numbers.shape = %s' % (str(secret_numbers.shape)))"
   ]
  },
  {
   "cell_type": "code",
   "execution_count": 10,
   "metadata": {
    "scrolled": true
   },
   "outputs": [
    {
     "name": "stdout",
     "output_type": "stream",
     "text": [
      "'===================='\n",
      "   low value  high value  correlation  secret value\n",
      "0  -3.284259   -3.284259          1.0     -3.284259\n",
      "'===================='\n",
      "   low value  high value  correlation  secret value\n",
      "2   2.387437    2.387437          1.0      2.387437\n",
      "'===================='\n",
      "   low value  high value  correlation  secret value\n",
      "3  -0.687093   -0.687092          1.0     -0.687092\n",
      "'===================='\n",
      "   low value  high value  correlation  secret value\n",
      "1  -0.472725   -0.472725     0.999906     -0.472725\n",
      "0  -1.890900   -1.890900     0.985141     -0.472725\n",
      "'===================='\n",
      "   low value  high value  correlation  secret value\n",
      "1  -0.236893   -0.236893     0.883153     -0.236893\n",
      "'===================='\n",
      "    low value  high value  correlation  secret value\n",
      " 3  -0.777049   -0.777049     0.999966     -0.777049\n",
      "-1  -3.108195   -3.108195     0.972162     -0.777049\n",
      "'===================='\n",
      "    low value  high value  correlation  secret value\n",
      "-1   3.837977    3.837977          1.0      3.837977\n",
      "'===================='\n",
      "   low value  high value  correlation  secret value\n",
      "1   1.483276    1.483277     0.999973      1.483277\n",
      "'===================='\n",
      "   low value  high value  correlation  secret value\n",
      "0  -3.124939   -3.124939     0.780635     -3.125446\n",
      "'===================='\n",
      "   low value  high value  correlation  secret value\n",
      "1  -3.679204   -3.679204          1.0     -3.679204\n",
      "'===================='\n",
      "   low value  high value  correlation  secret value\n",
      "0   4.211309    4.211309          1.0      4.211309\n",
      "'===================='\n",
      "    low value  high value  correlation  secret value\n",
      " 1  -0.228436   -0.228436     0.999758     -0.228436\n",
      "-1  -3.654975   -3.654975     0.983320     -0.228436\n",
      "'===================='\n",
      "   low value  high value  correlation  secret value\n",
      "2  -4.593031   -4.593031          1.0     -4.593031\n",
      "'===================='\n",
      "   low value  high value  correlation  secret value\n",
      "0   4.449552    4.449552          1.0      4.449552\n",
      "'===================='\n",
      "    low value  high value  correlation  secret value\n",
      " 0   0.843877    0.843877     1.000000      0.843877\n",
      "-1   3.375506    3.375506     0.974221      0.843877\n",
      "'===================='\n",
      "    low value  high value  correlation  secret value\n",
      " 1   1.192912    1.192912     0.999948      1.192912\n",
      "-1   4.771649    4.771650     0.982651      1.192912\n",
      "'===================='\n",
      "   low value  high value  correlation  secret value\n",
      "1   1.100039    1.100039     0.999974      1.100039\n",
      "'===================='\n",
      "   low value  high value  correlation  secret value\n",
      "1   0.332456    0.332456     0.999664      0.332456\n",
      "0   1.329824    1.329824     0.978433      0.332456\n",
      "'===================='\n",
      "    low value  high value  correlation  secret value\n",
      "-1   3.216816    3.216816          1.0      3.216816\n",
      "'===================='\n",
      "   low value  high value  correlation  secret value\n",
      "1  -0.285279   -0.285279     0.999322     -0.285279\n",
      "3  -4.564469   -4.564469     0.987992     -0.285279\n",
      "'===================='\n",
      "   low value  high value  correlation  secret value\n",
      "2   0.200418    0.200418     1.000000      0.200418\n",
      "3   3.206682    3.206683     0.977652      0.200418\n",
      "'===================='\n",
      "    low value  high value  correlation  secret value\n",
      " 1   0.214317    0.214317     0.999848      0.214317\n",
      "-1   3.429071    3.429071     0.983642      0.214317\n",
      "'===================='\n",
      "   low value  high value  correlation  secret value\n",
      "1   -0.32854   -0.328540     1.000000      -0.32854\n",
      "0   -1.31416   -1.314159     0.978593      -0.32854\n",
      "'===================='\n",
      "    low value  high value  correlation  secret value\n",
      " 0   0.870246    0.870246     1.000000      0.870246\n",
      "-1   3.480984    3.480984     0.973086      0.870246\n",
      "'===================='\n",
      "    low value  high value  correlation  secret value\n",
      "-1  -4.074592   -4.074591          1.0     -4.074591\n",
      "'===================='\n",
      "    low value  high value  correlation  secret value\n",
      " 2  -0.029280   -0.029280     0.998509      -0.02928\n",
      "-1  -0.468474   -0.468474     0.987988      -0.02928\n",
      "'===================='\n",
      "   low value  high value  correlation  secret value\n",
      "0     3.9842      3.9842          1.0        3.9842\n",
      "'===================='\n",
      "    low value  high value  correlation  secret value\n",
      "-1   2.272627    2.272627          1.0      2.272627\n",
      "'===================='\n",
      "   low value  high value  correlation  secret value\n",
      "1   0.162747    0.162747     0.999882      0.162747\n",
      "'===================='\n",
      "    low value  high value  correlation  secret value\n",
      " 2  -0.062136   -0.062136     0.999266     -0.062136\n",
      " 0  -0.994178   -0.994178     0.991851     -0.062136\n",
      "-1  -3.976712   -3.976712     0.980795     -0.062136\n",
      "'===================='\n",
      "   low value  high value  correlation  secret value\n",
      "1   0.278909    0.278909     0.999617      0.278909\n",
      "3   4.462544    4.462544     0.984825      0.278909\n",
      "'===================='\n",
      "    low value  high value  correlation  secret value\n",
      " 2  -0.062795   -0.062795     0.997908     -0.062795\n",
      " 0  -1.004726   -1.004726     0.992447     -0.062795\n",
      "-1  -4.018904   -4.018904     0.980263     -0.062795\n",
      "'===================='\n",
      "    low value  high value  correlation  secret value\n",
      " 1   0.241718    0.241718     0.999822      0.241718\n",
      "-1   3.867485    3.867485     0.982027      0.241718\n",
      "'===================='\n",
      "   low value  high value  correlation  secret value\n",
      "0  -0.430621   -0.430621       0.9998     -0.430621\n",
      "'===================='\n",
      "   low value  high value  correlation  secret value\n",
      "2   -1.45504   -1.455039          1.0      -1.45504\n",
      "'===================='\n",
      "   low value  high value  correlation  secret value\n",
      "0   4.594359    4.594359          1.0      4.594359\n",
      "'===================='\n",
      "   low value  high value  correlation  secret value\n",
      "3    1.95889     1.95889     0.999961       1.95889\n",
      "'===================='\n",
      "   low value  high value  correlation  secret value\n",
      "1  -0.937458   -0.937458      0.64902     -0.937965\n",
      "'===================='\n",
      "    low value  high value  correlation  secret value\n",
      " 2   0.727615    0.727615     0.999891      0.727615\n",
      "-1   2.910460    2.910460     0.968628      0.727615\n",
      "'===================='\n",
      "    low value  high value  correlation  secret value\n",
      " 1   0.235004    0.235004     0.999958      0.235004\n",
      "-1   3.760060    3.760060     0.982070      0.235004\n",
      "'===================='\n",
      "    low value  high value  correlation  secret value\n",
      "-1   2.454753    2.454753          1.0      2.454753\n",
      "'===================='\n",
      "   low value  high value  correlation  secret value\n",
      "2  -0.089913   -0.089913     0.999523     -0.089913\n",
      "0  -1.438610   -1.438610     0.992818     -0.089913\n",
      "'===================='\n",
      "   low value  high value  correlation  secret value\n",
      "3   1.561023    1.561023     0.999963      1.561023\n",
      "'===================='\n",
      "   low value  high value  correlation  secret value\n",
      "1  -1.226595   -1.226595     0.999868     -1.226595\n",
      "'===================='\n",
      "    low value  high value  correlation  secret value\n",
      " 1  -0.996597   -0.996596     0.999873     -0.996596\n",
      "-1  -3.986386   -3.986386     0.976742     -0.996596\n",
      " 0  -1.993193   -1.993193     0.969566     -0.996596\n",
      "'===================='\n",
      "   low value  high value  correlation  secret value\n",
      "2   -0.39344    -0.39344      0.99993      -0.39344\n",
      "'===================='\n",
      "   low value  high value  correlation  secret value\n",
      "1  -0.650026   -0.650026     0.999697     -0.650026\n",
      "'===================='\n",
      "    low value  high value  correlation  secret value\n",
      "-1  -1.392128   -1.392128          1.0     -1.392128\n",
      "'===================='\n",
      "   low value  high value  correlation  secret value\n",
      "2   0.148798    0.148798     0.998047      0.148798\n",
      "'===================='\n",
      "    low value  high value  correlation  secret value\n",
      " 1  -2.598253   -2.598253     1.000000     -2.598253\n",
      "-1  -0.162391   -0.162391     0.979568     -2.598253\n",
      "'===================='\n",
      "    low value  high value  correlation  secret value\n",
      " 2   0.907987    0.907987     0.999807      0.907987\n",
      "-1   3.631947    3.631948     0.976596      0.907987\n",
      " 0   1.815974    1.815974     0.965223      0.907987\n",
      "'===================='\n",
      "   low value  high value  correlation  secret value\n",
      "2  -0.422019   -0.422019     0.999738     -0.422019\n",
      "0  -1.688077   -1.688076     0.981591     -0.422019\n",
      "'===================='\n",
      "   low value  high value  correlation  secret value\n",
      "2   4.488719    4.488719          1.0      4.488719\n"
     ]
    },
    {
     "name": "stdout",
     "output_type": "stream",
     "text": [
      "'===================='\n",
      "    low value  high value  correlation  secret value\n",
      " 1  -1.096423   -1.096423     1.000000     -1.096423\n",
      "-1  -4.385691   -4.385691     0.978161     -1.096423\n",
      "'===================='\n",
      "   low value  high value  correlation  secret value\n",
      "2  -0.378253   -0.378253     0.999965     -0.378253\n",
      "0  -1.513014   -1.513014     0.980562     -0.378253\n",
      "'===================='\n",
      "    low value  high value  correlation  secret value\n",
      " 2  -0.076697   -0.076696     0.998311     -0.076697\n",
      "-1  -1.227144   -1.227144     0.992716     -0.076697\n",
      "'===================='\n",
      "   low value  high value  correlation  secret value\n",
      "1   0.352845    0.352845     0.998764      0.352845\n",
      "0   1.411380    1.411380     0.979347      0.352845\n",
      "'===================='\n",
      "    low value  high value  correlation  secret value\n",
      "-1  -4.248722   -4.248722          1.0     -4.248722\n",
      "'===================='\n",
      "   low value  high value  correlation  secret value\n",
      "0  -4.816189   -4.816189          1.0     -4.816189\n",
      "'===================='\n",
      "    low value  high value  correlation  secret value\n",
      " 2  -0.154657   -0.154657     0.999252     -0.154657\n",
      "-1  -2.474516   -2.474516     0.982104     -0.154657\n",
      "'===================='\n",
      "   low value  high value  correlation  secret value\n",
      "1  -2.433509   -2.433509     0.999967     -2.433509\n",
      "'===================='\n",
      "    low value  high value  correlation  secret value\n",
      "-1  -2.813185   -2.813185     0.885651     -0.001374\n",
      " 1  -0.351648   -0.351648     0.871568     -0.001374\n",
      "'===================='\n",
      "   low value  high value  correlation  secret value\n",
      "3  -0.368266   -0.368266       0.9993     -0.368266\n",
      "'===================='\n",
      "   low value  high value  correlation  secret value\n",
      "1  -0.297528   -0.297528     0.999927     -0.297528\n",
      "3  -4.760454   -4.760454     0.986072     -0.297528\n",
      "'===================='\n",
      "    low value  high value  correlation  secret value\n",
      " 2  -0.183978   -0.183978     0.999182     -0.183978\n",
      "-1  -2.943649   -2.943648     0.982466     -0.183978\n",
      "'===================='\n",
      "   low value  high value  correlation  secret value\n",
      "0  -2.856737   -2.856737     0.999982     -2.856737\n",
      "'===================='\n",
      "    low value  high value  correlation  secret value\n",
      " 1   0.239636    0.239637     0.999961      0.239636\n",
      "-1   3.834184    3.834184     0.983468      0.239636\n",
      "'===================='\n",
      "   low value  high value  correlation  secret value\n",
      "0   1.307153    1.307153     0.999400      0.005106\n",
      "2   2.614305    2.614305     0.956228      0.005106\n",
      "'===================='\n",
      "   low value  high value  correlation  secret value\n",
      "1  -0.289914   -0.289914     0.999282     -0.289914\n",
      "3  -4.638627   -4.638627     0.986245     -0.289914\n",
      "'===================='\n",
      "    low value  high value  correlation  secret value\n",
      " 2   0.042528    0.042528     0.999825      0.042528\n",
      "-1   0.680441    0.680441     0.991511      0.042528\n",
      "'===================='\n",
      "   low value  high value  correlation  secret value\n",
      "2   0.125981    0.125981     1.000000      0.125981\n",
      "0   2.015691    2.015691     0.985337      0.125981\n",
      "'===================='\n",
      "   low value  high value  correlation  secret value\n",
      "1   0.592982    0.592982     0.999757      0.592982\n",
      "'===================='\n",
      "    low value  high value  correlation  secret value\n",
      "-1    0.36853     0.36853          1.0       0.36853\n",
      "'===================='\n",
      "    low value  high value  correlation  secret value\n",
      " 1   0.188606    0.188606      0.99920      0.188606\n",
      "-1   3.017694    3.017694      0.98235      0.188606\n",
      "'===================='\n",
      "    low value  high value  correlation  secret value\n",
      "-1  -2.729342   -2.729342          1.0     -2.729342\n",
      "'===================='\n",
      "   low value  high value  correlation  secret value\n",
      "0  -2.606691   -2.606691     0.999963     -2.606691\n",
      "'===================='\n",
      "   low value  high value  correlation  secret value\n",
      "2   0.262380    0.262380     0.998743       0.26238\n",
      "0   0.016399    0.016399     0.978308       0.26238\n",
      "'===================='\n",
      "   low value  high value  correlation  secret value\n",
      "0  -3.354826   -3.354826          1.0     -3.354826\n",
      "'===================='\n",
      "   low value  high value  correlation  secret value\n",
      "3   0.760866    0.760866     0.999898      0.760866\n",
      "0   1.521732    1.521732     0.964073      0.760866\n",
      "'===================='\n",
      "    low value  high value  correlation  secret value\n",
      "-1   3.155405    3.155406     1.000000      3.155406\n",
      " 0   3.155406    3.155406     0.999103      3.155406\n",
      "'===================='\n",
      "   low value  high value  correlation  secret value\n",
      "0  -2.148128   -2.148128          1.0     -2.148128\n",
      "'===================='\n",
      "    low value  high value  correlation  secret value\n",
      " 3   1.002117    1.002117     0.999964      1.002117\n",
      "-1   4.008470    4.008470     0.978009      1.002117\n",
      " 0   2.004235    2.004235     0.958124      1.002117\n",
      "'===================='\n",
      "    low value  high value  correlation  secret value\n",
      " 2  -0.080027   -0.080027     0.999138     -0.080027\n",
      "-1  -1.280429   -1.280429     0.993405     -0.080027\n",
      "'===================='\n",
      "    low value  high value  correlation  secret value\n",
      " 2   0.210245    0.210245     0.999124      0.210245\n",
      "-1   3.363917    3.363917     0.981629      0.210245\n",
      "'===================='\n",
      "   low value  high value  correlation  secret value\n",
      "2  -0.711382   -0.711382          1.0     -0.711382\n",
      "'===================='\n",
      "    low value  high value  correlation  secret value\n",
      "-1   -2.25856    -2.25856          1.0      -2.25856\n",
      "'===================='\n",
      "   low value  high value  correlation  secret value\n",
      "3   0.530314    0.530314     0.999964      0.530314\n",
      "'===================='\n",
      "   low value  high value  correlation  secret value\n",
      "2   3.951419    3.951419          1.0      3.951419\n",
      "'===================='\n",
      "   low value  high value  correlation  secret value\n",
      "0  -3.047218   -3.047218     0.987113     -3.047218\n",
      "'===================='\n",
      "   low value  high value  correlation  secret value\n",
      "0   4.176463    4.176463          1.0      4.176463\n",
      "'===================='\n",
      "    low value  high value  correlation  secret value\n",
      " 1  -0.255331   -0.255331      1.00000     -0.255331\n",
      "-1  -4.085294   -4.085294      0.98255     -0.255331\n",
      "'===================='\n",
      "   low value  high value  correlation  secret value\n",
      "1    1.30655     1.30655     0.999677       1.30655\n",
      "'===================='\n",
      "    low value  high value  correlation  secret value\n",
      "-1  -4.164878   -4.164878     0.998732     -0.016269\n",
      "'===================='\n",
      "    low value  high value  correlation  secret value\n",
      " 1  -0.865037   -0.865037     0.999952     -0.865037\n",
      "-1  -3.460150   -3.460150     0.973508     -0.865037\n",
      " 0  -1.730075   -1.730075     0.964867     -0.865037\n",
      "'===================='\n",
      "    low value  high value  correlation  secret value\n",
      " 3   0.960124    0.960124     0.999884      0.960124\n",
      "-1   3.840497    3.840497     0.977642      0.960124\n",
      " 0   1.920249    1.920249     0.966796      0.960124\n",
      "'===================='\n",
      "   low value  high value  correlation  secret value\n",
      "0   4.613159    4.613159          1.0      4.613159\n",
      "'===================='\n",
      "   low value  high value  correlation  secret value\n",
      "0  -4.854488   -4.854488          1.0     -4.854488\n",
      "'===================='\n",
      "    low value  high value  correlation  secret value\n",
      "-1  -2.640574   -2.640574          1.0     -2.640574\n",
      "'===================='\n",
      "    low value  high value  correlation  secret value\n",
      " 3   0.148523    0.148523     0.999661      0.148523\n",
      "-1   2.376374    2.376374     0.981078      0.148523\n",
      "'===================='\n",
      "   low value  high value  correlation  secret value\n",
      "0  -0.988366   -0.988366          1.0     -0.988366\n",
      "CPU times: user 1h 38min 39s, sys: 2min 49s, total: 1h 41min 29s\n",
      "Wall time: 1h 41min 29s\n"
     ]
    }
   ],
   "source": [
    "%%time\n",
    "loops = 0\n",
    "for idx in secret_numbers:\n",
    "    # if the number is already treated, the ignore it\n",
    "    if (SECRET_VALUE in multiple_results.columns) and (idx in multiple_results[SECRET_VALUE].values):\n",
    "        continue    \n",
    "    results = guess_number_range_stat(idx, guess_range, prescision, known_input_size)\n",
    "    results[SECRET_VALUE] = idx\n",
    "    pprint('=' * 20)\n",
    "    pprint(results)\n",
    "    guess_values = (results[LOW_VALUE] + results[HIGH_VALUE]) / 2.0\n",
    "    multiple_results = pd.concat([multiple_results, results], axis=0, ignore_index=True)\n",
    "    loops = loops + 1"
   ]
  },
  {
   "cell_type": "markdown",
   "metadata": {},
   "source": [
    "### Save data"
   ]
  },
  {
   "cell_type": "code",
   "execution_count": 74,
   "metadata": {},
   "outputs": [
    {
     "name": "stdout",
     "output_type": "stream",
     "text": [
      "'multiple_results_fname = multiple_results-20200523_9dcc.csv'\n"
     ]
    }
   ],
   "source": [
    "from datetime import datetime\n",
    "multiple_results_fname = 'multiple_results-%s_%s.csv' % (datetime.now().strftime(\"%Y%m%d\"), secret_signature(secret_numbers).decode('utf8'))\n",
    "multiple_results.to_csv(multiple_results_fname)\n",
    "pprint('multiple_results_fname = %s' % multiple_results_fname)"
   ]
  },
  {
   "cell_type": "markdown",
   "metadata": {},
   "source": [
    "### Load data"
   ]
  },
  {
   "cell_type": "code",
   "execution_count": 28,
   "metadata": {},
   "outputs": [
    {
     "data": {
      "text/html": [
       "<div>\n",
       "<style scoped>\n",
       "    .dataframe tbody tr th:only-of-type {\n",
       "        vertical-align: middle;\n",
       "    }\n",
       "\n",
       "    .dataframe tbody tr th {\n",
       "        vertical-align: top;\n",
       "    }\n",
       "\n",
       "    .dataframe thead th {\n",
       "        text-align: right;\n",
       "    }\n",
       "</style>\n",
       "<table border=\"1\" class=\"dataframe\">\n",
       "  <thead>\n",
       "    <tr style=\"text-align: right;\">\n",
       "      <th></th>\n",
       "      <th>low value</th>\n",
       "      <th>high value</th>\n",
       "      <th>correlation</th>\n",
       "      <th>secret value</th>\n",
       "    </tr>\n",
       "  </thead>\n",
       "  <tbody>\n",
       "    <tr>\n",
       "      <th>0</th>\n",
       "      <td>-3.284259</td>\n",
       "      <td>-3.284259</td>\n",
       "      <td>1.000000</td>\n",
       "      <td>-3.284259</td>\n",
       "    </tr>\n",
       "    <tr>\n",
       "      <th>1</th>\n",
       "      <td>2.387437</td>\n",
       "      <td>2.387437</td>\n",
       "      <td>1.000000</td>\n",
       "      <td>2.387437</td>\n",
       "    </tr>\n",
       "    <tr>\n",
       "      <th>2</th>\n",
       "      <td>-0.687093</td>\n",
       "      <td>-0.687092</td>\n",
       "      <td>1.000000</td>\n",
       "      <td>-0.687092</td>\n",
       "    </tr>\n",
       "    <tr>\n",
       "      <th>3</th>\n",
       "      <td>-0.472725</td>\n",
       "      <td>-0.472725</td>\n",
       "      <td>0.999906</td>\n",
       "      <td>-0.472725</td>\n",
       "    </tr>\n",
       "    <tr>\n",
       "      <th>4</th>\n",
       "      <td>-1.890900</td>\n",
       "      <td>-1.890900</td>\n",
       "      <td>0.985141</td>\n",
       "      <td>-0.472725</td>\n",
       "    </tr>\n",
       "    <tr>\n",
       "      <th>...</th>\n",
       "      <td>...</td>\n",
       "      <td>...</td>\n",
       "      <td>...</td>\n",
       "      <td>...</td>\n",
       "    </tr>\n",
       "    <tr>\n",
       "      <th>149</th>\n",
       "      <td>-4.854488</td>\n",
       "      <td>-4.854488</td>\n",
       "      <td>1.000000</td>\n",
       "      <td>-4.854488</td>\n",
       "    </tr>\n",
       "    <tr>\n",
       "      <th>150</th>\n",
       "      <td>-2.640574</td>\n",
       "      <td>-2.640574</td>\n",
       "      <td>1.000000</td>\n",
       "      <td>-2.640574</td>\n",
       "    </tr>\n",
       "    <tr>\n",
       "      <th>151</th>\n",
       "      <td>0.148523</td>\n",
       "      <td>0.148523</td>\n",
       "      <td>0.999661</td>\n",
       "      <td>0.148523</td>\n",
       "    </tr>\n",
       "    <tr>\n",
       "      <th>152</th>\n",
       "      <td>2.376374</td>\n",
       "      <td>2.376374</td>\n",
       "      <td>0.981078</td>\n",
       "      <td>0.148523</td>\n",
       "    </tr>\n",
       "    <tr>\n",
       "      <th>153</th>\n",
       "      <td>-0.988366</td>\n",
       "      <td>-0.988366</td>\n",
       "      <td>1.000000</td>\n",
       "      <td>-0.988366</td>\n",
       "    </tr>\n",
       "  </tbody>\n",
       "</table>\n",
       "<p>154 rows × 4 columns</p>\n",
       "</div>"
      ],
      "text/plain": [
       "     low value  high value  correlation  secret value\n",
       "0    -3.284259   -3.284259     1.000000     -3.284259\n",
       "1     2.387437    2.387437     1.000000      2.387437\n",
       "2    -0.687093   -0.687092     1.000000     -0.687092\n",
       "3    -0.472725   -0.472725     0.999906     -0.472725\n",
       "4    -1.890900   -1.890900     0.985141     -0.472725\n",
       "..         ...         ...          ...           ...\n",
       "149  -4.854488   -4.854488     1.000000     -4.854488\n",
       "150  -2.640574   -2.640574     1.000000     -2.640574\n",
       "151   0.148523    0.148523     0.999661      0.148523\n",
       "152   2.376374    2.376374     0.981078      0.148523\n",
       "153  -0.988366   -0.988366     1.000000     -0.988366\n",
       "\n",
       "[154 rows x 4 columns]"
      ]
     },
     "execution_count": 28,
     "metadata": {},
     "output_type": "execute_result"
    }
   ],
   "source": [
    "# multiple_results_fname = 'multiple_results-20200523_011136.csv'\n",
    "multiple_results = pd.read_csv(multiple_results_fname, index_col=0)\n",
    "multiple_results"
   ]
  },
  {
   "cell_type": "markdown",
   "metadata": {},
   "source": [
    "### Hit targets and missed targets"
   ]
  },
  {
   "cell_type": "code",
   "execution_count": 29,
   "metadata": {},
   "outputs": [
    {
     "name": "stdout",
     "output_type": "stream",
     "text": [
      "'The number of identified values: 92/100'\n",
      "'The number of missed values: 8/100'\n"
     ]
    }
   ],
   "source": [
    "#\n",
    "# compute the number of secret values which are present in guessed ranges\n",
    "n_identified_ranges = multiple_results.groupby(SECRET_VALUE).apply(lambda x: ((x[LOW_VALUE]<=x[SECRET_VALUE]) & (x[SECRET_VALUE]<=x[HIGH_VALUE])).any())\n",
    "counts = n_identified_ranges.value_counts()\n",
    "if True in counts.index:\n",
    "    pprint('The number of identified values: %d/%d' % (counts[True], counts.sum()))\n",
    "if False in counts.index:\n",
    "    pprint('The number of missed values: %d/%d' % (counts[False], counts.sum()))"
   ]
  },
  {
   "cell_type": "markdown",
   "metadata": {},
   "source": [
    "### Graphs of the first choices"
   ]
  },
  {
   "cell_type": "code",
   "execution_count": 14,
   "metadata": {},
   "outputs": [
    {
     "name": "stdout",
     "output_type": "stream",
     "text": [
      "True     89\n",
      "False    11\n",
      "dtype: int64\n"
     ]
    }
   ],
   "source": [
    "first_choice_results = multiple_results.loc[multiple_results.groupby(SECRET_VALUE)[CORRELATION].idxmax()]\n",
    "\n",
    "# the number of correct values\n",
    "n_correct_values = first_choice_results.apply(lambda x: (x[LOW_VALUE]<=x[SECRET_VALUE]) & (x[SECRET_VALUE]<=x[HIGH_VALUE]), axis=1)\n",
    "pprint(n_correct_values.value_counts())\n",
    "\n",
    "guess_values = (first_choice_results[LOW_VALUE] + first_choice_results[HIGH_VALUE]) / 2.0\n",
    "guess_values.index = first_choice_results[SECRET_VALUE]\n",
    "guess_values.sort_index(inplace=True)"
   ]
  },
  {
   "cell_type": "code",
   "execution_count": 15,
   "metadata": {},
   "outputs": [
    {
     "data": {
      "image/png": "[encoded data removed]",
      "text/plain": [
       "<Figure size 864x432 with 1 Axes>"
      ]
     },
     "metadata": {
      "needs_background": "light"
     },
     "output_type": "display_data"
    }
   ],
   "source": [
    "ax = guess_values.plot(figsize = (12, 6), marker='.', label='guessed values')\n",
    "ax.plot(guess_values.index, guess_values.index, marker='.', linewidth=1, label='secret_numbers')\n",
    "ax.legend()\n",
    "ax.set_xlabel('secret values')\n",
    "ax.set_ylabel('guessed values')\n",
    "ax.set_title('the first choices')\n",
    "ax.grid(True)"
   ]
  },
  {
   "cell_type": "code",
   "execution_count": 16,
   "metadata": {},
   "outputs": [
    {
     "data": {
      "image/png": "[encoded data removed]",
      "text/plain": [
       "<Figure size 864x432 with 1 Axes>"
      ]
     },
     "metadata": {
      "needs_background": "light"
     },
     "output_type": "display_data"
    }
   ],
   "source": [
    "error_rate = ((guess_values - guess_values.index)/guess_values.index).abs()\n",
    "ax = error_rate.plot(figsize = (12, 6), label='error rate', marker='.', linewidth=1)\n",
    "ax.legend()\n",
    "ax.set_xlabel('secret values')\n",
    "ax.set_ylabel('error rates')\n",
    "ax.set_title('the first choices')\n",
    "ax.grid(True)"
   ]
  },
  {
   "cell_type": "markdown",
   "metadata": {},
   "source": [
    "### Graphs of the second choice"
   ]
  },
  {
   "cell_type": "code",
   "execution_count": 17,
   "metadata": {},
   "outputs": [
    {
     "name": "stdout",
     "output_type": "stream",
     "text": [
      "'The total number of the second choices is: 17099604835172351'\n"
     ]
    }
   ],
   "source": [
    "pprint('The total number of the second choices is: %d' % (multiple_results.groupby(SECRET_VALUE).size().prod()-1))"
   ]
  },
  {
   "cell_type": "code",
   "execution_count": 18,
   "metadata": {},
   "outputs": [],
   "source": [
    "guess_values = ((multiple_results[LOW_VALUE] + multiple_results[HIGH_VALUE]) / 2.0)\n",
    "error_rate = ((guess_values - multiple_results[SECRET_VALUE])/multiple_results[SECRET_VALUE]).abs()\n",
    "second_choice_results = multiple_results.loc[error_rate.groupby(multiple_results[SECRET_VALUE]).idxmin()]\n",
    "guess_values = ((second_choice_results[LOW_VALUE] + second_choice_results[HIGH_VALUE]) / 2.0)\n",
    "guess_values.index = second_choice_results[SECRET_VALUE]\n",
    "guess_values.sort_index(inplace=True)"
   ]
  },
  {
   "cell_type": "code",
   "execution_count": 19,
   "metadata": {},
   "outputs": [
    {
     "data": {
      "image/png": "[encoded data removed]",
      "text/plain": [
       "<Figure size 864x432 with 1 Axes>"
      ]
     },
     "metadata": {
      "needs_background": "light"
     },
     "output_type": "display_data"
    }
   ],
   "source": [
    "ax = guess_values.plot(figsize = (12, 6), marker='.', label='guessed values')\n",
    "ax.plot(guess_values.index, guess_values.index, marker='.', linewidth=1, label='secret_numbers')\n",
    "ax.legend()\n",
    "ax.set_xlabel('secret values')\n",
    "ax.set_ylabel('guessed values')\n",
    "ax.set_title('the second choices')\n",
    "ax.grid(True)"
   ]
  },
  {
   "cell_type": "code",
   "execution_count": 20,
   "metadata": {},
   "outputs": [
    {
     "data": {
      "image/png": "[encoded data removed]",
      "text/plain": [
       "<Figure size 864x432 with 1 Axes>"
      ]
     },
     "metadata": {
      "needs_background": "light"
     },
     "output_type": "display_data"
    }
   ],
   "source": [
    "error_rate = ((guess_values - guess_values.index)/guess_values.index).abs()\n",
    "ax = error_rate.plot(figsize = (12, 6), label='error rate', marker='.', linewidth=1)\n",
    "ax.legend()\n",
    "ax.set_xlabel('secret values')\n",
    "ax.set_ylabel('error rates')\n",
    "ax.set_title('the second choices')\n",
    "ax.grid(True)"
   ]
  },
  {
   "cell_type": "markdown",
   "metadata": {},
   "source": [
    "# Batina method"
   ]
  },
  {
   "cell_type": "code",
   "execution_count": 53,
   "metadata": {},
   "outputs": [],
   "source": [
    "def batina_guess_number(secret_number, guess_range, prescision, known_inputs):\n",
    "    low, high = guess_range\n",
    "    guess_val = np.arange(low, high, prescision)\n",
    "    hw = pd.DataFrame(columns=guess_val,\n",
    "                        data=np.vectorize(hamming_weight)(known_inputs.reshape(-1, 1) * guess_val))\n",
    "    hw['actual'] = np.vectorize(hamming_weight)(known_inputs * secret_number)\n",
    "    return hw.corr(method='pearson')['actual'].drop('actual').idxmax()"
   ]
  },
  {
   "cell_type": "code",
   "execution_count": null,
   "metadata": {},
   "outputs": [],
   "source": [
    "batinta_results = pd.Series(name='guessed_numbers', dtype=np.float32)"
   ]
  },
  {
   "cell_type": "code",
   "execution_count": 52,
   "metadata": {},
   "outputs": [],
   "source": [
    "# we have to define a low precision, otherwise, it takes too long time to run\n",
    "prescision = 1e-3\n",
    "known_inputs = np.random.uniform(-1e1, 1e1, 1000)"
   ]
  },
  {
   "cell_type": "code",
   "execution_count": 77,
   "metadata": {
    "scrolled": true
   },
   "outputs": [
    {
     "name": "stdout",
     "output_type": "stream",
     "text": [
      "secret_value = -0.236893, guessed_value = -0.237000\n",
      "secret_value = 3.837977, guessed_value = 3.838000\n",
      "secret_value = -3.679204, guessed_value = -3.679000\n",
      "secret_value = 4.449552, guessed_value = 4.449000\n",
      "secret_value = 0.332456, guessed_value = 0.332000\n",
      "secret_value = 3.216816, guessed_value = 3.217000\n",
      "secret_value = 0.200418, guessed_value = 3.206000\n",
      "secret_value = 0.214317, guessed_value = 0.214000\n",
      "secret_value = 2.272627, guessed_value = 2.273000\n",
      "secret_value = 0.162747, guessed_value = 2.604000\n",
      "secret_value = 0.278909, guessed_value = 0.279000\n",
      "secret_value = 0.241718, guessed_value = 0.242000\n",
      "secret_value = -1.455040, guessed_value = -1.455000\n",
      "secret_value = 4.594359, guessed_value = 4.594000\n",
      "secret_value = 1.958890, guessed_value = 1.959000\n",
      "secret_value = -0.089913, guessed_value = -2.877000\n",
      "secret_value = -0.393440, guessed_value = -0.394000\n",
      "secret_value = -0.422019, guessed_value = -0.422000\n",
      "secret_value = 0.352845, guessed_value = 0.353000\n",
      "secret_value = -4.816189, guessed_value = -4.816000\n",
      "secret_value = -2.433509, guessed_value = -4.867000\n",
      "secret_value = -0.001374, guessed_value = -0.352000\n",
      "secret_value = -0.368266, guessed_value = -0.368000\n",
      "secret_value = -0.297528, guessed_value = -0.297000\n",
      "secret_value = -0.183978, guessed_value = -0.184000\n",
      "secret_value = -2.856737, guessed_value = -2.857000\n",
      "secret_value = 0.239636, guessed_value = 0.239000\n",
      "secret_value = 0.005106, guessed_value = 1.307000\n",
      "secret_value = -0.289914, guessed_value = -0.290000\n",
      "secret_value = 0.042528, guessed_value = 2.721000\n",
      "secret_value = 0.125981, guessed_value = 0.126000\n",
      "secret_value = 0.592982, guessed_value = 0.593000\n",
      "secret_value = 0.368530, guessed_value = 0.368000\n",
      "secret_value = 0.188606, guessed_value = 3.018000\n",
      "secret_value = -2.729342, guessed_value = -2.729000\n",
      "secret_value = -2.606691, guessed_value = -2.606000\n",
      "secret_value = 0.262380, guessed_value = 0.262000\n",
      "secret_value = -3.354826, guessed_value = -3.355000\n",
      "secret_value = 0.760866, guessed_value = 0.761000\n",
      "secret_value = 3.155406, guessed_value = 3.155000\n",
      "secret_value = -2.148128, guessed_value = -2.148000\n",
      "secret_value = 1.002117, guessed_value = 1.002000\n",
      "secret_value = -0.080027, guessed_value = -2.561000\n",
      "secret_value = 0.210245, guessed_value = 0.210000\n",
      "secret_value = -0.711382, guessed_value = -0.711000\n",
      "secret_value = -2.258560, guessed_value = -2.258000\n",
      "secret_value = 0.530314, guessed_value = 0.530000\n",
      "secret_value = 3.951419, guessed_value = 3.952000\n",
      "secret_value = -3.047218, guessed_value = -3.047000\n",
      "secret_value = 4.176463, guessed_value = 4.176000\n",
      "secret_value = -0.255331, guessed_value = -0.256000\n",
      "secret_value = 1.306550, guessed_value = 1.307000\n",
      "secret_value = -0.016269, guessed_value = -4.165000\n",
      "secret_value = -0.865037, guessed_value = -0.865000\n",
      "secret_value = 0.960124, guessed_value = 0.960000\n",
      "secret_value = 4.613159, guessed_value = 4.613000\n",
      "secret_value = -4.854488, guessed_value = -4.854000\n",
      "secret_value = -2.640574, guessed_value = -2.641000\n",
      "secret_value = 0.148523, guessed_value = 4.753000\n",
      "secret_value = -0.988366, guessed_value = -0.988000\n",
      "CPU times: user 2h 55min 12s, sys: 22.3 s, total: 2h 55min 34s\n",
      "Wall time: 2h 55min 42s\n"
     ]
    }
   ],
   "source": [
    "%%time\n",
    "for idx in secret_numbers:\n",
    "    if idx in batinta_results.index:\n",
    "        continue    \n",
    "    batinta_results[idx] = batina_guess_number(idx, guess_range, prescision, known_inputs)\n",
    "    print('secret_value = %f, guessed_value = %f' % (idx, batinta_results[idx]))\n",
    "batinta_results.sort_index(inplace=True)    "
   ]
  },
  {
   "cell_type": "markdown",
   "metadata": {},
   "source": [
    "### Save data"
   ]
  },
  {
   "cell_type": "code",
   "execution_count": 78,
   "metadata": {},
   "outputs": [
    {
     "name": "stdout",
     "output_type": "stream",
     "text": [
      "'batinta_results_fname = batinta_results-20200523_9dcc.csv'\n"
     ]
    }
   ],
   "source": [
    "from datetime import datetime\n",
    "batinta_results_fname = 'batinta_results-%s_%s.csv' % (datetime.now().strftime(\"%Y%m%d\"), secret_signature(secret_numbers).decode('utf8'))\n",
    "batinta_results.to_csv(batinta_results_fname)\n",
    "pprint('batinta_results_fname = %s' % batinta_results_fname)"
   ]
  },
  {
   "cell_type": "markdown",
   "metadata": {},
   "source": [
    "### Load data"
   ]
  },
  {
   "cell_type": "code",
   "execution_count": 79,
   "metadata": {},
   "outputs": [
    {
     "data": {
      "text/plain": [
       "-4.854488   -4.854\n",
       "-4.816189   -4.816\n",
       "-4.816189   -4.816\n",
       "-4.593031   -4.593\n",
       "-4.248722   -4.249\n",
       "             ...  \n",
       " 4.449552    4.450\n",
       " 4.488719    4.489\n",
       " 4.594359    4.594\n",
       " 4.594359    4.594\n",
       " 4.613159    4.613\n",
       "Name: guessed_numbers, Length: 131, dtype: float64"
      ]
     },
     "execution_count": 79,
     "metadata": {},
     "output_type": "execute_result"
    }
   ],
   "source": [
    "# batinta_results_fname = 'batinta_results-%s.csv' % '20200522_071337'\n",
    "batinta_results = pd.read_csv(batinta_results_fname, index_col=0, squeeze=True)\n",
    "batinta_results.sort_index(inplace=True)    \n",
    "batinta_results"
   ]
  },
  {
   "cell_type": "markdown",
   "metadata": {},
   "source": [
    "### Graphs"
   ]
  },
  {
   "cell_type": "code",
   "execution_count": 80,
   "metadata": {},
   "outputs": [
    {
     "data": {
      "image/png": "[encoded data removed]",
      "text/plain": [
       "<Figure size 864x432 with 1 Axes>"
      ]
     },
     "metadata": {
      "needs_background": "light"
     },
     "output_type": "display_data"
    }
   ],
   "source": [
    "ax = batinta_results.plot(figsize = (12, 6), marker='.', label='batina')\n",
    "#results.plot(ax=ax, marker='.', label='bxlab')\n",
    "ax.plot(batinta_results.index, batinta_results.index, marker='.', linewidth=1, label='secret_numbers')\n",
    "ax.legend()\n",
    "ax.set_xlabel('secret values')\n",
    "ax.set_ylabel('guessed values')\n",
    "ax.grid(True)"
   ]
  },
  {
   "cell_type": "code",
   "execution_count": 81,
   "metadata": {},
   "outputs": [
    {
     "data": {
      "image/png": "[encoded data removed]",
      "text/plain": [
       "<Figure size 864x432 with 1 Axes>"
      ]
     },
     "metadata": {
      "needs_background": "light"
     },
     "output_type": "display_data"
    }
   ],
   "source": [
    "batina_error_rate = ((batinta_results - batinta_results.index)/batinta_results.index).abs()\n",
    "ax = batina_error_rate.plot(figsize = (12, 6), label='batina error rate')\n",
    "#ax = error_rate.plot(ax=ax, label='error rate')\n",
    "ax.legend()\n",
    "ax.set_xlabel('secret values')\n",
    "ax.set_ylabel('error rates')\n",
    "ax.grid(True)"
   ]
  },
  {
   "cell_type": "code",
   "execution_count": 82,
   "metadata": {},
   "outputs": [
    {
     "data": {
      "text/plain": [
       "-2.433509      0.999992\n",
       "-0.154657     30.999790\n",
       "-0.089913     30.997552\n",
       "-0.089913     30.997552\n",
       "-0.080027     31.001784\n",
       "-0.076697     62.992490\n",
       "-0.062795     63.001525\n",
       "-0.062136     63.004641\n",
       "-0.029280    127.006998\n",
       "-0.016269    255.007483\n",
       "-0.001374    255.256193\n",
       " 0.005106    254.970107\n",
       " 0.042528     62.982030\n",
       " 0.148523     31.001691\n",
       " 0.148798     30.996367\n",
       " 0.162747     15.000295\n",
       " 0.162747     15.000295\n",
       " 0.162747     15.000295\n",
       " 0.188606     15.001624\n",
       " 0.200418     14.996595\n",
       " 0.200418     15.001585\n",
       " 0.200418     14.996595\n",
       "dtype: float64"
      ]
     },
     "execution_count": 82,
     "metadata": {},
     "output_type": "execute_result"
    }
   ],
   "source": [
    "batina_error_rate[batina_error_rate > 0.10]"
   ]
  },
  {
   "cell_type": "code",
   "execution_count": 83,
   "metadata": {},
   "outputs": [
    {
     "data": {
      "text/plain": [
       "True     109\n",
       "False     22\n",
       "dtype: int64"
      ]
     },
     "execution_count": 83,
     "metadata": {},
     "output_type": "execute_result"
    }
   ],
   "source": [
    "(batina_error_rate < 0.10).value_counts()"
   ]
  },
  {
   "cell_type": "code",
   "execution_count": null,
   "metadata": {},
   "outputs": [],
   "source": []
  }
 ],
 "metadata": {
  "kernelspec": {
   "display_name": "Python 3",
   "language": "python",
   "name": "python3"
  },
  "language_info": {
   "codemirror_mode": {
    "name": "ipython",
    "version": 3
   },
   "file_extension": ".py",
   "mimetype": "text/x-python",
   "name": "python",
   "nbconvert_exporter": "python",
   "pygments_lexer": "ipython3",
   "version": "3.7.5"
  }
 },
 "nbformat": 4,
 "nbformat_minor": 4
}
