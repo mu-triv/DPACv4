{
 "cells": [
  {
   "cell_type": "markdown",
   "metadata": {},
   "source": [
    "# Hamming weight and Pearson Correlation\n",
    "\n",
    "This notebook demonstrates how to guess a floating number using Hamming Weight model.\n",
    "\n",
    "\n",
    "We generate a random secret floating number. Then we use hamming weight model to guess the number.\n",
    "\n",
    "We develop a method of devide-and-conquer to quickly arrive to a close number with a defined precision."
   ]
  },
  {
   "cell_type": "markdown",
   "metadata": {},
   "source": [
    "## Guessing..."
   ]
  },
  {
   "cell_type": "code",
   "execution_count": 67,
   "metadata": {},
   "outputs": [],
   "source": [
    "import numpy as np\n",
    "import pandas as pd\n",
    "import hashlib\n",
    "from guess_range import *\n",
    "from pprint import pprint\n",
    "\n",
    "import pathlib\n",
    "TEST_RESULT_DIR = './results'\n",
    "pathlib.Path(TEST_RESULT_DIR).mkdir(parents=True, exist_ok=True) "
   ]
  },
  {
   "cell_type": "code",
   "execution_count": 2,
   "metadata": {},
   "outputs": [],
   "source": [
    "import binascii\n",
    "\n",
    "def secret_signature(secret_numbers):\n",
    "    m = hashlib.md5()\n",
    "    m.update(secret_numbers)\n",
    "    a = m.digest()\n",
    "    s = 2\n",
    "    n = [0] * s\n",
    "    for idx in range(len(a)):\n",
    "        i = idx % s\n",
    "        n[i] = (n[i] + a[idx]) % 256\n",
    "    return binascii.hexlify(bytes(n))        "
   ]
  },
  {
   "cell_type": "markdown",
   "metadata": {},
   "source": [
    "## Test single point"
   ]
  },
  {
   "cell_type": "code",
   "execution_count": 3,
   "metadata": {},
   "outputs": [],
   "source": [
    "SECRET_VALUE = 'secret value'\n",
    "\n",
    "guess_range = (-5.0, 5.0)\n",
    "precision = 1e-8\n",
    "exponent= 0"
   ]
  },
  {
   "cell_type": "code",
   "execution_count": 11,
   "metadata": {},
   "outputs": [
    {
     "name": "stdout",
     "output_type": "stream",
     "text": [
      "secret_number = -0.74667392\n"
     ]
    }
   ],
   "source": [
    "# secret_number = random.uniform(guess_range[0] / 10, guess_range[1] / 10)\n",
    "secret_number = -0.746673921 * (10 ** exponent)\n",
    "known_input_set = generate_known_inputs(exps=[-2,0,2], nsize=500)\n",
    "secret_hws = (known_input_set * secret_number).applymap(lambda x: hamming_weight(x))\n",
    "#secret_number = np.round(secret_number, int(-np.log10(precision)))\n",
    "print('secret_number = %.08f' % secret_number)\n",
    "number_of_guess_values = 500"
   ]
  },
  {
   "cell_type": "code",
   "execution_count": 12,
   "metadata": {},
   "outputs": [
    {
     "name": "stdout",
     "output_type": "stream",
     "text": [
      "get_range_candidates (-5.0, 5.0)\n",
      "get_range_candidates (-5.0, 0.0)\n",
      "inputs_idx=-2\n",
      "guess_number_range\n",
      "inputs_idx=0\n",
      "guess_number_range\n",
      "inputs_idx=2\n",
      "guess_number_range\n",
      "filter_duplicated_ranges\n",
      "get_range_candidates (0.0, 5.0)\n",
      "inputs_idx=-2\n",
      "guess_number_range\n",
      "inputs_idx=0\n",
      "guess_number_range\n",
      "inputs_idx=2\n",
      "guess_number_range\n",
      "filter_duplicated_ranges\n",
      "filter_duplicated_ranges\n",
      "CPU times: user 1min 18s, sys: 1.17 s, total: 1min 19s\n",
      "Wall time: 1min 19s\n"
     ]
    },
    {
     "data": {
      "text/html": [
       "<div>\n",
       "<style scoped>\n",
       "    .dataframe tbody tr th:only-of-type {\n",
       "        vertical-align: middle;\n",
       "    }\n",
       "\n",
       "    .dataframe tbody tr th {\n",
       "        vertical-align: top;\n",
       "    }\n",
       "\n",
       "    .dataframe thead th {\n",
       "        text-align: right;\n",
       "    }\n",
       "</style>\n",
       "<table border=\"1\" class=\"dataframe\">\n",
       "  <thead>\n",
       "    <tr style=\"text-align: right;\">\n",
       "      <th></th>\n",
       "      <th>0</th>\n",
       "      <th>1</th>\n",
       "      <th>2</th>\n",
       "    </tr>\n",
       "  </thead>\n",
       "  <tbody>\n",
       "    <tr>\n",
       "      <th>low value</th>\n",
       "      <td>-0.746674</td>\n",
       "      <td>0.746674</td>\n",
       "      <td>0.373337</td>\n",
       "    </tr>\n",
       "    <tr>\n",
       "      <th>high value</th>\n",
       "      <td>-0.746674</td>\n",
       "      <td>0.746674</td>\n",
       "      <td>0.373337</td>\n",
       "    </tr>\n",
       "    <tr>\n",
       "      <th>correlation</th>\n",
       "      <td>1.000000</td>\n",
       "      <td>0.927967</td>\n",
       "      <td>0.877956</td>\n",
       "    </tr>\n",
       "    <tr>\n",
       "      <th>input id</th>\n",
       "      <td>0.000000</td>\n",
       "      <td>2.000000</td>\n",
       "      <td>0.000000</td>\n",
       "    </tr>\n",
       "  </tbody>\n",
       "</table>\n",
       "</div>"
      ],
      "text/plain": [
       "                    0         1         2\n",
       "low value   -0.746674  0.746674  0.373337\n",
       "high value  -0.746674  0.746674  0.373337\n",
       "correlation  1.000000  0.927967  0.877956\n",
       "input id     0.000000  2.000000  0.000000"
      ]
     },
     "execution_count": 12,
     "metadata": {},
     "output_type": "execute_result"
    }
   ],
   "source": [
    "%%time\n",
    "candidates = get_range_candidates(secret_hws=secret_hws,\n",
    "                                  guess_range=guess_range,\n",
    "                                  known_input_set=known_input_set,\n",
    "                                  precision=precision,\n",
    "                                  number_values=number_of_guess_values)\n",
    "candidates"
   ]
  },
  {
   "cell_type": "code",
   "execution_count": 13,
   "metadata": {
    "scrolled": true
   },
   "outputs": [
    {
     "name": "stdout",
     "output_type": "stream",
     "text": [
      "secret_number= -0.746673921\n",
      "guessed_value= -0.7466739183291793\n",
      "weight_value= low value     -0.746674\n",
      "high value    -0.746674\n",
      "correlation    1.000000\n",
      "input id       0.000000\n",
      "Name: 0, dtype: float64\n",
      "CPU times: user 1.97 s, sys: 36 ms, total: 2.01 s\n",
      "Wall time: 2 s\n"
     ]
    }
   ],
   "source": [
    "%%time\n",
    "weight_value = dismiss_bad_ranges(secret_hws, candidates, known_input_set, number_values=number_of_guess_values)\n",
    "print('secret_number=', secret_number)\n",
    "print('guessed_value=', (weight_value[HIGH_VALUE]+weight_value[LOW_VALUE])/2)\n",
    "print('weight_value=', weight_value)"
   ]
  },
  {
   "cell_type": "markdown",
   "metadata": {},
   "source": [
    "## Test with guess_number_range in [0.1, 1]"
   ]
  },
  {
   "cell_type": "code",
   "execution_count": 63,
   "metadata": {
    "scrolled": true
   },
   "outputs": [
    {
     "name": "stdout",
     "output_type": "stream",
     "text": [
      "guess_number_range\n",
      "----secret_number= 0.3562388464528947\n",
      "guessed_number= 0.35623884410783657 correlation= 1.0 error= 6.582825458307061e-09\n",
      "guess_number_range\n",
      "----secret_number= 0.5570101717824029\n",
      "guessed_number= 0.5570101688839496 correlation= 1.0 error= 5.203591248450037e-09\n",
      "guess_number_range\n",
      "----secret_number= 0.6849174169508093\n",
      "guessed_number= 0.6849174200110139 correlation= 1.0 error= 4.467990532122575e-09\n",
      "guess_number_range\n",
      "----secret_number= 0.30679105102065946\n",
      "guessed_number= 0.30679105055704714 correlation= 0.9999999999999999 error= 1.5111663578916533e-09\n",
      "guess_number_range\n",
      "----secret_number= 0.379369904578024\n",
      "guessed_number= 0.3793699034042656 correlation= 0.9999999999999999 error= 3.0939682078755705e-09\n",
      "guess_number_range\n",
      "----secret_number= 0.43197436040789294\n",
      "guessed_number= 0.4319743584431708 correlation= 1.0 error= 4.5482379113525826e-09\n",
      "guess_number_range\n",
      "----secret_number= 0.3843240218365953\n",
      "guessed_number= 0.38432402386143805 correlation= 1.0 error= 5.268582297427327e-09\n",
      "guess_number_range\n",
      "----secret_number= 0.2069258122229078\n",
      "guessed_number= 0.20692581476643682 correlation= 1.0 error= 1.2291985223906036e-08\n",
      "guess_number_range\n",
      "----secret_number= 0.48880645200381145\n",
      "guessed_number= 0.4888064492754638 correlation= 1.0 error= 5.581652303737971e-09\n",
      "guess_number_range\n",
      "----secret_number= 0.8163094239990352\n",
      "guessed_number= 0.8163094224743545 correlation= 1.0 error= 1.867773016199655e-09\n",
      "guess_number_range\n",
      "----secret_number= 0.21228138510552425\n",
      "guessed_number= 0.2122813844420016 correlation= 1.0 error= 3.1256751653380623e-09\n",
      "guess_number_range\n",
      "----secret_number= 0.6999311566908957\n",
      "guessed_number= 0.699931158926338 correlation= 1.0 error= 3.1938030681499627e-09\n",
      "guess_number_range\n",
      "----secret_number= 0.1756832116006486\n",
      "guessed_number= 0.1756832149587572 correlation= 1.0 error= 1.9114567443046255e-08\n",
      "guess_number_range\n",
      "----secret_number= 0.9362886428323874\n",
      "guessed_number= 0.9362886456362903 correlation= 1.0 error= 2.9946992405750567e-09\n",
      "guess_number_range\n",
      "----secret_number= 0.8593166385123453\n",
      "guessed_number= 0.8593166352175179 correlation= 1.0 error= 3.834241376506587e-09\n",
      "guess_number_range\n",
      "----secret_number= 0.7517972772163187\n",
      "guessed_number= 0.7517972741909323 correlation= 0.9999999999999999 error= 4.024205031786882e-09\n",
      "guess_number_range\n",
      "----secret_number= 0.30486698613156776\n",
      "guessed_number= 0.3048669849149883 correlation= 1.0 error= 3.990525388564726e-09\n",
      "guess_number_range\n",
      "----secret_number= 0.27916030565474387\n",
      "guessed_number= 0.279160305518657 correlation= 0.9999999999999999 error= 4.874864414578144e-10\n",
      "guess_number_range\n",
      "----secret_number= 0.4931792270885219\n",
      "guessed_number= 0.4931885908581316 correlation= 0.8300638619059391 error= 1.8986545043619684e-05\n",
      "guess_number_range\n",
      "----secret_number= 0.7329623926693482\n",
      "guessed_number= 0.7329623901434242 correlation= 0.9999999999999999 error= 3.4461848789770204e-09\n",
      "guess_number_range\n",
      "----secret_number= 0.362037864343301\n",
      "guessed_number= 0.3620378660745919 correlation= 0.9999999999999999 error= 4.782071321654857e-09\n",
      "guess_number_range\n",
      "----secret_number= 0.7167309319556814\n",
      "guessed_number= 0.7167309313304723 correlation= 1.0 error= 8.723065781496483e-10\n",
      "guess_number_range\n",
      "----secret_number= 0.6974609301656958\n",
      "guessed_number= 0.6974609325043858 correlation= 1.0 error= 3.3531484249096298e-09\n",
      "guess_number_range\n",
      "----secret_number= 0.6254439331791543\n",
      "guessed_number= 0.6254439353682102 correlation= 0.9999999999999999 error= 3.500003470162254e-09\n",
      "guess_number_range\n",
      "----secret_number= 0.7640783179485783\n",
      "guessed_number= 0.7640783161483706 correlation= 1.0 error= 2.3560512153377483e-09\n",
      "guess_number_range\n",
      "----secret_number= 0.9090041771333851\n",
      "guessed_number= 0.9090041758902371 correlation= 1.0 error= 1.3675933073073938e-09\n",
      "guess_number_range\n",
      "----secret_number= 0.6012249974659414\n",
      "guessed_number= 0.6012249985001981 correlation= 1.0 error= 1.720248966124507e-09\n",
      "guess_number_range\n",
      "----secret_number= 0.7845332741407313\n",
      "guessed_number= 0.78453327556327 correlation= 1.0 error= 1.8132293432901058e-09\n",
      "guess_number_range\n",
      "----secret_number= 0.4943330703204071\n",
      "guessed_number= 0.494333072219044 correlation= 1.0 error= 3.840804972089257e-09\n",
      "guess_number_range\n",
      "----secret_number= 0.4446980552227333\n",
      "guessed_number= 0.4446980538479983 correlation= 0.9999999999999999 error= 3.091389711207921e-09\n",
      "guess_number_range\n",
      "----secret_number= 0.8110854896013229\n",
      "guessed_number= 0.811085487488657 correlation= 1.0 error= 2.6047387694024186e-09\n",
      "guess_number_range\n",
      "----secret_number= 0.9489550578731616\n",
      "guessed_number= 0.9489550592415036 correlation= 1.0 error= 1.4419460478284575e-09\n",
      "guess_number_range\n",
      "----secret_number= 0.5832621076554387\n",
      "guessed_number= 0.5832621095217765 correlation= 1.0 error= 3.19982684716662e-09\n",
      "guess_number_range\n",
      "----secret_number= 0.7842610302477918\n",
      "guessed_number= 0.7842610309384763 correlation= 1.0 error= 8.80681919599284e-10\n",
      "guess_number_range\n",
      "----secret_number= 0.9532256220201274\n",
      "guessed_number= 0.9532256244979798 correlation= 0.9999999999999999 error= 2.5994395350824513e-09\n",
      "guess_number_range\n",
      "----secret_number= 0.25494403491918477\n",
      "guessed_number= 0.25494403370097285 correlation= 1.0 error= 4.7783503568334266e-09\n",
      "guess_number_range\n",
      "----secret_number= 0.3703047667145818\n",
      "guessed_number= 0.37030476492270836 correlation= 1.0 error= 4.838915370473286e-09\n",
      "guess_number_range\n",
      "----secret_number= 0.6264583272289872\n",
      "guessed_number= 0.6264583260230719 correlation= 1.0 error= 1.9249728260065914e-09\n",
      "guess_number_range\n",
      "----secret_number= 0.5793408994402863\n",
      "guessed_number= 0.579340900812298 correlation= 1.0 error= 2.3682286677466697e-09\n",
      "guess_number_range\n",
      "----secret_number= 0.1502103090367615\n",
      "guessed_number= 0.15021030813828115 correlation= 1.0 error= 5.981482572272636e-09\n",
      "guess_number_range\n",
      "----secret_number= 0.4234033248747503\n",
      "guessed_number= 0.42340332163497807 correlation= 1.0 error= 7.651740168143276e-09\n",
      "guess_number_range\n",
      "----secret_number= 0.7320662194083927\n",
      "guessed_number= 0.7320662216581404 correlation= 0.9999999999999999 error= 3.073147840735134e-09\n",
      "guess_number_range\n",
      "----secret_number= 0.8754916602110152\n",
      "guessed_number= 0.8754916580654682 correlation= 1.0 error= 2.450676642425804e-09\n",
      "guess_number_range\n",
      "----secret_number= 0.7587957192565649\n",
      "guessed_number= 0.7587957164905965 correlation= 1.0 error= 3.6452081542639365e-09\n",
      "guess_number_range\n",
      "----secret_number= 0.6141521033576683\n",
      "guessed_number= 0.6141521037034691 correlation= 1.0 error= 5.630538746024632e-10\n",
      "guess_number_range\n",
      "----secret_number= 0.955091253572258\n",
      "guessed_number= 0.9550912537090482 correlation= 1.0 error= 1.432221740964872e-10\n",
      "guess_number_range\n",
      "----secret_number= 0.19815025469695607\n",
      "guessed_number= 0.1981502538062632 correlation= 1.0 error= 4.4950377778926696e-09\n",
      "guess_number_range\n",
      "----secret_number= 0.6383616376902226\n",
      "guessed_number= 0.6383616356961429 correlation= 1.0 error= 3.1237461047510335e-09\n",
      "guess_number_range\n",
      "----secret_number= 0.6810932526572213\n",
      "guessed_number= 0.6810932540409268 correlation= 1.0 error= 2.031594760523616e-09\n",
      "guess_number_range\n",
      "----secret_number= 0.9552637688968775\n",
      "guessed_number= 0.9552637704052029 correlation= 1.0 error= 1.5789622862692725e-09\n",
      "guess_number_range\n",
      "----secret_number= 0.3395498157115988\n",
      "guessed_number= 0.339549815621227 correlation= 1.0 error= 2.66151878033528e-10\n",
      "guess_number_range\n",
      "----secret_number= 0.29810208147237705\n",
      "guessed_number= 0.29810208023712037 correlation= 0.9999999999999999 error= 4.14373716756423e-09\n",
      "guess_number_range\n",
      "----secret_number= 0.7824604833970824\n",
      "guessed_number= 0.7824604840017855 correlation= 0.9999999999999999 error= 7.728224980429625e-10\n",
      "guess_number_range\n",
      "----secret_number= 0.6994721534412093\n",
      "guessed_number= 0.6994721526764334 correlation= 1.0 error= 1.0933614805181683e-09\n",
      "guess_number_range\n",
      "----secret_number= 0.40804910953640217\n",
      "guessed_number= 0.4080491074360907 correlation= 0.9999197631245953 error= 5.14720270478501e-09\n",
      "guess_number_range\n",
      "----secret_number= 0.6635266577233538\n",
      "guessed_number= 0.6635266587175429 correlation= 1.0 error= 1.4983408018878582e-09\n",
      "guess_number_range\n",
      "----secret_number= 0.29338959968033224\n",
      "guessed_number= 0.29338959996029734 correlation= 0.9999999999999999 error= 9.54243459748472e-10\n",
      "guess_number_range\n",
      "----secret_number= 0.977534247929394\n",
      "guessed_number= 0.977534246686846 correlation= 1.0 error= 1.2711043803033306e-09\n",
      "guess_number_range\n"
     ]
    },
    {
     "name": "stdout",
     "output_type": "stream",
     "text": [
      "----secret_number= 0.16062054413848412\n",
      "guessed_number= 0.1606205451823771 correlation= 0.9999999999999998 error= 6.499124863899763e-09\n",
      "guess_number_range\n",
      "----secret_number= 0.45529284150002847\n",
      "guessed_number= 0.4552928439490497 correlation= 0.9999999999999999 error= 5.379002226308101e-09\n",
      "guess_number_range\n",
      "----secret_number= 0.6988964970014852\n",
      "guessed_number= 0.69889649509266 correlation= 0.9999999999999999 error= 2.731198548246249e-09\n",
      "guess_number_range\n",
      "----secret_number= 0.13016204619415608\n",
      "guessed_number= 0.13016204748675222 correlation= 1.0 error= 9.930668570663523e-09\n",
      "guess_number_range\n",
      "----secret_number= 0.728645818922861\n",
      "guessed_number= 0.7286458208821714 correlation= 0.9999999999999999 error= 2.6889751381880297e-09\n",
      "guess_number_range\n",
      "----secret_number= 0.45771480174161094\n",
      "guessed_number= 0.4577148040942848 correlation= 1.0 error= 5.140043154767595e-09\n",
      "guess_number_range\n",
      "----secret_number= 0.28648607719329033\n",
      "guessed_number= 0.2864860791005194 correlation= 1.0 error= 6.657318429048295e-09\n",
      "guess_number_range\n",
      "----secret_number= 0.8819297899389134\n",
      "guessed_number= 0.8819297886379064 correlation= 1.0 error= 1.475182019776913e-09\n",
      "guess_number_range\n",
      "----secret_number= 0.9837817352654911\n",
      "guessed_number= 0.983781735535711 correlation= 1.0 error= 2.746747045960909e-10\n",
      "guess_number_range\n",
      "----secret_number= 0.6115738654443559\n",
      "guessed_number= 0.6115738655440511 correlation= 1.0 error= 1.630142451907116e-10\n",
      "guess_number_range\n",
      "----secret_number= 0.4381135271543074\n",
      "guessed_number= 0.43811352675780657 correlation= 1.0 error= 9.050184657445735e-10\n",
      "guess_number_range\n",
      "----secret_number= 0.5373919745305097\n",
      "guessed_number= 0.5373919748552144 correlation= 0.9999999999999999 error= 6.042232168609277e-10\n",
      "guess_number_range\n",
      "----secret_number= 0.92643021977357\n",
      "guessed_number= 0.9264302216954529 correlation= 1.0 error= 2.0745036528886133e-09\n",
      "guess_number_range\n",
      "----secret_number= 0.7760636599390908\n",
      "guessed_number= 0.7760702169276774 correlation= 0.8202163444520607 error= 8.449034435090682e-06\n",
      "guess_number_range\n",
      "----secret_number= 0.6210127483300207\n",
      "guessed_number= 0.6210127488039434 correlation= 1.0 error= 7.631448471114579e-10\n",
      "guess_number_range\n",
      "----secret_number= 0.5498033503327775\n",
      "guessed_number= 0.5498033491857351 correlation= 0.9999999999999999 error= 2.0862774832078717e-09\n",
      "guess_number_range\n",
      "----secret_number= 0.502028471975838\n",
      "guessed_number= 0.5020284688137473 correlation= 0.9999214595861772 error= 6.298628219127832e-09\n",
      "guess_number_range\n",
      "----secret_number= 0.2553469984687969\n",
      "guessed_number= 0.25534700005128974 correlation= 1.0 error= 6.197421032811571e-09\n",
      "guess_number_range\n",
      "----secret_number= 0.5502673215345655\n",
      "guessed_number= 0.5502673230357468 correlation= 1.0 error= 2.728094567200566e-09\n",
      "guess_number_range\n",
      "----secret_number= 0.6370104103467684\n",
      "guessed_number= 0.6370104081891479 correlation= 1.0 error= 3.3871040278818663e-09\n",
      "guess_number_range\n",
      "----secret_number= 0.6718270334357475\n",
      "guessed_number= 0.6718270351625979 correlation= 0.9999999999999999 error= 2.5703795091257425e-09\n",
      "guess_number_range\n",
      "----secret_number= 0.9657555243254241\n",
      "guessed_number= 0.9657555230818691 correlation= 1.0 error= 1.2876499335497224e-09\n",
      "guess_number_range\n",
      "----secret_number= 0.6105645548477069\n",
      "guessed_number= 0.6105645566098393 correlation= 0.9999999999999999 error= 2.8860706471958184e-09\n",
      "guess_number_range\n",
      "----secret_number= 0.6423363603325853\n",
      "guessed_number= 0.6423363602273168 correlation= 1.0 error= 1.6388387477067374e-10\n",
      "guess_number_range\n",
      "----secret_number= 0.7773358373429126\n",
      "guessed_number= 0.777335840601474 correlation= 1.0 error= 4.191960879910158e-09\n",
      "guess_number_range\n",
      "----secret_number= 0.2965781948557419\n",
      "guessed_number= 0.2965781950615347 correlation= 1.0 error= 6.938906190448702e-10\n",
      "guess_number_range\n",
      "----secret_number= 0.5278184275337533\n",
      "guessed_number= 0.5278184293545782 correlation= 0.9999999999999999 error= 3.4497183885381303e-09\n",
      "guess_number_range\n",
      "----secret_number= 0.20466447354228662\n",
      "guessed_number= 0.20466447592899206 correlation= 0.9999999999999999 error= 1.1661552213151103e-08\n",
      "guess_number_range\n",
      "----secret_number= 0.15454030232604657\n",
      "guessed_number= 0.15454030334576965 correlation= 1.0 error= 6.598428166648332e-09\n",
      "guess_number_range\n",
      "----secret_number= 0.7815738230971339\n",
      "guessed_number= 0.7815738210864364 correlation= 1.0 error= 2.572626459548177e-09\n",
      "guess_number_range\n",
      "----secret_number= 0.41492227394000747\n",
      "guessed_number= 0.41492227223142986 correlation= 1.0 error= 4.1178257231175325e-09\n",
      "guess_number_range\n",
      "----secret_number= 0.13465576532544302\n",
      "guessed_number= 0.13465576539561155 correlation= 0.9999999999999998 error= 5.210956803622713e-10\n",
      "guess_number_range\n",
      "----secret_number= 0.11368898143272341\n",
      "guessed_number= 0.11368898205831646 correlation= 1.0 error= 5.50267089828719e-09\n",
      "guess_number_range\n",
      "----secret_number= 0.7664406147977332\n",
      "guessed_number= 0.7664406181015075 correlation= 1.0 error= 4.310541875530715e-09\n",
      "guess_number_range\n",
      "----secret_number= 0.5041184052469319\n",
      "guessed_number= 0.5041184053085745 correlation= 1.0 error= 1.22278199546123e-10\n",
      "guess_number_range\n",
      "----secret_number= 0.24799474223117532\n",
      "guessed_number= 0.2479947437904775 correlation= 0.9999189511960931 error= 6.287642122335805e-09\n",
      "guess_number_range\n",
      "----secret_number= 0.22226464176198651\n",
      "guessed_number= 0.22226464283093808 correlation= 1.0 error= 4.8093639981516216e-09\n",
      "guess_number_range\n",
      "----secret_number= 0.8175997254285906\n",
      "guessed_number= 0.8175997230373326 correlation= 0.9999999999999999 error= 2.924729418372264e-09\n",
      "guess_number_range\n",
      "----secret_number= 0.7597178182283242\n",
      "guessed_number= 0.7597178171910346 correlation= 1.0 error= 1.365361668068605e-09\n",
      "guess_number_range\n",
      "----secret_number= 0.8523768674825011\n",
      "guessed_number= 0.8523768643029034 correlation= 1.0 error= 3.730272157240267e-09\n",
      "guess_number_range\n",
      "----secret_number= 0.13749899903529264\n",
      "guessed_number= 0.13749899816885594 correlation= 1.0 error= 6.301403691978097e-09\n",
      "guess_number_range\n",
      "----secret_number= 0.3101738751238482\n",
      "guessed_number= 0.31016942812129855 correlation= 0.8472552331517835 error= 1.4337127999158756e-05\n",
      "CPU times: user 8min 19s, sys: 99 ms, total: 8min 19s\n",
      "Wall time: 8min 19s\n"
     ]
    }
   ],
   "source": [
    "%%time\n",
    "number_of_tests = 100\n",
    "precision = 1e-8\n",
    "exponent = 0\n",
    "guess_range=(0.099, 10.0 ** exponent)\n",
    "secret_numbers = np.random.uniform(0.099, 1, number_of_tests) * (10 ** exponent)\n",
    "known_inputs = generate_known_inputs(exps=(exponent+1), nsize=500)\n",
    "\n",
    "GUESSED_VALUE= 'guessed_value'\n",
    "ERROR='error'\n",
    "\n",
    "df = pd.DataFrame(columns=[LOW_VALUE, HIGH_VALUE, CORRELATION, GUESSED_VALUE, ERROR], index=secret_numbers)\n",
    "for secret_number in secret_numbers:\n",
    "    l, h, c = guess_number_range((known_inputs * secret_number).apply(lambda x: hamming_weight(x)),\n",
    "                            guess_range, precision, known_inputs, number_values=200)\n",
    "    s = pd.Series([l, h, c, (l+h)/2, abs(((l+h)/2-secret_number)/secret_number)], index=df.columns)\n",
    "    df.loc[secret_number] = s\n",
    "    print('----secret_number=', secret_number)\n",
    "    print('guessed_number=', s[GUESSED_VALUE], 'correlation=', c, 'error=', s[ERROR])"
   ]
  },
  {
   "cell_type": "code",
   "execution_count": 69,
   "metadata": {},
   "outputs": [
    {
     "name": "stdout",
     "output_type": "stream",
     "text": [
      "save results in ./results/edgeaisec_results-100.csv\n"
     ]
    }
   ],
   "source": [
    "from os import path\n",
    "\n",
    "fname = path.join(TEST_RESULT_DIR, 'edgeaisec_results-%d.csv' % number_of_tests)\n",
    "df.to_csv(fname)\n",
    "print('save results in %s' % fname)"
   ]
  },
  {
   "cell_type": "markdown",
   "metadata": {},
   "source": [
    "### Guessed values"
   ]
  },
  {
   "cell_type": "code",
   "execution_count": 64,
   "metadata": {},
   "outputs": [
    {
     "data": {
      "image/png": "[encoded data removed]",
      "text/plain": [
       "<Figure size 1080x432 with 1 Axes>"
      ]
     },
     "metadata": {
      "needs_background": "light"
     },
     "output_type": "display_data"
    }
   ],
   "source": [
    "df.sort_index(inplace=True)\n",
    "ax = df[GUESSED_VALUE].plot(figsize=(15,6), marker='o')\n",
    "ax.plot([min(secret_numbers), max(secret_numbers)], [min(secret_numbers), max(secret_numbers)], color='red', label='ideal')\n",
    "ax.legend()\n",
    "ax.grid()"
   ]
  },
  {
   "cell_type": "markdown",
   "metadata": {},
   "source": [
    "### Error"
   ]
  },
  {
   "cell_type": "code",
   "execution_count": 65,
   "metadata": {},
   "outputs": [
    {
     "data": {
      "image/png": "[encoded data removed]",
      "text/plain": [
       "<Figure size 1080x432 with 1 Axes>"
      ]
     },
     "metadata": {
      "needs_background": "light"
     },
     "output_type": "display_data"
    }
   ],
   "source": [
    "ax = df[ERROR].plot(figsize=(15,6), marker='o')\n",
    "ax.legend()\n",
    "ax.grid()"
   ]
  },
  {
   "cell_type": "markdown",
   "metadata": {},
   "source": [
    "### Correlation"
   ]
  },
  {
   "cell_type": "code",
   "execution_count": 66,
   "metadata": {},
   "outputs": [
    {
     "data": {
      "image/png": "[encoded data removed]",
      "text/plain": [
       "<Figure size 1080x432 with 1 Axes>"
      ]
     },
     "metadata": {
      "needs_background": "light"
     },
     "output_type": "display_data"
    }
   ],
   "source": [
    "ax = df[CORRELATION].plot(figsize=(15,6), marker='o')\n",
    "ax.set_ylim(0.0, 1.1)\n",
    "ax.legend()\n",
    "ax.grid()"
   ]
  },
  {
   "cell_type": "markdown",
   "metadata": {},
   "source": [
    "---\n",
    "---\n",
    "---"
   ]
  },
  {
   "cell_type": "code",
   "execution_count": 22,
   "metadata": {},
   "outputs": [
    {
     "ename": "AttributeError",
     "evalue": "'Series' object has no attribute 'applymap'",
     "output_type": "error",
     "traceback": [
      "\u001b[0;31m---------------------------------------------------------------------------\u001b[0m",
      "\u001b[0;31mAttributeError\u001b[0m                            Traceback (most recent call last)",
      "\u001b[0;32m<timed exec>\u001b[0m in \u001b[0;36m<module>\u001b[0;34m\u001b[0m\n",
      "\u001b[0;32m/usr/local/lib/python3.7/dist-packages/pandas/core/generic.py\u001b[0m in \u001b[0;36m__getattr__\u001b[0;34m(self, name)\u001b[0m\n\u001b[1;32m   5272\u001b[0m             \u001b[0;32mif\u001b[0m \u001b[0mself\u001b[0m\u001b[0;34m.\u001b[0m\u001b[0m_info_axis\u001b[0m\u001b[0;34m.\u001b[0m\u001b[0m_can_hold_identifiers_and_holds_name\u001b[0m\u001b[0;34m(\u001b[0m\u001b[0mname\u001b[0m\u001b[0;34m)\u001b[0m\u001b[0;34m:\u001b[0m\u001b[0;34m\u001b[0m\u001b[0;34m\u001b[0m\u001b[0m\n\u001b[1;32m   5273\u001b[0m                 \u001b[0;32mreturn\u001b[0m \u001b[0mself\u001b[0m\u001b[0;34m[\u001b[0m\u001b[0mname\u001b[0m\u001b[0;34m]\u001b[0m\u001b[0;34m\u001b[0m\u001b[0;34m\u001b[0m\u001b[0m\n\u001b[0;32m-> 5274\u001b[0;31m             \u001b[0;32mreturn\u001b[0m \u001b[0mobject\u001b[0m\u001b[0;34m.\u001b[0m\u001b[0m__getattribute__\u001b[0m\u001b[0;34m(\u001b[0m\u001b[0mself\u001b[0m\u001b[0;34m,\u001b[0m \u001b[0mname\u001b[0m\u001b[0;34m)\u001b[0m\u001b[0;34m\u001b[0m\u001b[0;34m\u001b[0m\u001b[0m\n\u001b[0m\u001b[1;32m   5275\u001b[0m \u001b[0;34m\u001b[0m\u001b[0m\n\u001b[1;32m   5276\u001b[0m     \u001b[0;32mdef\u001b[0m \u001b[0m__setattr__\u001b[0m\u001b[0;34m(\u001b[0m\u001b[0mself\u001b[0m\u001b[0;34m,\u001b[0m \u001b[0mname\u001b[0m\u001b[0;34m:\u001b[0m \u001b[0mstr\u001b[0m\u001b[0;34m,\u001b[0m \u001b[0mvalue\u001b[0m\u001b[0;34m)\u001b[0m \u001b[0;34m->\u001b[0m \u001b[0;32mNone\u001b[0m\u001b[0;34m:\u001b[0m\u001b[0;34m\u001b[0m\u001b[0;34m\u001b[0m\u001b[0m\n",
      "\u001b[0;31mAttributeError\u001b[0m: 'Series' object has no attribute 'applymap'"
     ]
    }
   ],
   "source": [
    "%%time\n",
    "secret_hw=(known_inputs * secret_number).applymap(lambda x: hamming_weight(x))\n",
    "single_correlations = compute_corr(secret_hw=secret_hw, known_inputs=known_inputs,\n",
    "                                   guess_range=guess_range, number_values=number_of_guess_values)\n",
    "single_correlations.sort_values(ascending=False, inplace=True)\n",
    "single_correlations.iloc[:10]"
   ]
  },
  {
   "cell_type": "code",
   "execution_count": 9,
   "metadata": {},
   "outputs": [
    {
     "ename": "NameError",
     "evalue": "name 'single_correlations' is not defined",
     "output_type": "error",
     "traceback": [
      "\u001b[0;31m---------------------------------------------------------------------------\u001b[0m",
      "\u001b[0;31mNameError\u001b[0m                                 Traceback (most recent call last)",
      "\u001b[0;32m<ipython-input-9-4eebaacad6db>\u001b[0m in \u001b[0;36m<module>\u001b[0;34m\u001b[0m\n\u001b[0;32m----> 1\u001b[0;31m \u001b[0max\u001b[0m \u001b[0;34m=\u001b[0m \u001b[0msingle_correlations\u001b[0m\u001b[0;34m.\u001b[0m\u001b[0msort_index\u001b[0m\u001b[0;34m(\u001b[0m\u001b[0;34m)\u001b[0m\u001b[0;34m.\u001b[0m\u001b[0mplot\u001b[0m\u001b[0;34m(\u001b[0m\u001b[0mfigsize\u001b[0m\u001b[0;34m=\u001b[0m\u001b[0;34m(\u001b[0m\u001b[0;36m15\u001b[0m\u001b[0;34m,\u001b[0m \u001b[0;36m6\u001b[0m\u001b[0;34m)\u001b[0m\u001b[0;34m,\u001b[0m \u001b[0mlabel\u001b[0m\u001b[0;34m=\u001b[0m\u001b[0;34m'HW correlations'\u001b[0m\u001b[0;34m)\u001b[0m\u001b[0;34m\u001b[0m\u001b[0;34m\u001b[0m\u001b[0m\n\u001b[0m\u001b[1;32m      2\u001b[0m ax.vlines(secret_number, \n\u001b[1;32m      3\u001b[0m           \u001b[0msingle_correlations\u001b[0m\u001b[0;34m.\u001b[0m\u001b[0mmin\u001b[0m\u001b[0;34m(\u001b[0m\u001b[0;34m)\u001b[0m\u001b[0;34m,\u001b[0m\u001b[0;34m\u001b[0m\u001b[0;34m\u001b[0m\u001b[0m\n\u001b[1;32m      4\u001b[0m           \u001b[0msingle_correlations\u001b[0m\u001b[0;34m.\u001b[0m\u001b[0mmax\u001b[0m\u001b[0;34m(\u001b[0m\u001b[0;34m)\u001b[0m\u001b[0;34m,\u001b[0m\u001b[0;34m\u001b[0m\u001b[0;34m\u001b[0m\u001b[0m\n\u001b[1;32m      5\u001b[0m           color='red', label='secret value')\n",
      "\u001b[0;31mNameError\u001b[0m: name 'single_correlations' is not defined"
     ]
    }
   ],
   "source": [
    "ax = single_correlations.sort_index().plot(figsize=(15, 6), label='HW correlations')\n",
    "ax.vlines(secret_number, \n",
    "          single_correlations.min(),\n",
    "          single_correlations.max(),\n",
    "          color='red', label='secret value')\n",
    "ax.legend()\n",
    "ax.grid()"
   ]
  },
  {
   "cell_type": "code",
   "execution_count": null,
   "metadata": {
    "scrolled": true
   },
   "outputs": [],
   "source": [
    "%%time\n",
    "TEST_VALUE = 'test value'\n",
    "low_range, high_range = guess_range\n",
    "\n",
    "results = pd.DataFrame()\n",
    "known_input_size = 2000\n",
    "\n",
    "for (low_range, high_range) in get_subranges(guess_range, precision):\n",
    "    pprint('searching in the range %f - %f' % (low_range, high_range))\n",
    "    exponent = np.floor(-np.log10(np.max(np.abs(np.asarray([low_range, high_range])))))\n",
    "    for e in [exponent-1, exponent, exponent+1]:\n",
    "        known_inputs = np.random.uniform(-10 ** e, 10 ** e, known_input_size)\n",
    "        print(e, known_inputs.min(), known_inputs.max())\n",
    "        secret_hw = np.vectorize(hamming_weight)(known_inputs * secret_number)\n",
    "\n",
    "        corr = compute_corr(secret_hw=secret_hw, known_inputs=known_inputs,\n",
    "                                           guess_range=(low_range, high_range), number_values=number_of_guess_values)\n",
    "        df = pd.DataFrame([corr.index, corr.values], index=[TEST_VALUE, CORRELATION])\n",
    "        df.loc[INPUT_ID] = e\n",
    "        df.loc[LOW_VALUE] = low_range\n",
    "        df.loc[HIGH_VALUE] = high_range\n",
    "        results = pd.concat([results, df], axis=1, ignore_index=True)"
   ]
  },
  {
   "cell_type": "code",
   "execution_count": null,
   "metadata": {},
   "outputs": [],
   "source": [
    "a = results.T\n",
    "for idx, df in a.groupby(INPUT_ID):\n",
    "    d = df[CORRELATION].reset_index(drop=True)\n",
    "    ax = d.plot(figsize=(15,8), label=idx)\n",
    "    ax.legend()\n",
    "    ax.grid()"
   ]
  },
  {
   "cell_type": "code",
   "execution_count": null,
   "metadata": {},
   "outputs": [],
   "source": [
    "a = results.T\n",
    "a.sort_values(CORRELATION, ascending=False)[:10]"
   ]
  },
  {
   "cell_type": "code",
   "execution_count": null,
   "metadata": {
    "scrolled": true
   },
   "outputs": [],
   "source": [
    "a = results.T\n",
    "for g in a[HIGH_VALUE].unique():\n",
    "    b = a[a[HIGH_VALUE] == g]\n",
    "    c = b[[TEST_VALUE, CORRELATION]].set_index(TEST_VALUE).sort_index()\n",
    "    ax = c.plot(figsize=(15,6))\n",
    "    if secret_number <= g:\n",
    "        ax.vlines(secret_number, \n",
    "                  c.min(),\n",
    "                  c.max(),\n",
    "                  color='red', label='secret value')\n",
    "    ax.legend()\n",
    "    ax.grid()"
   ]
  },
  {
   "cell_type": "markdown",
   "metadata": {},
   "source": [
    "### Run advanced search"
   ]
  },
  {
   "cell_type": "code",
   "execution_count": null,
   "metadata": {
    "scrolled": true
   },
   "outputs": [],
   "source": [
    "%%time\n",
    "known_input_size = 1000\n",
    "print('secret_number = %f' % secret_number)\n",
    "print('guess_range = %s' % str(guess_range))\n",
    "results = advanced_guess_number_range(secret_number, guess_range, precision, \n",
    "                                      known_input_size, number_of_guess_values)"
   ]
  },
  {
   "cell_type": "code",
   "execution_count": null,
   "metadata": {},
   "outputs": [],
   "source": [
    "results.sort_values(CORRELATION, ascending=False)"
   ]
  },
  {
   "cell_type": "code",
   "execution_count": null,
   "metadata": {
    "scrolled": true
   },
   "outputs": [],
   "source": [
    "single_results.sort_values(CORRELATION, ascending=False)"
   ]
  },
  {
   "cell_type": "code",
   "execution_count": null,
   "metadata": {
    "scrolled": false
   },
   "outputs": [],
   "source": [
    "guess_values = (single_results[LOW_VALUE] + single_results[HIGH_VALUE]) / 2.0\n",
    "error_rates = ((guess_values - secret_number) / secret_number).abs() * 100.0\n",
    "pprint(error_rates)\n",
    "guessed_number = guess_values[error_rates.idxmin()]    \n",
    "pprint('the secret number = %f' % secret_number)\n",
    "pprint('the guessed number = %f' % guessed_number)\n",
    "pprint('best correlation = %f' % single_results[CORRELATION][error_rates.idxmin()])\n",
    "pprint('error rate = %0.6f%s' % (error_rates.min(), '%'))"
   ]
  },
  {
   "cell_type": "code",
   "execution_count": null,
   "metadata": {},
   "outputs": [],
   "source": [
    "known_inputs = np.random.uniform(-1e2, 1e2, 1000)\n",
    "secret_hw = pd.Series(np.vectorize(hamming_weight)(known_inputs * secret_number))\n",
    "print('guess_range = %s' % str(guess_range))\n",
    "guess_number_range(secret_hw, guess_range, precision, known_inputs)"
   ]
  },
  {
   "cell_type": "markdown",
   "metadata": {},
   "source": [
    "## Test multiple points"
   ]
  },
  {
   "cell_type": "code",
   "execution_count": null,
   "metadata": {},
   "outputs": [],
   "source": [
    "multiple_results = pd.DataFrame()"
   ]
  },
  {
   "cell_type": "code",
   "execution_count": null,
   "metadata": {},
   "outputs": [],
   "source": [
    "n_secret_numbers = 10\n",
    "secret_numbers = np.concatenate((\n",
    "    np.random.uniform(guess_range[0], guess_range[1], int(n_secret_numbers*2/4) ),\n",
    "    np.random.uniform(guess_range[0]*3e-1, guess_range[1]*3e-1, int(n_secret_numbers*1/4)),\n",
    "    np.random.uniform(guess_range[0]*1e-1, guess_range[1]*1e-1, int(n_secret_numbers*1/4))\n",
    "))\n",
    "np.random.shuffle(secret_numbers)\n",
    "print('secret_numbers.shape = %s' % (str(secret_numbers.shape)))"
   ]
  },
  {
   "cell_type": "markdown",
   "metadata": {},
   "source": [
    "### advanced_guess_number_range"
   ]
  },
  {
   "cell_type": "code",
   "execution_count": null,
   "metadata": {
    "scrolled": true
   },
   "outputs": [],
   "source": [
    "%%time\n",
    "loops = 0\n",
    "for idx in secret_numbers:\n",
    "    # if the number is already treated, the ignore it\n",
    "    if (SECRET_VALUE in multiple_results.columns) and (idx in multiple_results[SECRET_VALUE].values):\n",
    "        continue\n",
    "\n",
    "    print('secret_number = %f' % idx)\n",
    "    print('guess_range = %s' % str(guess_range))\n",
    "    results = advanced_guess_number_range(idx, guess_range, precision,\n",
    "                                          known_input_size, number_of_guess_values)\n",
    "    results[SECRET_VALUE] = idx\n",
    "    pprint('=' * 20)\n",
    "    pprint(results)\n",
    "    multiple_results = pd.concat([multiple_results, results], axis=0, ignore_index=True)\n",
    "    loops = loops + 1"
   ]
  },
  {
   "cell_type": "markdown",
   "metadata": {},
   "source": [
    "### get_range_candidates & dismiss_bad_ranges"
   ]
  },
  {
   "cell_type": "code",
   "execution_count": null,
   "metadata": {},
   "outputs": [],
   "source": [
    "%%time\n",
    "loops = 0\n",
    "for idx in secret_numbers:\n",
    "    # if the number is already treated, the ignore it\n",
    "    if (SECRET_VALUE in multiple_results.columns) and (idx in multiple_results[SECRET_VALUE].values):\n",
    "        continue\n",
    "\n",
    "    print('secret_number = %f' % idx)\n",
    "    print('guess_range = %s' % str(guess_range))\n",
    "    range_candidates = get_range_candidates(secret_hws=(known_input_set, idx).applymap(lambda x: hamming_weight(x)),\n",
    "                                            guess_range=guess_range, \n",
    "                                            known_input_set=known_input_set,\n",
    "                                            precision=precision,\n",
    "                                            number_values=number_of_guess_values)\n",
    "    \n",
    "    weight_value = dismiss_bad_ranges(secret_hws=secret_hws,\n",
    "                                      range_df=range_candidates, known_input_set=known_input_set,\n",
    "                                      number_values=number_of_guess_values)\n",
    "    weight_value[SECRET_VALUE] = idx    \n",
    "    pprint('=' * 20)\n",
    "    pprint(weight_value)\n",
    "    multiple_results = pd.concat([multiple_results, weight_value], axis=0, ignore_index=True)"
   ]
  },
  {
   "cell_type": "markdown",
   "metadata": {},
   "source": [
    "### Save data"
   ]
  },
  {
   "cell_type": "code",
   "execution_count": null,
   "metadata": {},
   "outputs": [],
   "source": [
    "from datetime import datetime\n",
    "multiple_results_fname = 'multiple_results-%s_%s.csv' % (datetime.now().strftime(\"%Y%m%d\"), secret_signature(secret_numbers).decode('utf8'))\n",
    "multiple_results.to_csv(multiple_results_fname)\n",
    "pprint('multiple_results_fname = %s' % multiple_results_fname)"
   ]
  },
  {
   "cell_type": "markdown",
   "metadata": {},
   "source": [
    "### Load data"
   ]
  },
  {
   "cell_type": "code",
   "execution_count": null,
   "metadata": {
    "scrolled": true
   },
   "outputs": [],
   "source": [
    "# multiple_results_fname = 'multiple_results-20200523_011136.csv'\n",
    "multiple_results = pd.read_csv(multiple_results_fname, index_col=0)\n",
    "pprint('multiple_results_fname = %s' % multiple_results_fname)\n",
    "multiple_results"
   ]
  },
  {
   "cell_type": "markdown",
   "metadata": {},
   "source": [
    "### Hit targets and missed targets"
   ]
  },
  {
   "cell_type": "code",
   "execution_count": null,
   "metadata": {},
   "outputs": [],
   "source": [
    "#\n",
    "# compute the number of secret values which are present in guessed ranges\n",
    "n_identified_ranges = multiple_results.groupby(SECRET_VALUE).apply(lambda x: ((x[LOW_VALUE]<=x[SECRET_VALUE]) & (x[SECRET_VALUE]<=x[HIGH_VALUE])).any())\n",
    "counts = n_identified_ranges.value_counts()\n",
    "if True in counts.index:\n",
    "    pprint('The number of identified values: %d/%d' % (counts[True], counts.sum()))\n",
    "if False in counts.index:\n",
    "    pprint('The number of missed values: %d/%d' % (counts[False], counts.sum()))"
   ]
  },
  {
   "cell_type": "code",
   "execution_count": null,
   "metadata": {
    "scrolled": true
   },
   "outputs": [],
   "source": [
    "df = multiple_results.loc[multiple_results.groupby(SECRET_VALUE)[CORRELATION].idxmax()]\n",
    "df['guess_values'] = (df[LOW_VALUE] + df[HIGH_VALUE]) / 2.0\n",
    "df['error_rate'] = ((df['guess_values'] - df[SECRET_VALUE])/df[SECRET_VALUE]).abs()\n",
    "df.sort_values('error_rate', ascending=False)[:20].reset_index(drop=True)"
   ]
  },
  {
   "cell_type": "markdown",
   "metadata": {},
   "source": [
    "### Graphs of the first choices"
   ]
  },
  {
   "cell_type": "code",
   "execution_count": null,
   "metadata": {},
   "outputs": [],
   "source": [
    "first_choice_results = multiple_results.loc[multiple_results.groupby(SECRET_VALUE)[CORRELATION].idxmax()]\n",
    "guess_values = (first_choice_results[LOW_VALUE] + first_choice_results[HIGH_VALUE]) / 2.0\n",
    "guess_values.index = first_choice_results[SECRET_VALUE]\n",
    "guess_values.sort_index(inplace=True)\n",
    "error_rate = ((guess_values - guess_values.index)/guess_values.index).abs()\n",
    "(error_rate < 1e-3).value_counts()"
   ]
  },
  {
   "cell_type": "code",
   "execution_count": null,
   "metadata": {},
   "outputs": [],
   "source": [
    "ax = guess_values.plot(figsize = (12, 6), marker='.', label='guessed values')\n",
    "ax.plot(guess_values.index, guess_values.index, marker='.', linewidth=1, label='secret_numbers')\n",
    "ax.legend()\n",
    "ax.set_xlabel('secret values')\n",
    "ax.set_ylabel('guessed values')\n",
    "ax.set_title('the first choices')\n",
    "ax.grid(True)"
   ]
  },
  {
   "cell_type": "code",
   "execution_count": null,
   "metadata": {},
   "outputs": [],
   "source": [
    "ax = error_rate.plot(figsize = (12, 6), label='error rate', marker='.', linewidth=1)\n",
    "ax.legend()\n",
    "ax.set_xlabel('secret values')\n",
    "ax.set_ylabel('error rates')\n",
    "ax.set_title('the first choices')\n",
    "ax.grid(True)"
   ]
  },
  {
   "cell_type": "markdown",
   "metadata": {},
   "source": [
    "### Graphs of the second choice"
   ]
  },
  {
   "cell_type": "code",
   "execution_count": null,
   "metadata": {},
   "outputs": [],
   "source": [
    "pprint('The total number of the second choices is: %d' % (multiple_results.groupby(SECRET_VALUE).size().prod()-1))"
   ]
  },
  {
   "cell_type": "code",
   "execution_count": null,
   "metadata": {},
   "outputs": [],
   "source": [
    "guess_values = ((multiple_results[LOW_VALUE] + multiple_results[HIGH_VALUE]) / 2.0)\n",
    "error_rate = ((guess_values - multiple_results[SECRET_VALUE])/multiple_results[SECRET_VALUE]).abs()\n",
    "second_choice_results = multiple_results.loc[error_rate.groupby(multiple_results[SECRET_VALUE]).idxmin()]\n",
    "guess_values = ((second_choice_results[LOW_VALUE] + second_choice_results[HIGH_VALUE]) / 2.0)\n",
    "guess_values.index = second_choice_results[SECRET_VALUE]\n",
    "guess_values.sort_index(inplace=True)\n",
    "\n",
    "error_rate = ((guess_values - guess_values.index)/guess_values.index).abs()\n",
    "(error_rate < 1e-3).value_counts()"
   ]
  },
  {
   "cell_type": "code",
   "execution_count": null,
   "metadata": {},
   "outputs": [],
   "source": [
    "ax = guess_values.plot(figsize = (12, 6), marker='.', label='guessed values')\n",
    "ax.plot(guess_values.index, guess_values.index, marker='.', linewidth=1, label='secret_numbers')\n",
    "ax.legend()\n",
    "ax.set_xlabel('secret values')\n",
    "ax.set_ylabel('guessed values')\n",
    "ax.set_title('the second choices')\n",
    "ax.grid(True)"
   ]
  },
  {
   "cell_type": "code",
   "execution_count": null,
   "metadata": {},
   "outputs": [],
   "source": [
    "ax = error_rate.plot(figsize = (12, 6), label='error rate', marker='.', linewidth=1)\n",
    "ax.legend()\n",
    "ax.set_xlabel('secret values')\n",
    "ax.set_ylabel('error rates')\n",
    "ax.set_title('the second choices')\n",
    "ax.grid(True)"
   ]
  },
  {
   "cell_type": "markdown",
   "metadata": {},
   "source": [
    "# Batina 1st method"
   ]
  },
  {
   "cell_type": "code",
   "execution_count": null,
   "metadata": {},
   "outputs": [],
   "source": [
    "def batina_guess_number(secret_number, guess_range, precision, known_inputs):\n",
    "    low, high = guess_range\n",
    "    guess_val = np.arange(low, high, precision)\n",
    "    hw = pd.DataFrame(columns=guess_val,\n",
    "                        data=np.vectorize(hamming_weight)(known_inputs.reshape(-1, 1) * guess_val))\n",
    "    hw['actual'] = np.vectorize(hamming_weight)(known_inputs * secret_number)\n",
    "    corr = hw.corr(method='pearson')['actual'].drop('actual')\n",
    "    idxmax = corr.idxmax()\n",
    "    return idxmax, corr[idxmax]"
   ]
  },
  {
   "cell_type": "code",
   "execution_count": null,
   "metadata": {},
   "outputs": [],
   "source": [
    "batinta_results = pd.Series(name='guessed_numbers', dtype=np.float32)"
   ]
  },
  {
   "cell_type": "code",
   "execution_count": null,
   "metadata": {},
   "outputs": [],
   "source": [
    "# we have to define a low precision, otherwise, it takes too long time to run\n",
    "precision = 1e-3\n",
    "known_inputs = np.random.uniform(-1e1, 1e1, 1000)"
   ]
  },
  {
   "cell_type": "code",
   "execution_count": null,
   "metadata": {
    "scrolled": true
   },
   "outputs": [],
   "source": [
    "%%time\n",
    "for idx in secret_numbers:\n",
    "    if idx in batinta_results.index:\n",
    "        continue    \n",
    "    batinta_results[idx], corr = batina_guess_number(idx, guess_range, precision, known_inputs)\n",
    "    print('secret_value = %f, guessed_value = %f, corr=%f' % (idx, batinta_results[idx], corr))\n",
    "batinta_results.sort_index(inplace=True)    "
   ]
  },
  {
   "cell_type": "markdown",
   "metadata": {},
   "source": [
    "### Save data"
   ]
  },
  {
   "cell_type": "code",
   "execution_count": null,
   "metadata": {},
   "outputs": [],
   "source": [
    "from datetime import datetime\n",
    "batinta_results_fname = 'batinta_results-%s_%s.csv' % (datetime.now().strftime(\"%Y%m%d\"), secret_signature(secret_numbers).decode('utf8'))\n",
    "batinta_results.to_csv(batinta_results_fname)\n",
    "pprint('batinta_results_fname = %s' % batinta_results_fname)"
   ]
  },
  {
   "cell_type": "markdown",
   "metadata": {},
   "source": [
    "### Load data"
   ]
  },
  {
   "cell_type": "code",
   "execution_count": null,
   "metadata": {},
   "outputs": [],
   "source": [
    "# batinta_results_fname = 'batinta_results-%s.csv' % '20200522_071337'\n",
    "batinta_results = pd.read_csv(batinta_results_fname, index_col=0, squeeze=True)\n",
    "batinta_results.sort_index(inplace=True)    \n",
    "batinta_results"
   ]
  },
  {
   "cell_type": "markdown",
   "metadata": {},
   "source": [
    "### Graphs"
   ]
  },
  {
   "cell_type": "code",
   "execution_count": null,
   "metadata": {},
   "outputs": [],
   "source": [
    "ax = batinta_results.plot(figsize = (12, 6), marker='.', label='batina')\n",
    "#results.plot(ax=ax, marker='.', label='bxlab')\n",
    "ax.plot(batinta_results.index, batinta_results.index, marker='.', linewidth=1, label='secret_numbers')\n",
    "ax.legend()\n",
    "ax.set_xlabel('secret values')\n",
    "ax.set_ylabel('guessed values')\n",
    "ax.grid(True)"
   ]
  },
  {
   "cell_type": "code",
   "execution_count": null,
   "metadata": {},
   "outputs": [],
   "source": [
    "batina_error_rate = ((batinta_results - batinta_results.index)/batinta_results.index).abs()\n",
    "ax = batina_error_rate.plot(figsize = (12, 6), label='batina error rate')\n",
    "#ax = error_rate.plot(ax=ax, label='error rate')\n",
    "ax.legend()\n",
    "ax.set_xlabel('secret values')\n",
    "ax.set_ylabel('error rates')\n",
    "ax.grid(True)"
   ]
  },
  {
   "cell_type": "code",
   "execution_count": null,
   "metadata": {
    "scrolled": true
   },
   "outputs": [],
   "source": [
    "batina_error_rate[batina_error_rate > 0.10]"
   ]
  },
  {
   "cell_type": "code",
   "execution_count": null,
   "metadata": {},
   "outputs": [],
   "source": [
    "####\n",
    "# number of correctly guessed values / number of wrong values\n",
    "###\n",
    "(batina_error_rate < precision).value_counts()"
   ]
  },
  {
   "cell_type": "markdown",
   "metadata": {},
   "source": [
    "# Annex"
   ]
  },
  {
   "cell_type": "code",
   "execution_count": null,
   "metadata": {},
   "outputs": [],
   "source": [
    "def annex_compute_corr(secret_hw, guess_range, known_inputs, guess_val_size=1000):\n",
    "    low, high = guess_range\n",
    "    guess_val = np.arange(low, high, (high - low) / (guess_val_size - 1e-5))\n",
    "    hw = pd.DataFrame(columns=guess_val,\n",
    "                        data=np.vectorize(hamming_weight)(known_inputs.reshape(-1, 1) * guess_val))\n",
    "    return hw.corrwith(pd.Series(secret_hw), method='pearson')"
   ]
  },
  {
   "cell_type": "code",
   "execution_count": null,
   "metadata": {},
   "outputs": [],
   "source": [
    "guess_range=(-3e0, 3e0)\n",
    "# the number of guess values in the guess range\n",
    "guess_val_size=4000\n",
    "# generate the known inputs which is used to test the guess values\n",
    "known_inputs = np.random.uniform(-1e2, 1e2, 1000)\n",
    "\n",
    "secret_number = random.uniform(guess_range[0], guess_range[1]) \n",
    "secret_number = 6.374345698e-2\n",
    "print('secret_number =', secret_number)\n",
    "\n",
    "secret_hw = np.vectorize(hamming_weight)(known_inputs * secret_number)\n",
    "correlations = annex_compute_corr(secret_hw, guess_range, known_inputs, guess_val_size)\n",
    "correlations_1 = annex_compute_corr(secret_hw, guess_range, known_inputs, int(guess_val_size*10))\n",
    "correlations_2 = annex_compute_corr(secret_hw, guess_range, known_inputs, int(guess_val_size/10))\n",
    "correlations.sort_values(ascending=False).iloc[:10]"
   ]
  },
  {
   "cell_type": "code",
   "execution_count": null,
   "metadata": {},
   "outputs": [],
   "source": [
    "from matplotlib import pyplot as plt\n",
    "fig, ax = plt.subplots(nrows=4, ncols=1, figsize=(15, 20))\n",
    "correlations_1.plot(ax=ax[0], label='corr-%s' % correlations_1.shape[0], color='green')\n",
    "correlations.plot(ax=ax[0], label='corr-%s' % correlations.shape[0], color='magenta')\n",
    "correlations_2.plot(ax=ax[0], label='corr-%s' % correlations_2.shape[0], color='yellow')\n",
    "ax[0].vlines(secret_number, correlations.min(), correlations.max(), color='red')\n",
    "\n",
    "correlations_1.plot(ax=ax[1], label='corr-%s' % correlations_1.shape[0], color='green')\n",
    "ax[1].vlines(secret_number, correlations_1.min(), correlations_1.max(), color='red')\n",
    "\n",
    "correlations.plot(ax=ax[2], label='corr-%s' % correlations.shape[0], color='magenta')\n",
    "ax[2].vlines(secret_number, correlations.min(), correlations.max(), color='red')\n",
    "\n",
    "correlations_2.plot(ax=ax[3], label='corr-%s' % correlations_2.shape[0], color='yellow')\n",
    "ax[3].vlines(secret_number, correlations_2.min(), correlations_2.max(), color='red')\n",
    "\n",
    "for a in ax:\n",
    "    a.legend()\n",
    "    a.grid(True)\n",
    "    a.set_xlabel('guess numbers')\n",
    "    a.set_ylabel('HW correlations')\n",
    "    \n",
    "plt.show()"
   ]
  },
  {
   "cell_type": "code",
   "execution_count": null,
   "metadata": {},
   "outputs": [],
   "source": []
  }
 ],
 "metadata": {
  "kernelspec": {
   "display_name": "Python 3",
   "language": "python",
   "name": "python3"
  },
  "language_info": {
   "codemirror_mode": {
    "name": "ipython",
    "version": 3
   },
   "file_extension": ".py",
   "mimetype": "text/x-python",
   "name": "python",
   "nbconvert_exporter": "python",
   "pygments_lexer": "ipython3",
   "version": "3.7.5"
  }
 },
 "nbformat": 4,
 "nbformat_minor": 4
}
