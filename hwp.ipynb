{
 "cells": [
  {
   "cell_type": "markdown",
   "metadata": {},
   "source": [
    "# Hamming weight and Pearson Correlation\n",
    "\n",
    "This notebook demonstrates how to guess a floating number using Hamming Weight model.\n",
    "\n",
    "\n",
    "We generate a random secret floating number. Then we use hamming weight model to guess the number.\n",
    "\n",
    "We develop a method of devide-and-conquer to quickly arrive to a close number with a defined precision."
   ]
  },
  {
   "cell_type": "markdown",
   "metadata": {},
   "source": [
    "## Guessing..."
   ]
  },
  {
   "cell_type": "code",
   "execution_count": 1,
   "metadata": {},
   "outputs": [],
   "source": [
    "import struct\n",
    "import numpy as np\n",
    "import pandas as pd\n",
    "import random\n",
    "from pprint import pprint\n",
    "\n",
    "from guess_range import *"
   ]
  },
  {
   "cell_type": "code",
   "execution_count": 2,
   "metadata": {},
   "outputs": [],
   "source": [
    "def generate_known_inputs(exps=(-1, 3), nsize=3000):\n",
    "    low, high = exps[0], (exps[1] + 1)\n",
    "    subsize = int(nsize / (high - low))\n",
    "    return pd.DataFrame(\n",
    "        data=[np.random.uniform(-10.0 ** i, 10.0 ** i, subsize) for i in range(low, high)],\n",
    "        index=range(low, high))"
   ]
  },
  {
   "cell_type": "code",
   "execution_count": 3,
   "metadata": {},
   "outputs": [],
   "source": [
    "def guess_number_range_stat(secret_number, guess_range, prescision, known_input_size=3000):\n",
    "    known_input_set = generate_known_inputs(exps=(-1, 3), nsize=known_input_size)\n",
    "    results = guess_number_range_multiple_inputs(secret_number, guess_range, prescision, known_input_set)\n",
    "    # pprint(results)\n",
    "    #\n",
    "    # discard low correlation results\n",
    "    corr_values = results[CORRELATION]\n",
    "    results = results[corr_values > (corr_values.max() * 0.95)].sort_values(CORRELATION, ascending=False)\n",
    "    guess_values = ((results[LOW_VALUE] + results[HIGH_VALUE]) / 2.0).round(decimals=int(-np.log10(prescision)))\n",
    "    return results[~guess_values.duplicated(keep='first')]"
   ]
  },
  {
   "cell_type": "code",
   "execution_count": 4,
   "metadata": {},
   "outputs": [],
   "source": [
    "SECRET_VALUE = 'secret value'\n",
    "\n",
    "guess_range = (-5e0, 5.0e0)\n",
    "prescision = 1e-7\n",
    "#\n",
    "# initalize parameter and generate a random number (secret number)\n",
    "known_input_size = 5000"
   ]
  },
  {
   "cell_type": "markdown",
   "metadata": {},
   "source": [
    "## Test single point"
   ]
  },
  {
   "cell_type": "code",
   "execution_count": 5,
   "metadata": {},
   "outputs": [],
   "source": [
    "secret_number = random.uniform(guess_range[0] / 10, guess_range[1] / 10) "
   ]
  },
  {
   "cell_type": "code",
   "execution_count": 6,
   "metadata": {
    "scrolled": true
   },
   "outputs": [
    {
     "name": "stdout",
     "output_type": "stream",
     "text": [
      "0.25672341624642425\n",
      "CPU times: user 33.8 s, sys: 935 ms, total: 34.7 s\n",
      "Wall time: 34.7 s\n"
     ]
    },
    {
     "data": {
      "text/html": [
       "<div>\n",
       "<style scoped>\n",
       "    .dataframe tbody tr th:only-of-type {\n",
       "        vertical-align: middle;\n",
       "    }\n",
       "\n",
       "    .dataframe tbody tr th {\n",
       "        vertical-align: top;\n",
       "    }\n",
       "\n",
       "    .dataframe thead th {\n",
       "        text-align: right;\n",
       "    }\n",
       "</style>\n",
       "<table border=\"1\" class=\"dataframe\">\n",
       "  <thead>\n",
       "    <tr style=\"text-align: right;\">\n",
       "      <th></th>\n",
       "      <th>low value</th>\n",
       "      <th>high value</th>\n",
       "      <th>correlation</th>\n",
       "    </tr>\n",
       "  </thead>\n",
       "  <tbody>\n",
       "    <tr>\n",
       "      <th>2</th>\n",
       "      <td>0.256723</td>\n",
       "      <td>0.256723</td>\n",
       "      <td>1.000000</td>\n",
       "    </tr>\n",
       "    <tr>\n",
       "      <th>3</th>\n",
       "      <td>4.107575</td>\n",
       "      <td>4.107575</td>\n",
       "      <td>0.984855</td>\n",
       "    </tr>\n",
       "  </tbody>\n",
       "</table>\n",
       "</div>"
      ],
      "text/plain": [
       "   low value  high value  correlation\n",
       "2   0.256723    0.256723     1.000000\n",
       "3   4.107575    4.107575     0.984855"
      ]
     },
     "execution_count": 6,
     "metadata": {},
     "output_type": "execute_result"
    }
   ],
   "source": [
    "%%time\n",
    "single_results = guess_number_range_stat(secret_number, guess_range, prescision, known_input_size)\n",
    "print(secret_number)\n",
    "single_results"
   ]
  },
  {
   "cell_type": "code",
   "execution_count": 7,
   "metadata": {
    "scrolled": false
   },
   "outputs": [
    {
     "name": "stdout",
     "output_type": "stream",
     "text": [
      "2       0.000004\n",
      "3    1499.999990\n",
      "dtype: float64\n",
      "'the secret number = 0.256723'\n",
      "'the guessed number = 0.256723'\n",
      "'best correlation = 1.000000'\n",
      "'error rate = 0.000004%'\n"
     ]
    }
   ],
   "source": [
    "guess_values = (single_results[LOW_VALUE] + single_results[HIGH_VALUE]) / 2.0\n",
    "error_rates = ((guess_values - secret_number) / secret_number).abs() * 100.0\n",
    "pprint(error_rates)\n",
    "guessed_number = guess_values[error_rates.idxmin()]    \n",
    "pprint('the secret number = %f' % secret_number)\n",
    "pprint('the guessed number = %f' % guessed_number)\n",
    "pprint('best correlation = %f' % single_results[CORRELATION][error_rates.idxmin()])\n",
    "pprint('error rate = %0.6f%s' % (error_rates.min(), '%'))"
   ]
  },
  {
   "cell_type": "markdown",
   "metadata": {},
   "source": [
    "## Test multiple points"
   ]
  },
  {
   "cell_type": "code",
   "execution_count": 8,
   "metadata": {},
   "outputs": [],
   "source": [
    "multiple_results = pd.DataFrame()"
   ]
  },
  {
   "cell_type": "code",
   "execution_count": 9,
   "metadata": {},
   "outputs": [
    {
     "name": "stdout",
     "output_type": "stream",
     "text": [
      "secret_numbers.shape = (100,)\n"
     ]
    }
   ],
   "source": [
    "n_secret_numbers = 100\n",
    "secret_numbers = np.concatenate((\n",
    "    np.random.uniform(guess_range[0], guess_range[1], int(n_secret_numbers*2/4) ),\n",
    "    np.random.uniform(guess_range[0]*3e-1, guess_range[1]*3e-1, int(n_secret_numbers*1/4)),\n",
    "    np.random.uniform(guess_range[0]*1e-1, guess_range[1]*1e-1, int(n_secret_numbers*1/4))\n",
    "))\n",
    "np.random.shuffle(secret_numbers)\n",
    "print('secret_numbers.shape = %s' % (str(secret_numbers.shape)))"
   ]
  },
  {
   "cell_type": "code",
   "execution_count": 10,
   "metadata": {
    "scrolled": true
   },
   "outputs": [
    {
     "name": "stdout",
     "output_type": "stream",
     "text": [
      "'===================='\n",
      "   low value  high value  correlation  secret value\n",
      "0  -1.261643   -1.261642          1.0     -1.261642\n",
      "'===================='\n",
      "    low value  high value  correlation  secret value\n",
      " 1  -1.093317   -1.093317     0.999948     -1.093317\n",
      "-1  -4.373267   -4.373267     0.977378     -1.093317\n",
      "'===================='\n",
      "    low value  high value  correlation  secret value\n",
      " 2   0.142161    0.142161     0.998973      0.142161\n",
      "-1   2.274578    2.274579     0.979780      0.142161\n",
      "'===================='\n",
      "   low value  high value  correlation  secret value\n",
      "2  -0.358748   -0.358748     1.000000     -0.358748\n",
      "0  -1.434993   -1.434993     0.979779     -0.358748\n",
      "'===================='\n",
      "   low value  high value  correlation  secret value\n",
      "1   1.424887    1.424887      0.99849      1.424887\n",
      "'===================='\n",
      "    low value  high value  correlation  secret value\n",
      " 0   1.132577    1.132577     1.000000      1.132577\n",
      "-1   4.530309    4.530309     0.979107      1.132577\n",
      "'===================='\n",
      "   low value  high value  correlation  secret value\n",
      "2   0.724015    0.724015          1.0      0.724015\n",
      "'===================='\n",
      "   low value  high value  correlation  secret value\n",
      "0  -0.425582   -0.425582          1.0     -0.425582\n",
      "'===================='\n",
      "   low value  high value  correlation  secret value\n",
      "3   2.537230    2.537231     0.931555      0.634308\n",
      "1   0.634308    0.634308     0.896908      0.634308\n",
      "'===================='\n",
      "    low value  high value  correlation  secret value\n",
      "-1  -1.952893   -1.952893          1.0     -1.952893\n",
      "'===================='\n",
      "    low value  high value  correlation  secret value\n",
      " 1  -0.540889   -0.540889     1.000000     -0.540889\n",
      "-1  -2.163557   -2.163557     0.961828     -0.540889\n",
      "'===================='\n",
      "    low value  high value  correlation  secret value\n",
      "-1  -3.828905   -3.828905          1.0     -3.828905\n",
      "'===================='\n",
      "    low value  high value  correlation  secret value\n",
      " 2   0.185690    0.185690     0.999517       0.18569\n",
      "-1   2.971037    2.971037     0.980716       0.18569\n",
      "'===================='\n",
      "   low value  high value  correlation  secret value\n",
      "0   4.644651    4.644652          1.0      4.644651\n",
      "'===================='\n",
      "    low value  high value  correlation  secret value\n",
      " 0   1.202424    1.202424     1.000000      1.202424\n",
      "-1   4.809698    4.809698     0.980733      1.202424\n",
      "'===================='\n",
      "   low value  high value  correlation  secret value\n",
      "2  -0.328844   -0.328844     0.999935     -0.328844\n",
      "0  -1.315376   -1.315376     0.978900     -0.328844\n",
      "'===================='\n",
      "    low value  high value  correlation  secret value\n",
      "-1  -4.319476   -4.319476          1.0     -4.319476\n",
      "'===================='\n",
      "   low value  high value  correlation  secret value\n",
      "3  -0.701437   -0.701437     0.999862     -0.701437\n",
      "0  -0.043840   -0.043840     0.977517     -0.701437\n",
      "'===================='\n",
      "   low value  high value  correlation  secret value\n",
      "2   0.208087    0.208087     0.999358      0.208087\n",
      "3   3.329399    3.329399     0.986513      0.208087\n",
      "'===================='\n",
      "   low value  high value  correlation  secret value\n",
      "3  -2.518775   -2.518774     0.981821     -0.157423\n",
      "'===================='\n",
      "    low value  high value  correlation  secret value\n",
      "-1  -1.711492   -1.711492          1.0     -1.711492\n",
      "'===================='\n",
      "    low value  high value  correlation  secret value\n",
      " 0  -1.210355   -1.210355     1.000000     -1.210355\n",
      "-1  -4.841420   -4.841420     0.982574     -1.210355\n",
      "'===================='\n",
      "   low value  high value  correlation  secret value\n",
      "1   0.492476    0.492476     1.000000      0.492476\n",
      "0   1.969905    1.969905     0.984877      0.492476\n",
      "'===================='\n",
      "   low value  high value  correlation  secret value\n",
      "0  -1.363835   -1.363835          1.0     -1.363835\n",
      "'===================='\n",
      "   low value  high value  correlation  secret value\n",
      "1   1.357346    1.357346          1.0      1.357346\n",
      "'===================='\n",
      "    low value  high value  correlation  secret value\n",
      "-1   2.913041    2.913041          1.0      2.913041\n",
      "'===================='\n",
      "    low value  high value  correlation  secret value\n",
      "-1  -1.899128   -1.899128          1.0     -1.899128\n",
      "'===================='\n",
      "    low value  high value  correlation  secret value\n",
      "-1  -3.837471   -3.837471      0.98241     -0.239842\n",
      "'===================='\n",
      "   low value  high value  correlation  secret value\n",
      "2  -0.491748   -0.491748     1.000000     -0.491748\n",
      "0  -1.966991   -1.966991     0.983463     -0.491748\n",
      "'===================='\n",
      "   low value  high value  correlation  secret value\n",
      "2  -1.073694   -1.073693          1.0     -1.073694\n",
      "'===================='\n",
      "   low value  high value  correlation  secret value\n",
      "1  -1.499741   -1.499741     0.999944     -1.499741\n",
      "'===================='\n",
      "   low value  high value  correlation  secret value\n",
      "2   0.284849    0.284849     1.000000      0.284849\n",
      "3   4.557578    4.557578     0.984928      0.284849\n",
      "'===================='\n",
      "    low value  high value  correlation  secret value\n",
      "-1   3.071912    3.071912          1.0      3.071912\n",
      "'===================='\n",
      "   low value  high value  correlation  secret value\n",
      "1  -0.491942   -0.491942     1.000000     -0.491942\n",
      "0  -1.967769   -1.967769     0.985561     -0.491942\n",
      "3  -3.935538   -3.935538     0.950431     -0.491942\n",
      "'===================='\n",
      "    low value  high value  correlation  secret value\n",
      "-1  -3.803531   -3.803531          1.0     -3.803531\n",
      "'===================='\n",
      "    low value  high value  correlation  secret value\n",
      "-1   2.427158    2.427158     0.997902      0.009481\n",
      "'===================='\n",
      "   low value  high value  correlation  secret value\n",
      "3   1.252637    1.252637     0.999922      1.252637\n",
      "'===================='\n",
      "    low value  high value  correlation  secret value\n",
      " 2  -0.151780   -0.151780     0.995674      -0.15178\n",
      "-1  -2.428481   -2.428481     0.980244      -0.15178\n",
      "'===================='\n",
      "    low value  high value  correlation  secret value\n",
      " 1   0.983592    0.983592     0.999950      0.983592\n",
      "-1   3.934369    3.934369     0.976555      0.983592\n",
      " 0   1.967185    1.967185     0.969112      0.983592\n",
      "'===================='\n",
      "   low value  high value  correlation  secret value\n",
      "2   -3.96193    -3.96193          1.0      -3.96193\n",
      "'===================='\n",
      "   low value  high value  correlation  secret value\n",
      "0  -1.751803   -1.751803          1.0     -1.751803\n",
      "'===================='\n",
      "    low value  high value  correlation  secret value\n",
      "-1  -2.358865   -2.358865          1.0     -2.358865\n",
      "'===================='\n",
      "    low value  high value  correlation  secret value\n",
      " 2   0.055814    0.055814     0.998143      0.055814\n",
      " 0   0.893027    0.893027     0.989149      0.055814\n",
      "-1   3.572108    3.572108     0.979485      0.055814\n",
      "'===================='\n",
      "   low value  high value  correlation  secret value\n",
      "0   3.845199    3.845199          1.0      3.845199\n",
      "'===================='\n",
      "   low value  high value  correlation  secret value\n",
      "3   0.651842    0.651842          1.0      0.651842\n",
      "'===================='\n",
      "   low value  high value  correlation  secret value\n",
      "0  -1.483551   -1.483551          1.0     -1.483551\n",
      "'===================='\n",
      "    low value  high value  correlation  secret value\n",
      " 1  -0.253547   -0.253546     0.999180     -0.253547\n",
      "-1  -4.056744   -4.056744     0.984464     -0.253547\n",
      "'===================='\n",
      "   low value  high value  correlation  secret value\n",
      "1  -0.911114   -0.911114          1.0     -0.911114\n",
      "'===================='\n",
      "    low value  high value  correlation  secret value\n",
      " 3  -0.767417   -0.767417     0.999928     -0.767417\n",
      "-1  -3.069669   -3.069669     0.972109     -0.767417\n",
      "'===================='\n",
      "    low value  high value  correlation  secret value\n",
      " 1   1.080376    1.080376     0.999954      1.080376\n",
      "-1   4.321505    4.321505     0.979753      1.080376\n",
      "'===================='\n",
      "    low value  high value  correlation  secret value\n",
      " 1   1.206274    1.206274     0.999946      1.206274\n",
      "-1   4.825097    4.825097     0.981486      1.206274\n",
      "'===================='\n",
      "   low value  high value  correlation  secret value\n",
      "1  -0.417563   -0.417563     1.000000     -0.417563\n",
      "0  -1.670252   -1.670252     0.982779     -0.417563\n",
      "'===================='\n",
      "    low value  high value  correlation  secret value\n",
      " 0   0.729842    0.729842     0.994811      0.729842\n",
      "-1   2.919369    2.919369     0.948443      0.729842\n"
     ]
    },
    {
     "name": "stdout",
     "output_type": "stream",
     "text": [
      "'===================='\n",
      "   low value  high value  correlation  secret value\n",
      "1   1.319196    1.319196     0.999950      1.319196\n",
      "2   2.638393    2.638393     0.951008      1.319196\n",
      "'===================='\n",
      "    low value  high value  correlation  secret value\n",
      " 1   0.388424    0.388424     0.999962      0.388424\n",
      "-1   1.553697    1.553697     0.955267      0.388424\n",
      "'===================='\n",
      "    low value  high value  correlation  secret value\n",
      "-1   2.587425    2.587425     0.936106      0.020214\n",
      "'===================='\n",
      "   low value  high value  correlation  secret value\n",
      "0  -4.173768   -4.173768          1.0     -4.173768\n",
      "'===================='\n",
      "    low value  high value  correlation  secret value\n",
      "-1  -2.140382   -2.140382          1.0     -2.140382\n",
      "'===================='\n",
      "    low value  high value  correlation  secret value\n",
      " 2   0.144813    0.144813     0.998794      0.144813\n",
      "-1   2.317002    2.317003     0.982126      0.144813\n",
      "'===================='\n",
      "   low value  high value  correlation  secret value\n",
      "1   0.506123    0.506123     0.999774      0.506123\n",
      "'===================='\n",
      "    low value  high value  correlation  secret value\n",
      " 1  -1.048288   -1.048288     1.000000     -1.048288\n",
      "-1  -4.193152   -4.193152     0.978627     -1.048288\n",
      "'===================='\n",
      "   low value  high value  correlation  secret value\n",
      "3  -3.073714   -3.073714          1.0     -3.073714\n",
      "'===================='\n",
      "   low value  high value  correlation  secret value\n",
      "1   4.995234    4.995234     0.859265      0.156101\n",
      "'===================='\n",
      "    low value  high value  correlation  secret value\n",
      " 1  -2.405145   -2.405145     1.000000     -2.405145\n",
      "-1  -0.150322   -0.150321     0.980528     -2.405145\n",
      " 2  -4.810290   -4.810290     0.964093     -2.405145\n",
      "'===================='\n",
      "   low value  high value  correlation  secret value\n",
      "1  -2.005676   -2.005676     1.000000     -2.005676\n",
      "2  -4.011351   -4.011351     0.952154     -2.005676\n",
      "'===================='\n",
      "   low value  high value  correlation  secret value\n",
      "2   0.026047    0.026047     0.992276      0.026047\n",
      "'===================='\n",
      "    low value  high value  correlation  secret value\n",
      " 2   0.177684    0.177684     0.998726      0.177684\n",
      "-1   2.842944    2.842944     0.979593      0.177684\n",
      "'===================='\n",
      "    low value  high value  correlation  secret value\n",
      "-1  -2.477055   -2.477055          1.0     -2.477055\n",
      "'===================='\n",
      "   low value  high value  correlation  secret value\n",
      "0  -0.237209   -0.237209      0.99960     -0.237209\n",
      "3  -3.795346   -3.795346      0.97886     -0.237209\n",
      "'===================='\n",
      "   low value  high value  correlation  secret value\n",
      "1   -0.55741    -0.55741          1.0      -0.55741\n",
      "'===================='\n",
      "   low value  high value  correlation  secret value\n",
      "2   0.935889     0.93589          1.0       0.93589\n",
      "'===================='\n",
      "    low value  high value  correlation  secret value\n",
      " 2  -0.158052   -0.158052     0.999584     -0.158052\n",
      "-1  -2.528836   -2.528836     0.981265     -0.158052\n",
      "'===================='\n",
      "    low value  high value  correlation  secret value\n",
      " 2   1.497915    1.497915     1.000000      1.497915\n",
      "-1   0.093620    0.093620     0.987269      1.497915\n",
      "'===================='\n",
      "    low value  high value  correlation  secret value\n",
      " 1  -0.285935   -0.285935     0.999070     -0.285935\n",
      "-1  -4.574963   -4.574963     0.986031     -0.285935\n",
      "'===================='\n",
      "    low value  high value  correlation  secret value\n",
      " 1   1.109971    1.109971     1.000000      1.109971\n",
      "-1   4.439882    4.439882     0.976795      1.109971\n",
      "'===================='\n",
      "    low value  high value  correlation  secret value\n",
      "-1   -3.34007    -3.34007          1.0      -3.34007\n",
      "'===================='\n",
      "   low value  high value  correlation  secret value\n",
      "2  -0.115704   -0.115704     0.997731     -0.115704\n",
      "0  -1.851266   -1.851266     0.995506     -0.115704\n",
      "'===================='\n",
      "    low value  high value  correlation  secret value\n",
      " 3  -0.829562   -0.829562     0.999930     -0.829562\n",
      "-1  -3.318249   -3.318248     0.970733     -0.829562\n",
      "'===================='\n",
      "    low value  high value  correlation  secret value\n",
      "-1  -4.937816   -4.937816          1.0     -4.937816\n",
      "'===================='\n",
      "   low value  high value  correlation  secret value\n",
      "1  -0.376083   -0.376083     0.999761     -0.376083\n",
      "0  -1.504331   -1.504331     0.982002     -0.376083\n",
      "'===================='\n",
      "    low value  high value  correlation  secret value\n",
      "-1   2.254428    2.254428          1.0      2.254428\n",
      "'===================='\n",
      "    low value  high value  correlation  secret value\n",
      " 2   0.138448    0.138448     0.996767      0.138448\n",
      "-1   2.215170    2.215170     0.981394      0.138448\n",
      "'===================='\n",
      "   low value  high value  correlation  secret value\n",
      "0   0.224683    0.224683     0.998986      0.224683\n",
      "3   3.594927    3.594927     0.979697      0.224683\n",
      "'===================='\n",
      "   low value  high value  correlation  secret value\n",
      "2   0.499863    0.499863          1.0      0.499863\n",
      "'===================='\n",
      "    low value  high value  correlation  secret value\n",
      " 1   1.008662    1.008662     1.000000      1.008662\n",
      "-1   4.034649    4.034649     0.977759      1.008662\n",
      "'===================='\n",
      "    low value  high value  correlation  secret value\n",
      "-1  -2.523987   -2.523987     0.997226     -0.009859\n",
      "'===================='\n",
      "   low value  high value  correlation  secret value\n",
      "2  -0.266173   -0.266173     0.999846     -0.266173\n",
      "3  -4.258769   -4.258769     0.985564     -0.266173\n",
      "'===================='\n",
      "   low value  high value  correlation  secret value\n",
      "0   0.499847    0.499847     0.999676      0.499847\n",
      "3   0.499847    0.499847     0.999406      0.499847\n",
      "'===================='\n",
      "    low value  high value  correlation  secret value\n",
      "-1  -0.621307   -0.621306          1.0     -0.621306\n",
      "'===================='\n",
      "   low value  high value  correlation  secret value\n",
      "2   0.109525    0.109525     0.997240      0.109525\n",
      "0   1.752405    1.752405     0.993708      0.109525\n",
      "'===================='\n",
      "   low value  high value  correlation  secret value\n",
      "1  -0.352709   -0.352709     0.999332     -0.352709\n",
      "0  -1.410837   -1.410837     0.979974     -0.352709\n",
      "'===================='\n",
      "   low value  high value  correlation  secret value\n",
      "2   0.392751    0.392751     1.000000      0.392751\n",
      "0   1.571006    1.571006     0.979996      0.392751\n",
      "'===================='\n",
      "   low value  high value  correlation  secret value\n",
      "1  -0.699744   -0.699744          1.0     -0.699744\n",
      "'===================='\n",
      "    low value  high value  correlation  secret value\n",
      "-1   0.791937    0.791937          1.0      0.791937\n",
      "'===================='\n",
      "   low value  high value  correlation  secret value\n",
      "2   0.026827    0.026827     0.998942      0.026827\n",
      "'===================='\n",
      "    low value  high value  correlation  secret value\n",
      " 2  -0.030142   -0.030142     0.964759      0.030142\n",
      "-1   3.858168    3.858168     0.950458      0.030142\n",
      " 0   1.929084    1.929084     0.947305      0.030142\n",
      "'===================='\n",
      "   low value  high value  correlation  secret value\n",
      "2  -0.275149   -0.275149      0.99993     -0.275149\n",
      "'===================='\n",
      "   low value  high value  correlation  secret value\n",
      "1   0.281633    0.281633     0.999926      0.281633\n",
      "3   4.506121    4.506121     0.986465      0.281633\n",
      "'===================='\n",
      "    low value  high value  correlation  secret value\n",
      " 2  -0.180731   -0.180731     0.997813     -0.180731\n",
      "-1  -2.891693   -2.891693     0.980602     -0.180731\n",
      "'===================='\n",
      "    low value  high value  correlation  secret value\n",
      "-1   4.190383    4.190383          1.0      4.190383\n",
      "CPU times: user 55min 59s, sys: 1min 26s, total: 57min 26s\n",
      "Wall time: 57min 26s\n"
     ]
    }
   ],
   "source": [
    "%%time\n",
    "loops = 0\n",
    "for idx in secret_numbers:\n",
    "    # if the number is already treated, the ignore it\n",
    "    if (SECRET_VALUE in multiple_results.columns) and (idx in multiple_results[SECRET_VALUE].values):\n",
    "        continue    \n",
    "    results = guess_number_range_stat(idx, guess_range, prescision, known_input_size)\n",
    "    results[SECRET_VALUE] = idx\n",
    "    pprint('=' * 20)\n",
    "    pprint(results)\n",
    "    guess_values = (results[LOW_VALUE] + results[HIGH_VALUE]) / 2.0\n",
    "    multiple_results = pd.concat([multiple_results, results], axis=0, ignore_index=True)\n",
    "    loops = loops + 1"
   ]
  },
  {
   "cell_type": "markdown",
   "metadata": {},
   "source": [
    "### Save data"
   ]
  },
  {
   "cell_type": "code",
   "execution_count": 11,
   "metadata": {},
   "outputs": [
    {
     "name": "stdout",
     "output_type": "stream",
     "text": [
      "'multiple_results_fname = multiple_results-20200522_165131.csv'\n"
     ]
    }
   ],
   "source": [
    "from datetime import datetime\n",
    "multiple_results_fname = 'multiple_results-%s.csv' % datetime.now().strftime(\"%Y%m%d_%H%M%S\")\n",
    "multiple_results.to_csv(multiple_results_fname)\n",
    "pprint('multiple_results_fname = %s' % multiple_results_fname)"
   ]
  },
  {
   "cell_type": "markdown",
   "metadata": {},
   "source": [
    "### Load data"
   ]
  },
  {
   "cell_type": "code",
   "execution_count": 12,
   "metadata": {},
   "outputs": [
    {
     "data": {
      "text/html": [
       "<div>\n",
       "<style scoped>\n",
       "    .dataframe tbody tr th:only-of-type {\n",
       "        vertical-align: middle;\n",
       "    }\n",
       "\n",
       "    .dataframe tbody tr th {\n",
       "        vertical-align: top;\n",
       "    }\n",
       "\n",
       "    .dataframe thead th {\n",
       "        text-align: right;\n",
       "    }\n",
       "</style>\n",
       "<table border=\"1\" class=\"dataframe\">\n",
       "  <thead>\n",
       "    <tr style=\"text-align: right;\">\n",
       "      <th></th>\n",
       "      <th>low value</th>\n",
       "      <th>high value</th>\n",
       "      <th>correlation</th>\n",
       "      <th>secret value</th>\n",
       "    </tr>\n",
       "  </thead>\n",
       "  <tbody>\n",
       "    <tr>\n",
       "      <th>0</th>\n",
       "      <td>-2.437902</td>\n",
       "      <td>-2.437902</td>\n",
       "      <td>1.000000</td>\n",
       "      <td>-2.437902</td>\n",
       "    </tr>\n",
       "    <tr>\n",
       "      <th>1</th>\n",
       "      <td>0.359504</td>\n",
       "      <td>0.359504</td>\n",
       "      <td>0.999725</td>\n",
       "      <td>0.359504</td>\n",
       "    </tr>\n",
       "    <tr>\n",
       "      <th>2</th>\n",
       "      <td>1.438015</td>\n",
       "      <td>1.438015</td>\n",
       "      <td>0.978289</td>\n",
       "      <td>0.359504</td>\n",
       "    </tr>\n",
       "    <tr>\n",
       "      <th>3</th>\n",
       "      <td>0.674754</td>\n",
       "      <td>0.674754</td>\n",
       "      <td>0.999921</td>\n",
       "      <td>0.674754</td>\n",
       "    </tr>\n",
       "    <tr>\n",
       "      <th>4</th>\n",
       "      <td>-0.660660</td>\n",
       "      <td>-0.660660</td>\n",
       "      <td>1.000000</td>\n",
       "      <td>-0.660660</td>\n",
       "    </tr>\n",
       "    <tr>\n",
       "      <th>...</th>\n",
       "      <td>...</td>\n",
       "      <td>...</td>\n",
       "      <td>...</td>\n",
       "      <td>...</td>\n",
       "    </tr>\n",
       "    <tr>\n",
       "      <th>152</th>\n",
       "      <td>2.184563</td>\n",
       "      <td>2.184563</td>\n",
       "      <td>1.000000</td>\n",
       "      <td>2.184563</td>\n",
       "    </tr>\n",
       "    <tr>\n",
       "      <th>153</th>\n",
       "      <td>4.369126</td>\n",
       "      <td>4.369127</td>\n",
       "      <td>0.957152</td>\n",
       "      <td>2.184563</td>\n",
       "    </tr>\n",
       "    <tr>\n",
       "      <th>154</th>\n",
       "      <td>-0.032531</td>\n",
       "      <td>-0.032531</td>\n",
       "      <td>0.999559</td>\n",
       "      <td>-0.032531</td>\n",
       "    </tr>\n",
       "    <tr>\n",
       "      <th>155</th>\n",
       "      <td>-0.464241</td>\n",
       "      <td>-0.464241</td>\n",
       "      <td>0.999963</td>\n",
       "      <td>-0.464241</td>\n",
       "    </tr>\n",
       "    <tr>\n",
       "      <th>156</th>\n",
       "      <td>-1.856964</td>\n",
       "      <td>-1.856964</td>\n",
       "      <td>0.982432</td>\n",
       "      <td>-0.464241</td>\n",
       "    </tr>\n",
       "  </tbody>\n",
       "</table>\n",
       "<p>157 rows × 4 columns</p>\n",
       "</div>"
      ],
      "text/plain": [
       "     low value  high value  correlation  secret value\n",
       "0    -2.437902   -2.437902     1.000000     -2.437902\n",
       "1     0.359504    0.359504     0.999725      0.359504\n",
       "2     1.438015    1.438015     0.978289      0.359504\n",
       "3     0.674754    0.674754     0.999921      0.674754\n",
       "4    -0.660660   -0.660660     1.000000     -0.660660\n",
       "..         ...         ...          ...           ...\n",
       "152   2.184563    2.184563     1.000000      2.184563\n",
       "153   4.369126    4.369127     0.957152      2.184563\n",
       "154  -0.032531   -0.032531     0.999559     -0.032531\n",
       "155  -0.464241   -0.464241     0.999963     -0.464241\n",
       "156  -1.856964   -1.856964     0.982432     -0.464241\n",
       "\n",
       "[157 rows x 4 columns]"
      ]
     },
     "execution_count": 12,
     "metadata": {},
     "output_type": "execute_result"
    }
   ],
   "source": [
    "multiple_results_fname = 'multiple_results-20200522_135753.csv'\n",
    "multiple_results = pd.read_csv(multiple_results_fname, index_col=0)\n",
    "multiple_results"
   ]
  },
  {
   "cell_type": "markdown",
   "metadata": {},
   "source": [
    "### Hit targets and missed targets"
   ]
  },
  {
   "cell_type": "code",
   "execution_count": 13,
   "metadata": {},
   "outputs": [
    {
     "name": "stdout",
     "output_type": "stream",
     "text": [
      "'The number of identified values: 93/100'\n",
      "'The number of missed values: 7/100'\n"
     ]
    }
   ],
   "source": [
    "#\n",
    "# compute the number of secret values which are present in guessed ranges\n",
    "n_identified_ranges = multiple_results.groupby(SECRET_VALUE).apply(lambda x: ((x[LOW_VALUE]<=x[SECRET_VALUE]) & (x[SECRET_VALUE]<=x[HIGH_VALUE])).any())\n",
    "counts = n_identified_ranges.value_counts()\n",
    "if True in counts.index:\n",
    "    pprint('The number of identified values: %d/%d' % (counts[True], counts.sum()))\n",
    "if False in counts.index:\n",
    "    pprint('The number of missed values: %d/%d' % (counts[False], counts.sum()))"
   ]
  },
  {
   "cell_type": "markdown",
   "metadata": {},
   "source": [
    "### Graphs of the first choices"
   ]
  },
  {
   "cell_type": "code",
   "execution_count": 14,
   "metadata": {},
   "outputs": [
    {
     "data": {
      "image/png": "[encoded data removed]",
      "text/plain": [
       "<Figure size 864x432 with 1 Axes>"
      ]
     },
     "metadata": {
      "needs_background": "light"
     },
     "output_type": "display_data"
    }
   ],
   "source": [
    "first_choice_results = multiple_results.loc[multiple_results.groupby(SECRET_VALUE)[CORRELATION].idxmax()]\n",
    "guess_values = (first_choice_results[LOW_VALUE] + first_choice_results[HIGH_VALUE]) / 2.0\n",
    "guess_values.index = first_choice_results[SECRET_VALUE]\n",
    "guess_values.sort_index(inplace=True)\n",
    "\n",
    "ax = guess_values.plot(figsize = (12, 6), marker='.', label='guessed values')\n",
    "ax.plot(guess_values.index, guess_values.index, marker='.', linewidth=1, label='secret_numbers')\n",
    "ax.legend()\n",
    "ax.set_xlabel('secret values')\n",
    "ax.set_ylabel('guessed values')\n",
    "ax.set_title('the first choices')\n",
    "ax.grid(True)"
   ]
  },
  {
   "cell_type": "code",
   "execution_count": 15,
   "metadata": {},
   "outputs": [
    {
     "data": {
      "image/png": "[encoded data removed]",
      "text/plain": [
       "<Figure size 864x432 with 1 Axes>"
      ]
     },
     "metadata": {
      "needs_background": "light"
     },
     "output_type": "display_data"
    }
   ],
   "source": [
    "error_rate = ((guess_values - guess_values.index)/guess_values.index).abs()\n",
    "ax = error_rate.plot(figsize = (12, 6), label='error rate', marker='.', linewidth=1)\n",
    "ax.legend()\n",
    "ax.set_xlabel('secret values')\n",
    "ax.set_ylabel('error rates')\n",
    "ax.set_title('the first choices')\n",
    "ax.grid(True)"
   ]
  },
  {
   "cell_type": "markdown",
   "metadata": {},
   "source": [
    "### Graphs of the second choice"
   ]
  },
  {
   "cell_type": "code",
   "execution_count": 16,
   "metadata": {},
   "outputs": [
    {
     "name": "stdout",
     "output_type": "stream",
     "text": [
      "'The total number of the second choices is: 34199209670344703'\n"
     ]
    }
   ],
   "source": [
    "pprint('The total number of the second choices is: %d' % (multiple_results.groupby(SECRET_VALUE).size().prod()-1))"
   ]
  },
  {
   "cell_type": "code",
   "execution_count": 17,
   "metadata": {},
   "outputs": [],
   "source": [
    "guess_values = ((multiple_results[LOW_VALUE] + multiple_results[HIGH_VALUE]) / 2.0)\n",
    "error_rate = ((guess_values - multiple_results[SECRET_VALUE])/multiple_results[SECRET_VALUE]).abs()\n",
    "second_choice_results = multiple_results.loc[error_rate.groupby(multiple_results[SECRET_VALUE]).idxmin()]\n",
    "guess_values = ((second_choice_results[LOW_VALUE] + second_choice_results[HIGH_VALUE]) / 2.0)\n",
    "guess_values.index = second_choice_results[SECRET_VALUE]\n",
    "guess_values.sort_index(inplace=True)"
   ]
  },
  {
   "cell_type": "code",
   "execution_count": 18,
   "metadata": {},
   "outputs": [
    {
     "data": {
      "image/png": "[encoded data removed]",
      "text/plain": [
       "<Figure size 864x432 with 1 Axes>"
      ]
     },
     "metadata": {
      "needs_background": "light"
     },
     "output_type": "display_data"
    }
   ],
   "source": [
    "ax = guess_values.plot(figsize = (12, 6), marker='.', label='guessed values')\n",
    "ax.plot(guess_values.index, guess_values.index, marker='.', linewidth=1, label='secret_numbers')\n",
    "ax.legend()\n",
    "ax.set_xlabel('secret values')\n",
    "ax.set_ylabel('guessed values')\n",
    "ax.set_title('the second choices')\n",
    "ax.grid(True)"
   ]
  },
  {
   "cell_type": "code",
   "execution_count": 19,
   "metadata": {},
   "outputs": [
    {
     "data": {
      "image/png": "[encoded data removed]",
      "text/plain": [
       "<Figure size 864x432 with 1 Axes>"
      ]
     },
     "metadata": {
      "needs_background": "light"
     },
     "output_type": "display_data"
    }
   ],
   "source": [
    "error_rate = ((guess_values - guess_values.index)/guess_values.index).abs()\n",
    "ax = error_rate.plot(figsize = (12, 6), label='error rate', marker='.', linewidth=1)\n",
    "ax.legend()\n",
    "ax.set_xlabel('secret values')\n",
    "ax.set_ylabel('error rates')\n",
    "ax.set_title('the second choices')\n",
    "ax.grid(True)"
   ]
  },
  {
   "cell_type": "markdown",
   "metadata": {},
   "source": [
    "# Batina method"
   ]
  },
  {
   "cell_type": "code",
   "execution_count": 20,
   "metadata": {},
   "outputs": [],
   "source": [
    "def batina_guess_number(secret_number, guess_range, prescision, known_inputs):\n",
    "    low, high = guess_range\n",
    "    guess_val = np.arange(low, high, prescision)\n",
    "    hw = pd.DataFrame(columns=guess_val,\n",
    "                        data=np.vectorize(hamming_weight)(known_inputs.reshape(-1, 1) * guess_val))\n",
    "    hw['actual'] = np.vectorize(hamming_weight)(known_inputs * secret_number)\n",
    "    return hw.corr(method='pearson')['actual'].drop('actual').idxmax()"
   ]
  },
  {
   "cell_type": "code",
   "execution_count": 21,
   "metadata": {},
   "outputs": [],
   "source": [
    "batinta_results = pd.Series(name='guessed_numbers', dtype=np.float32)\n",
    "# we have to define a low precision, otherwise, it takes too long time to run\n",
    "prescision = 1e-3\n",
    "known_inputs = np.random.uniform(-1e1, 1e1, known_input_size)"
   ]
  },
  {
   "cell_type": "code",
   "execution_count": null,
   "metadata": {
    "scrolled": true
   },
   "outputs": [],
   "source": [
    "%%time\n",
    "for idx in secret_numbers:\n",
    "    if idx in batinta_results.index:\n",
    "        continue    \n",
    "    batinta_results[idx] = batina_guess_number(idx, guess_range, prescision, known_inputs)\n",
    "    print('secret_value = %f, guessed_value = %f' % (idx, batinta_results[idx]))\n",
    "batinta_results.sort_index(inplace=True)    "
   ]
  },
  {
   "cell_type": "markdown",
   "metadata": {},
   "source": [
    "### Save data"
   ]
  },
  {
   "cell_type": "code",
   "execution_count": null,
   "metadata": {},
   "outputs": [],
   "source": [
    "from datetime import datetime\n",
    "batinta_results_fname = 'batinta_results-%s.csv' % datetime.now().strftime(\"%Y%m%d_%H%M%S\")\n",
    "batinta_results.to_csv(batinta_results_fname)\n",
    "pprint('batinta_results_fname = %s' % batinta_results_fname)"
   ]
  },
  {
   "cell_type": "markdown",
   "metadata": {},
   "source": [
    "### Load data"
   ]
  },
  {
   "cell_type": "code",
   "execution_count": null,
   "metadata": {},
   "outputs": [],
   "source": [
    "# batinta_results_fname = 'batinta_results-%s.csv' % '20200522_071337'\n",
    "batinta_results = pd.read_csv(batinta_results_fname, index_col=0)\n",
    "batinta_results.sort_index(inplace=True)    \n",
    "batinta_results"
   ]
  },
  {
   "cell_type": "markdown",
   "metadata": {},
   "source": [
    "### Graphs"
   ]
  },
  {
   "cell_type": "code",
   "execution_count": null,
   "metadata": {},
   "outputs": [],
   "source": [
    "ax = batinta_results.plot(figsize = (12, 6), marker='.', label='batina')\n",
    "#results.plot(ax=ax, marker='.', label='bxlab')\n",
    "ax.plot(batinta_results.index, batinta_results.index, marker='.', linewidth=1, label='secret_numbers')\n",
    "ax.legend()\n",
    "ax.set_xlabel('secret values')\n",
    "ax.set_ylabel('guessed values')\n",
    "ax.grid(True)"
   ]
  },
  {
   "cell_type": "code",
   "execution_count": null,
   "metadata": {},
   "outputs": [],
   "source": [
    "batina_error_rate = ((batinta_results - batinta_results.index)/batinta_results.index).abs()\n",
    "ax = batina_error_rate.plot(figsize = (12, 6), label='batina error rate')\n",
    "#ax = error_rate.plot(ax=ax, label='error rate')\n",
    "ax.legend()\n",
    "ax.set_xlabel('secret values')\n",
    "ax.set_ylabel('error rates')\n",
    "ax.grid(True)"
   ]
  },
  {
   "cell_type": "code",
   "execution_count": null,
   "metadata": {},
   "outputs": [],
   "source": []
  }
 ],
 "metadata": {
  "kernelspec": {
   "display_name": "Python 3",
   "language": "python",
   "name": "python3"
  },
  "language_info": {
   "codemirror_mode": {
    "name": "ipython",
    "version": 3
   },
   "file_extension": ".py",
   "mimetype": "text/x-python",
   "name": "python",
   "nbconvert_exporter": "python",
   "pygments_lexer": "ipython3",
   "version": "3.7.5"
  }
 },
 "nbformat": 4,
 "nbformat_minor": 4
}
