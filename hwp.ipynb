{
 "cells": [
  {
   "cell_type": "markdown",
   "metadata": {},
   "source": [
    "# Hamming weight and Pearson Correlation\n",
    "\n",
    "This notebook demonstrates how to guess a floating number using Hamming Weight model.\n",
    "\n",
    "\n",
    "We generate a random secret floating number. Then we use hamming weight model to guess the number.\n",
    "\n",
    "We develop a method of devide-and-conquer to quickly arrive to the close number with a defined precision."
   ]
  },
  {
   "cell_type": "markdown",
   "metadata": {},
   "source": [
    "## Guessing..."
   ]
  },
  {
   "cell_type": "code",
   "execution_count": 1,
   "metadata": {},
   "outputs": [],
   "source": [
    "import struct\n",
    "import numpy as np\n",
    "import pandas as pd\n",
    "import random\n",
    "\n",
    "from guess_range import *"
   ]
  },
  {
   "cell_type": "markdown",
   "metadata": {},
   "source": [
    "## Test single point"
   ]
  },
  {
   "cell_type": "code",
   "execution_count": 2,
   "metadata": {},
   "outputs": [],
   "source": [
    "#\n",
    "# initalize parameter and generate a random number (secret number)\n",
    "number_tests = 1000\n",
    "known_inputs = np.random.uniform(-1e0, 1e0, 2000) * 1e1\n",
    "guess_range = (-1e0, 1.0e0)\n",
    "secret_number = random.uniform(guess_range[0], guess_range[1])\n",
    "prescision = 1e-6"
   ]
  },
  {
   "cell_type": "code",
   "execution_count": null,
   "metadata": {
    "scrolled": true
   },
   "outputs": [
    {
     "name": "stdout",
     "output_type": "stream",
     "text": [
      "***guess_range = (-1.0, 1.0) (0.000000)\n",
      "low_corr = 0.716625127762014 high_corr = 0.6785802214537688\n",
      "***guess_range = (-1.0, 0.0) (-0.500000)\n",
      "low_corr = 0.3406623410053239 high_corr = 0.7176248696640564\n",
      "***guess_range = (-0.5, 0.0) (-0.250000)\n",
      "low_corr = 0.7282975995943664 high_corr = 0.2506772555643455\n",
      "***guess_range = (-0.5, -0.25) (-0.375000)\n",
      "low_corr = 0.6074492825898015 high_corr = 0.7589381115488711\n",
      "***guess_range = (-0.375, -0.25) (-0.312500)\n",
      "low_corr = 0.7731555296313124 high_corr = 0.4215550562476784\n",
      "***guess_range = (-0.375, -0.3125) (-0.343750)\n",
      "low_corr = 0.8004039315648505 high_corr = 0.535725381339844\n",
      "***guess_range = (-0.375, -0.34375) (-0.359375)\n",
      "low_corr = 0.8411773270029455 high_corr = 0.6092706131848464\n",
      "***guess_range = (-0.375, -0.359375) (-0.367188)\n",
      "low_corr = 0.8411773270029455 high_corr = 0.6605887205894699\n",
      "***guess_range = (-0.375, -0.3671875) (-0.371094)\n",
      "low_corr = 0.6824818941645354 high_corr = 0.8411773270029455\n",
      "***guess_range = (-0.37109375, -0.3671875) (-0.369141)\n",
      "low_corr = 0.8813462809876079 high_corr = 0.691074465473574\n",
      "***guess_range = (-0.37109375, -0.369140625) (-0.370117)\n",
      "low_corr = 0.8813462809876079 high_corr = 0.7484185600330319\n",
      "***guess_range = (-0.37109375, -0.3701171875) (-0.370605)\n",
      "low_corr = 0.7152224497266136 high_corr = 0.9859888613004621\n",
      "***guess_range = (-0.37060546875, -0.3701171875) (-0.370361)\n",
      "low_corr = 0.7441484427788864 high_corr = 0.9859888613004621\n",
      "***guess_range = (-0.370361328125, -0.3701171875) (-0.370239)\n"
     ]
    }
   ],
   "source": [
    "guess_range = guess_number_range(secret_number, guess_range, prescision, number_tests, known_inputs)"
   ]
  },
  {
   "cell_type": "code",
   "execution_count": null,
   "metadata": {
    "scrolled": true
   },
   "outputs": [],
   "source": [
    "guessed_number = (guess_range[1] + guess_range[0]) / 2.0\n",
    "print('the secret number =', secret_number)\n",
    "print('the guessed number =', guessed_number)\n",
    "error_rate = abs((guessed_number - secret_number) / secret_number) * 100\n",
    "print('error rate = %0.4f' % error_rate, '%')"
   ]
  },
  {
   "cell_type": "markdown",
   "metadata": {},
   "source": [
    "## Test multiple points"
   ]
  },
  {
   "cell_type": "code",
   "execution_count": null,
   "metadata": {},
   "outputs": [],
   "source": [
    "# initialize\n",
    "guess_range = (-3e0, 3e0)\n",
    "prescision = 1e-4\n",
    "number_tests = 100\n",
    "\n",
    "n_secret_numbers = 50\n",
    "secret_numbers = np.concatenate((\n",
    "    np.random.uniform(guess_range[0], guess_range[1], int(n_secret_numbers*2/4) ),\n",
    "    np.random.uniform(guess_range[0], guess_range[1], int(n_secret_numbers*1/4)) * 3e-1,\n",
    "    np.random.uniform(guess_range[0], guess_range[1], int(n_secret_numbers*1/4)) * 1e-1\n",
    "))\n",
    "\n",
    "known_inputs = np.random.uniform(-1.0, 1.0, 2000) * 1e1\n",
    "\n",
    "print('secret_numbers.shape = %s' % (str(secret_numbers.shape)))\n",
    "print('known_inputs.shape = %s' % (str(known_inputs.shape)))"
   ]
  },
  {
   "cell_type": "code",
   "execution_count": null,
   "metadata": {
    "scrolled": true
   },
   "outputs": [],
   "source": [
    "results = pd.Series(index=secret_numbers, name='guessed_numbers', dtype=np.float32)\n",
    "for idx in results.index:\n",
    "    grange = guess_number_range(idx, guess_range, prescision, number_tests, known_inputs)\n",
    "    results[idx] = (grange[1] + grange[0]) / 2.0\n",
    "    print('secret_value = %f, guessed_value = %f' % (idx, results[idx]))\n",
    "results.sort_index(inplace=True)"
   ]
  },
  {
   "cell_type": "code",
   "execution_count": null,
   "metadata": {},
   "outputs": [],
   "source": [
    "ax = results.plot(figsize = (12, 6), marker='.')\n",
    "ax.plot(results.index, results.index, marker='.', linewidth=1, label='secret_numbers')\n",
    "ax.legend()\n",
    "ax.set_xlabel('secret values')\n",
    "ax.set_ylabel('guessed values')\n",
    "ax.grid(True)"
   ]
  },
  {
   "cell_type": "code",
   "execution_count": null,
   "metadata": {
    "scrolled": false
   },
   "outputs": [],
   "source": [
    "error_rate = ((results - results.index)/results.index).abs()\n",
    "ax = error_rate.plot(figsize = (12, 6), label='error rate')\n",
    "ax.legend()\n",
    "ax.set_xlabel('secret values')\n",
    "ax.set_ylabel('error rates')\n",
    "ax.grid(True)"
   ]
  },
  {
   "cell_type": "markdown",
   "metadata": {},
   "source": [
    "# Batinna method"
   ]
  },
  {
   "cell_type": "code",
   "execution_count": null,
   "metadata": {},
   "outputs": [],
   "source": [
    "def batina_guess_number(secret_number, guess_range, prescision, known_inputs):\n",
    "    low, high = guess_range\n",
    "    guess_val = np.arange(low, high, prescision)\n",
    "    hw = pd.DataFrame(columns=guess_val,\n",
    "                        data=np.vectorize(hamming_weight)(known_inputs.reshape(-1, 1) * guess_val))\n",
    "    hw['actual'] = np.vectorize(hamming_weight)(known_inputs * secret_number)\n",
    "    return hw.corr(method='pearson')['actual'].drop('actual').idxmax()"
   ]
  },
  {
   "cell_type": "code",
   "execution_count": null,
   "metadata": {
    "scrolled": true
   },
   "outputs": [],
   "source": [
    "batinta_results = pd.Series(index=secret_numbers, name='guessed_numbers', dtype=np.float32)\n",
    "for idx in batinta_results.index:\n",
    "    # we have to reduce the precision, otherwise, it takes too long time to run\n",
    "    batinta_results[idx] = batina_guess_number(idx, guess_range, prescision * 100, known_inputs)\n",
    "    print('secret_value = %f, guessed_value = %f' % (idx, batinta_results[idx]))\n",
    "batinta_results.sort_index(inplace=True)    "
   ]
  },
  {
   "cell_type": "code",
   "execution_count": null,
   "metadata": {},
   "outputs": [],
   "source": [
    "ax = batinta_results.plot(figsize = (12, 6), marker='.', label='batina')\n",
    "results.plot(ax=ax, marker='.', label='bxlab')\n",
    "ax.plot(batinta_results.index, batinta_results.index, marker='.', linewidth=1, label='secret_numbers')\n",
    "ax.legend()\n",
    "ax.set_xlabel('secret values')\n",
    "ax.set_ylabel('guessed values')\n",
    "ax.grid(True)"
   ]
  },
  {
   "cell_type": "code",
   "execution_count": null,
   "metadata": {},
   "outputs": [],
   "source": [
    "batina_error_rate = ((batinta_results - batinta_results.index)/batinta_results.index).abs()\n",
    "ax = batina_error_rate.plot(figsize = (12, 6), label='batina error rate')\n",
    "ax = error_rate.plot(ax=ax, label='error rate')\n",
    "ax.legend()\n",
    "ax.set_xlabel('secret values')\n",
    "ax.set_ylabel('error rates')\n",
    "ax.grid(True)"
   ]
  },
  {
   "cell_type": "code",
   "execution_count": null,
   "metadata": {},
   "outputs": [],
   "source": []
  }
 ],
 "metadata": {
  "kernelspec": {
   "display_name": "Python 3",
   "language": "python",
   "name": "python3"
  },
  "language_info": {
   "codemirror_mode": {
    "name": "ipython",
    "version": 3
   },
   "file_extension": ".py",
   "mimetype": "text/x-python",
   "name": "python",
   "nbconvert_exporter": "python",
   "pygments_lexer": "ipython3",
   "version": "3.7.5"
  }
 },
 "nbformat": 4,
 "nbformat_minor": 4
}
