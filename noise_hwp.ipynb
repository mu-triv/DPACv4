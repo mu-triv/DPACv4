{
 "cells": [
  {
   "cell_type": "markdown",
   "metadata": {},
   "source": [
    "# Noise Hamming weight and Pearson Correlation\n",
    "\n",
    "This notebook demonstrates how to guess a floating number using Hamming Weight model.\n",
    "\n",
    "We generate a random secret floating number. Then we use hamming weight model to guess the number."
   ]
  },
  {
   "cell_type": "code",
   "execution_count": null,
   "metadata": {},
   "outputs": [],
   "source": [
    "import numpy as np\n",
    "import pandas as pd\n",
    "from pprint import pprint\n",
    "from guess_range import *"
   ]
  },
  {
   "cell_type": "markdown",
   "metadata": {},
   "source": [
    "## Visualize HW Behavior"
   ]
  },
  {
   "cell_type": "code",
   "execution_count": null,
   "metadata": {},
   "outputs": [],
   "source": [
    "def compute_corr(secret_hw, guess_range, known_inputs, guess_val_size=1000):\n",
    "    low, high = guess_range\n",
    "    guess_val = np.arange(low, high, (high - low) / (guess_val_size - 1e-127))\n",
    "    hw = pd.DataFrame(columns=guess_val,\n",
    "                        data=np.vectorize(hamming_weight)(known_inputs.reshape(-1, 1) * guess_val))\n",
    "    return hw.corrwith(pd.Series(secret_hw), method='pearson')"
   ]
  },
  {
   "cell_type": "code",
   "execution_count": null,
   "metadata": {},
   "outputs": [],
   "source": [
    "guess_range=(-5.0, 5.0)\n",
    "# the number of guess values in the guess range\n",
    "guess_val_size=200\n",
    "# generate the known inputs which is used to test the guess values\n",
    "input_range = 0\n",
    "known_inputs = np.random.uniform(-10 ** input_range, 10 ** input_range, 1000)\n",
    "\n",
    "secret_number = np.random.uniform(guess_range[0], guess_range[1]) \n",
    "secret_number = -0.4999523029799853\n",
    "print('secret_number =', secret_number)"
   ]
  },
  {
   "cell_type": "code",
   "execution_count": null,
   "metadata": {},
   "outputs": [],
   "source": [
    "secret_hw = np.vectorize(hamming_weight)(known_inputs * secret_number)\n",
    "correlations = compute_corr(secret_hw, guess_range, known_inputs, guess_val_size)\n",
    "correlations_1 = compute_corr(secret_hw, guess_range, known_inputs, int(guess_val_size*10))\n",
    "correlations_2 = compute_corr(secret_hw, guess_range, known_inputs, int(guess_val_size/10))\n",
    "correlations_1.sort_values(ascending=False).iloc[:10]"
   ]
  },
  {
   "cell_type": "code",
   "execution_count": null,
   "metadata": {},
   "outputs": [],
   "source": [
    "i = correlations_1.sort_values(ascending=False).index\n",
    "a = np.logical_and((i > 0.62),  (i < 0.63))\n",
    "b = np.logical_and(a, correlations_1>0.6)\n",
    "i[b]"
   ]
  },
  {
   "cell_type": "code",
   "execution_count": null,
   "metadata": {
    "scrolled": true
   },
   "outputs": [],
   "source": [
    "show_secret_line = False\n",
    "\n",
    "\n",
    "from matplotlib import pyplot as plt\n",
    "fig, ax = plt.subplots(nrows=4, ncols=1, figsize=(15, 40))\n",
    "correlations_1.plot(ax=ax[0], label='corr-%s' % correlations_1.shape[0], color='green')\n",
    "correlations.plot(ax=ax[0], label='corr-%s' % correlations.shape[0], color='magenta')\n",
    "correlations_2.plot(ax=ax[0], label='corr-%s' % correlations_2.shape[0], color='yellow')\n",
    "\n",
    "correlations_1.plot(ax=ax[1], label='corr-%s' % correlations_1.shape[0], color='green')\n",
    "\n",
    "correlations.plot(ax=ax[2], label='corr-%s' % correlations.shape[0], color='magenta')\n",
    "\n",
    "correlations_2.plot(ax=ax[3], label='corr-%s' % correlations_2.shape[0], color='yellow')\n",
    "\n",
    "for a in ax:\n",
    "    if show_secret_line and ((guess_range[0] <= secret_number) and (secret_number < guess_range[1])):\n",
    "        a.vlines(secret_number, min(0, correlations.min()), max(correlations.max(),0), color='red', label='secret value')\n",
    "    a.set_ylim(0.0, 1.0)\n",
    "    a.legend()\n",
    "    a.grid(True)\n",
    "    a.set_xlabel('guess numbers')\n",
    "    a.set_ylabel('HW correlations')\n",
    "    a.set_title('input range (%.02f, %.02f)' % (-10 ** input_range, 10 ** input_range))\n",
    "    \n",
    "plt.show()"
   ]
  },
  {
   "cell_type": "markdown",
   "metadata": {},
   "source": [
    "## Recover weight step-by-step"
   ]
  },
  {
   "cell_type": "code",
   "execution_count": null,
   "metadata": {},
   "outputs": [],
   "source": [
    "import sys\n",
    "sys.path.append(\"NN-Recovery/\")\n",
    "\n",
    "from pybatina.weight_recovery import *\n",
    "from pybatina.utils import *"
   ]
  },
  {
   "cell_type": "markdown",
   "metadata": {},
   "source": [
    "### Correlation of mantissa"
   ]
  },
  {
   "cell_type": "code",
   "execution_count": null,
   "metadata": {},
   "outputs": [],
   "source": [
    "mantissa_nbits = 12\n",
    "guess_numbers = build_guess_values(component='mantissa', mantissa_nbits=mantissa_nbits, guess_range=guess_range)\n",
    "pd.Series(guess_numbers).sort_values().reset_index(drop=True).plot(figsize=(15,6), marker='.')"
   ]
  },
  {
   "cell_type": "code",
   "execution_count": null,
   "metadata": {},
   "outputs": [],
   "source": [
    "total_mantissa_nbits = 23\n",
    "known_inputs = build_input_values(mantissa_nbits=mantissa_nbits, component='mantissa')\n",
    "secret_hw = np.vectorize(hamming_weight)(known_inputs * secret_number)"
   ]
  },
  {
   "cell_type": "code",
   "execution_count": null,
   "metadata": {},
   "outputs": [],
   "source": [
    "%%time\n",
    "mantisa_corr = compute_corr_numbers(secret_hw, known_inputs, guess_numbers)"
   ]
  },
  {
   "cell_type": "code",
   "execution_count": null,
   "metadata": {},
   "outputs": [],
   "source": [
    "ax = mantisa_corr.sort_index().plot(figsize=(15,6))\n",
    "ax.vlines(mantisa_corr.idxmax(), mantisa_corr.min(), mantisa_corr.max(), color='green')\n",
    "ax.vlines(secret_number, mantisa_corr.min(), mantisa_corr.max(), color='red')"
   ]
  },
  {
   "cell_type": "code",
   "execution_count": null,
   "metadata": {},
   "outputs": [],
   "source": [
    "mantisa_corr.sort_values(ascending=False).iloc[:10]"
   ]
  },
  {
   "cell_type": "markdown",
   "metadata": {},
   "source": [
    "### Correlation exponent"
   ]
  },
  {
   "cell_type": "code",
   "execution_count": null,
   "metadata": {},
   "outputs": [],
   "source": [
    "known_inputs = build_input_values(component='exponent')\n",
    "secret_hw = np.vectorize(hamming_weight)(known_inputs * secret_number)"
   ]
  },
  {
   "cell_type": "code",
   "execution_count": null,
   "metadata": {},
   "outputs": [],
   "source": [
    "guess_numbers = build_guess_values(component='exponent', numbers=mantisa_corr.sort_values(ascending=False).index[:10], guess_range=guess_range)\n",
    "pd.Series(guess_numbers).sort_values().reset_index(drop=True).plot(figsize=(12,6), marker='.')"
   ]
  },
  {
   "cell_type": "code",
   "execution_count": null,
   "metadata": {},
   "outputs": [],
   "source": [
    "%%time\n",
    "mantisa_exp_corr = compute_corr_numbers(secret_hw, known_inputs, guess_numbers)"
   ]
  },
  {
   "cell_type": "code",
   "execution_count": null,
   "metadata": {},
   "outputs": [],
   "source": [
    "mantisa_exp_corr.sort_values(ascending=False).iloc[:10]"
   ]
  },
  {
   "cell_type": "code",
   "execution_count": null,
   "metadata": {},
   "outputs": [],
   "source": [
    "ax = mantisa_exp_corr.sort_index().plot(figsize=(15,6))\n",
    "ax.vlines(mantisa_exp_corr.idxmax(), mantisa_exp_corr.min(), mantisa_exp_corr.max(), color='green')\n",
    "ax.vlines(secret_number, mantisa_exp_corr.min(), mantisa_exp_corr.max(), color='red')"
   ]
  },
  {
   "cell_type": "markdown",
   "metadata": {},
   "source": [
    "### Correlation sign"
   ]
  },
  {
   "cell_type": "code",
   "execution_count": null,
   "metadata": {},
   "outputs": [],
   "source": [
    "guess_numbers = build_guess_values(component='sign', numbers=mantisa_exp_corr.sort_values(ascending=False).index[:10], guess_range=guess_range)\n",
    "pd.Series(guess_numbers).sort_values().reset_index(drop=True).plot(figsize=(12,6), marker='^')\n",
    "guess_numbers"
   ]
  },
  {
   "cell_type": "code",
   "execution_count": null,
   "metadata": {},
   "outputs": [],
   "source": [
    "%%time\n",
    "known_inputs = build_input_values(component='sign')\n",
    "secret_hw = np.vectorize(hamming_weight)(known_inputs * secret_number)\n",
    "full_number_corr = compute_corr_numbers(secret_hw, known_inputs, guess_numbers)"
   ]
  },
  {
   "cell_type": "code",
   "execution_count": null,
   "metadata": {},
   "outputs": [],
   "source": [
    "ax = full_number_corr.sort_index().plot(figsize=(15,6))\n",
    "ax.vlines(secret_number, full_number_corr.min(), full_number_corr.max(), color='red')"
   ]
  },
  {
   "cell_type": "code",
   "execution_count": null,
   "metadata": {},
   "outputs": [],
   "source": [
    "full_number_corr.sort_values(ascending=False).iloc[:10]"
   ]
  },
  {
   "cell_type": "markdown",
   "metadata": {},
   "source": [
    "## Recover a secret number"
   ]
  },
  {
   "cell_type": "code",
   "execution_count": null,
   "metadata": {},
   "outputs": [],
   "source": [
    "import sys\n",
    "sys.path.append(\"NN-Recovery/tests\")\n",
    "from weight_recovery_helper import batina_recover_weight"
   ]
  },
  {
   "cell_type": "code",
   "execution_count": null,
   "metadata": {},
   "outputs": [],
   "source": [
    "%%time\n",
    "full_number_corr = batina_recover_weight(secret_number=secret_number, guess_range=guess_range)\n",
    "ax = full_number_corr.sort_index().plot(figsize=(15,6))\n",
    "ax.vlines(secret_number, full_number_corr.min(), full_number_corr.max(), color='red')"
   ]
  },
  {
   "cell_type": "code",
   "execution_count": null,
   "metadata": {},
   "outputs": [],
   "source": [
    "full_number_corr.sort_values(ascending=False).iloc[:10]"
   ]
  },
  {
   "cell_type": "markdown",
   "metadata": {},
   "source": [
    "## Analyze with noise - one number"
   ]
  },
  {
   "cell_type": "code",
   "execution_count": null,
   "metadata": {},
   "outputs": [],
   "source": [
    "def resize_known_inputs(known_inputs, new_len):\n",
    "    \"\"\"\n",
    "    resize the known input to the new_len\n",
    "    :param known_inputs: known inputs \n",
    "    :param new_len: new size of the know_inputs\n",
    "    :return: the known\n",
    "    \"\"\"\n",
    "    old_len = len(known_inputs)\n",
    "    vf = np.vectorize(lambda i: known_inputs[int(i*old_len/new_len)])\n",
    "    return vf(np.arange(0, new_len))"
   ]
  },
  {
   "cell_type": "code",
   "execution_count": null,
   "metadata": {},
   "outputs": [],
   "source": [
    "def add_noise_to_signal(signal, snr, freq):\n",
    "    \"\"\"\n",
    "    add noise to the signal\n",
    "    :param signal: signal\n",
    "    :param snr: signal to noise ratio \n",
    "    :param freq: frequency of noise \n",
    "    :return: signal with noise\n",
    "    \"\"\"\n",
    "    sig_max = signal.max()\n",
    "    sig_min = signal.min()\n",
    "    return pd.Series(signal).apply(lambda x: x  +\n",
    "                                   np.average(np.random.normal(0.0, (sig_max-sig_min)/snr, freq)))"
   ]
  },
  {
   "cell_type": "code",
   "execution_count": null,
   "metadata": {},
   "outputs": [],
   "source": [
    "# the noise frequency is 50 times higher than HW signal frequency. Here we also increase\n",
    "# the sizes of the computation with \n",
    "no_noise_secret_hw = np.vectorize(hamming_weight)(known_inputs * secret_number)"
   ]
  },
  {
   "cell_type": "code",
   "execution_count": null,
   "metadata": {
    "scrolled": false
   },
   "outputs": [],
   "source": [
    "### Add noise to hamming weight of the multiplication of the secret number\n",
    "signal_to_noise_ratio = 0.5\n",
    "noise_secret_hw = add_noise_to_signal(signal=no_noise_secret_hw, snr=signal_to_noise_ratio, freq=200)\n",
    "ax = pd.DataFrame([no_noise_secret_hw, noise_secret_hw], index=['no_noise_secret_hw', 'noise_secret_hw']).T.plot(figsize=(15,6))\n",
    "ax.legend()"
   ]
  },
  {
   "cell_type": "code",
   "execution_count": null,
   "metadata": {
    "scrolled": true
   },
   "outputs": [],
   "source": [
    "noise_correlations = compute_corr(noise_secret_hw, guess_range, known_inputs, guess_val_size)\n",
    "print('secret_number =', secret_number)\n",
    "noise_correlations.sort_values(ascending=False).iloc[:10]"
   ]
  },
  {
   "cell_type": "code",
   "execution_count": null,
   "metadata": {
    "scrolled": false
   },
   "outputs": [],
   "source": [
    "ax = correlations.plot(figsize=(15, 6), label='without noise')\n",
    "noise_correlations.plot(ax=ax, label='with noise')\n",
    "ax.vlines(secret_number, \n",
    "          min(noise_correlations.min(), correlations.min()),\n",
    "          max(noise_correlations.max(), correlations.max()), \n",
    "          color='red', label='secret value')\n",
    "ax.legend()"
   ]
  },
  {
   "cell_type": "markdown",
   "metadata": {},
   "source": [
    "## Analyze with noise - multiple numbers"
   ]
  },
  {
   "cell_type": "code",
   "execution_count": null,
   "metadata": {},
   "outputs": [],
   "source": [
    "guess_range = (-5.0, 5.0)\n",
    "known_input_set = generate_known_inputs(exps=(-2,3), nsize=3000)\n",
    "precision = 1e-6\n",
    "n_secret_numbers = 10\n",
    "secret_numbers = np.concatenate((\n",
    "    np.random.uniform(guess_range[0], guess_range[1], int(n_secret_numbers*2/4) ),\n",
    "    np.random.uniform(guess_range[0]*3e-1, guess_range[1]*3e-1, int(n_secret_numbers*1/4)),\n",
    "    np.random.uniform(guess_range[0]*1e-1, guess_range[1]*1e-1, int(n_secret_numbers*1/4))\n",
    "))\n",
    "np.random.shuffle(secret_numbers)\n",
    "print('secret_numbers.shape = %s' % (str(secret_numbers.shape)))"
   ]
  },
  {
   "cell_type": "code",
   "execution_count": null,
   "metadata": {},
   "outputs": [],
   "source": [
    "secret_numbers_hws = {}\n",
    "for idx in known_input_set.index:\n",
    "    secret_numbers_hws[idx] = pd.DataFrame(\n",
    "        columns=secret_numbers, \n",
    "        data=np.vectorize(hamming_weight)(np.asarray(known_input_set.loc[idx]).reshape(-1, 1) * secret_numbers))"
   ]
  },
  {
   "cell_type": "code",
   "execution_count": null,
   "metadata": {},
   "outputs": [],
   "source": [
    "### Add noise to hamming weight of the multiplication of the secret number\n",
    "signal_to_noise_ratio = 0.5\n",
    "noise_secret_numbers_hws = {}\n",
    "for k in secret_numbers_hws.keys():\n",
    "    noise_secret_numbers_hws[k] = secret_numbers_hws[k].apply(lambda hw: add_noise_to_signal(signal=hw, snr=signal_to_noise_ratio, freq=200), axis=0)"
   ]
  },
  {
   "cell_type": "code",
   "execution_count": null,
   "metadata": {},
   "outputs": [],
   "source": [
    "noise_secret_numbers_hws.keys()"
   ]
  },
  {
   "cell_type": "code",
   "execution_count": null,
   "metadata": {},
   "outputs": [],
   "source": [
    "SECRET_VALUE='secret value'\n",
    "df_index = [INPUT_ID, LOW_VALUE, HIGH_VALUE, CORRELATION, SECRET_VALUE]"
   ]
  },
  {
   "cell_type": "code",
   "execution_count": null,
   "metadata": {
    "scrolled": true
   },
   "outputs": [],
   "source": [
    "%%time\n",
    "# start guessing... - without noise first\n",
    "results = pd.DataFrame()\n",
    "for value in secret_numbers:\n",
    "    for kidx in known_input_set.index:\n",
    "        l, h, c = guess_number_range(secret_numbers_hws[kidx][value], guess_range, precision, known_input_set.loc[kidx])\n",
    "        pprint('[%.06f] %02d %.06f %.06f %.06f' % (value, kidx, l, h, c))\n",
    "        results = pd.concat([results, pd.Series([kidx, l, h, c, value], index=df_index)], axis=1, ignore_index=True)"
   ]
  },
  {
   "cell_type": "code",
   "execution_count": null,
   "metadata": {
    "scrolled": true
   },
   "outputs": [],
   "source": [
    "%%time\n",
    "# start guessing... - with noise\n",
    "noise_results = pd.DataFrame()\n",
    "for value in secret_numbers:\n",
    "    for kidx in known_input_set.index:\n",
    "        l, h, c = guess_number_range(noise_secret_numbers_hws[kidx][value], guess_range, precision, known_input_set.loc[kidx])\n",
    "        pprint('[%.06f] %02d %.06f %.06f %.06f' % (value, kidx, l, h, c))\n",
    "        noise_results = pd.concat([noise_results, pd.Series([kidx, l, h, c, value], index=df_index)], axis=1, ignore_index=True)"
   ]
  },
  {
   "cell_type": "markdown",
   "metadata": {},
   "source": [
    "## Batina"
   ]
  },
  {
   "cell_type": "code",
   "execution_count": null,
   "metadata": {},
   "outputs": [],
   "source": [
    "import sys\n",
    "sys.path.append(\"NN-Recovery/tests\")\n",
    "from weight_recovery_helper import batina_recover_weight"
   ]
  },
  {
   "cell_type": "code",
   "execution_count": null,
   "metadata": {},
   "outputs": [],
   "source": [
    "%%time\n",
    "# start guessing... - without noise\n",
    "batina_results = pd.DataFrame(dtype=np.float32, columns=df_index)\n",
    "for value in secret_numbers:\n",
    "    s = batina_recover_weight(secret_number=value, guess_range=guess_range, mantissa_nbits=12)\n",
    "    s.name = CORRELATION\n",
    "    df = pd.DataFrame(s).reset_index().rename(columns={'index': LOW_VALUE})\n",
    "    df[HIGH_VALUE] = df[LOW_VALUE]\n",
    "    df[INPUT_ID] = 0\n",
    "    df[SECRET_VALUE] = value\n",
    "    batina_results = pd.concat([batina_results, df], axis=0, ignore_index=True)"
   ]
  },
  {
   "cell_type": "code",
   "execution_count": null,
   "metadata": {},
   "outputs": [],
   "source": [
    "from datetime import datetime\n",
    "\n",
    "fname = 'batina_results-%s.csv' % (datetime.now().strftime(\"%Y%m%d_%H%M%S\"))\n",
    "batina_results.to_csv(fname)\n",
    "print('save results in %s' % fname)"
   ]
  },
  {
   "cell_type": "code",
   "execution_count": null,
   "metadata": {},
   "outputs": [],
   "source": [
    "%%time\n",
    "# start guessing... - without noise\n",
    "noise_batina_results = pd.DataFrame(dtype=np.float32, columns=df_index)\n",
    "for value in secret_numbers:\n",
    "    s = batina_recover_weight(secret_number=value, guess_range=guess_range,  mantissa_nbits=12, noise=(add_noise_to_signal, signal_to_noise_ratio, 200))\n",
    "    s.name = CORRELATION\n",
    "    df = pd.DataFrame(s).reset_index().rename(columns={'index': LOW_VALUE})\n",
    "    df[HIGH_VALUE] = df[LOW_VALUE]\n",
    "    df[INPUT_ID] = 0\n",
    "    df[SECRET_VALUE] = value\n",
    "    noise_batina_results = pd.concat([noise_batina_results, df], axis=0, ignore_index=True)"
   ]
  },
  {
   "cell_type": "code",
   "execution_count": null,
   "metadata": {},
   "outputs": [],
   "source": [
    "from datetime import datetime\n",
    "\n",
    "fname = 'noise_batina_results-%s.csv' % (datetime.now().strftime(\"%Y%m%d_%H%M%S\"))\n",
    "noise_batina_results.to_csv(fname)\n",
    "print('save results in %s' % fname)"
   ]
  },
  {
   "cell_type": "code",
   "execution_count": null,
   "metadata": {},
   "outputs": [],
   "source": [
    "from datetime import datetime\n",
    "\n",
    "TEST_NAME='testset name'\n",
    "\n",
    "fname = 'final_results-%s.csv' % (datetime.now().strftime(\"%Y%m%d_%H%M%S\"))\n",
    "\n",
    "batina_results[TEST_NAME] = 'batina_results'\n",
    "noise_batina_results[TEST_NAME] = 'noise_batina_results'\n",
    "results.loc[TEST_NAME] = 'results'\n",
    "noise_results.loc[TEST_NAME] = 'noise_results'\n",
    "final_results = pd.concat([batina_results, noise_batina_results, results.T, noise_results.T], ignore_index=True, axis=0)\n",
    "final_results.to_csv(fname)\n",
    "print('save results in %s' % fname)"
   ]
  },
  {
   "cell_type": "markdown",
   "metadata": {},
   "source": [
    "### Statistics"
   ]
  },
  {
   "cell_type": "code",
   "execution_count": null,
   "metadata": {},
   "outputs": [],
   "source": [
    "GUESSED_VALUE = 'guessed value'\n",
    "ERROR = 'error'\n",
    "def statistics(df):\n",
    "    dft = df.T[[SECRET_VALUE, LOW_VALUE, HIGH_VALUE, CORRELATION]].astype(dtype=np.float64)\n",
    "    dft[GUESSED_VALUE] = (dft[HIGH_VALUE]+dft[LOW_VALUE])/2.0 \n",
    "    dft[ERROR] = np.abs((dft[GUESSED_VALUE] - dft[SECRET_VALUE])/dft[SECRET_VALUE])    \n",
    "    best_corr = dft.loc[dft.groupby(SECRET_VALUE)[CORRELATION].idxmax()]\n",
    "    best_err = dft.loc[dft.groupby(SECRET_VALUE)[ERROR].idxmin()]\n",
    "    return best_corr.T, best_err.T"
   ]
  },
  {
   "cell_type": "code",
   "execution_count": null,
   "metadata": {},
   "outputs": [],
   "source": [
    "best_corr, best_err = statistics(results)\n",
    "noise_best_corr, noise_best_err = statistics(noise_results)"
   ]
  },
  {
   "cell_type": "code",
   "execution_count": null,
   "metadata": {},
   "outputs": [],
   "source": [
    "batina_best_corr, batina_best_err = statistics(batina_results.T)\n",
    "noise_batina_best_corr, noise_batina_best_err = statistics(noise_batina_results.T)"
   ]
  },
  {
   "cell_type": "code",
   "execution_count": null,
   "metadata": {},
   "outputs": [],
   "source": [
    "study_score = batina_best_corr\n",
    "(study_score.T[ERROR] < 1e-3).value_counts()"
   ]
  },
  {
   "cell_type": "code",
   "execution_count": null,
   "metadata": {},
   "outputs": [],
   "source": [
    "study_score.T.sort_values(ERROR, ascending=False)[:10]"
   ]
  },
  {
   "cell_type": "code",
   "execution_count": null,
   "metadata": {},
   "outputs": [],
   "source": [
    "study_score[6400][SECRET_VALUE]"
   ]
  },
  {
   "cell_type": "code",
   "execution_count": null,
   "metadata": {},
   "outputs": [],
   "source": [
    "from matplotlib import pyplot as plt\n",
    "\n",
    "fig, ax = plt.subplots(nrows=3, ncols=1, figsize=(12, 15))\n",
    "df = best_corr.T\n",
    "df[[GUESSED_VALUE, SECRET_VALUE]].set_index(SECRET_VALUE)[GUESSED_VALUE].plot(ax=ax[0], marker='.', label='without noise')\n",
    "df = noise_best_corr.T\n",
    "df[[GUESSED_VALUE, SECRET_VALUE]].set_index(SECRET_VALUE)[GUESSED_VALUE].plot(ax=ax[0], marker='.', label='with noise')\n",
    "ax[0].set_ylabel('Guessed values')\n",
    "ax[0].set_title('Guessed values (best corr, SNR=%0.2f)' % signal_to_noise_ratio)\n",
    "\n",
    "df = best_corr.T\n",
    "df[[ERROR, SECRET_VALUE]].set_index(SECRET_VALUE)[ERROR].plot(ax=ax[1], marker='.', label='without noise')\n",
    "df = noise_best_corr.T\n",
    "df[[ERROR, SECRET_VALUE]].set_index(SECRET_VALUE)[ERROR].plot(ax=ax[1], marker='.', label='with noise')\n",
    "ax[1].set_ylabel('Error')\n",
    "ax[1].set_title('Guess Error (best corr, SNR=%0.2f)' % signal_to_noise_ratio)\n",
    "\n",
    "df = best_corr.T\n",
    "df[[CORRELATION, SECRET_VALUE]].set_index(SECRET_VALUE)[CORRELATION].plot(ax=ax[2], marker='.', label='without noise')\n",
    "df = noise_best_corr.T\n",
    "df[[CORRELATION, SECRET_VALUE]].set_index(SECRET_VALUE)[CORRELATION].plot(ax=ax[2], marker='.', label='with noise')\n",
    "ax[2].set_ylabel('Correlation')\n",
    "ax[2].set_title('Correlation (best corr, SNR=%0.2f)' % signal_to_noise_ratio)\n",
    "\n",
    "for a in ax:\n",
    "    a.legend()\n",
    "    a.grid(True)\n",
    "    a.set_xlabel('secret values')\n",
    "\n",
    "from datetime import datetime\n",
    "fname = 'nhw-%s.jpg' % (datetime.now().strftime(\"%Y%m%d_%H%M%S%f\"))\n",
    "plt.savefig(fname)\n",
    "plt.show()"
   ]
  },
  {
   "cell_type": "code",
   "execution_count": null,
   "metadata": {},
   "outputs": [],
   "source": [
    "from matplotlib import pyplot as plt\n",
    "\n",
    "fig, ax = plt.subplots(nrows=3, ncols=1, figsize=(12, 15))\n",
    "df = best_err.T\n",
    "df[[GUESSED_VALUE, SECRET_VALUE]].set_index(SECRET_VALUE)[GUESSED_VALUE].plot(ax=ax[0], marker='.', label='without noise')\n",
    "df = noise_best_err.T\n",
    "df[[GUESSED_VALUE, SECRET_VALUE]].set_index(SECRET_VALUE)[GUESSED_VALUE].plot(ax=ax[0], marker='.', label='with noise')\n",
    "ax[0].set_ylabel('Guessed values')\n",
    "ax[0].set_title('Guessed values (best err,SNR=%0.2f)' % signal_to_noise_ratio)\n",
    "\n",
    "\n",
    "df = best_err.T\n",
    "df[[ERROR, SECRET_VALUE]].set_index(SECRET_VALUE)[ERROR].plot(ax=ax[1], marker='.', label='without noise')\n",
    "df = noise_best_err.T\n",
    "df[[ERROR, SECRET_VALUE]].set_index(SECRET_VALUE)[ERROR].plot(ax=ax[1], marker='.', label='with noise')\n",
    "ax[1].set_ylabel('Error')\n",
    "ax[1].set_title('Guess Error (best err, SNR=%0.2f)' % signal_to_noise_ratio)\n",
    "\n",
    "df = best_corr.T\n",
    "df[[CORRELATION, SECRET_VALUE]].set_index(SECRET_VALUE)[CORRELATION].plot(ax=ax[2], marker='.', label='without noise')\n",
    "df = noise_best_corr.T\n",
    "df[[CORRELATION, SECRET_VALUE]].set_index(SECRET_VALUE)[CORRELATION].plot(ax=ax[2], marker='.', label='with noise')\n",
    "ax[2].set_ylabel('Correlation')\n",
    "ax[2].set_title('Correlation (best err, SNR=%0.2f)' % signal_to_noise_ratio)\n",
    "\n",
    "for a in ax:\n",
    "    a.legend()\n",
    "    a.grid(True)\n",
    "    a.set_xlabel('secret values')\n",
    "\n",
    "from datetime import datetime\n",
    "fname = 'nhw-%s.jpg' % (datetime.now().strftime(\"%Y%m%d_%H%M%S%f\"))\n",
    "plt.savefig(fname)\n",
    "plt.show()"
   ]
  },
  {
   "cell_type": "code",
   "execution_count": null,
   "metadata": {},
   "outputs": [],
   "source": [
    "from matplotlib import pyplot as plt\n",
    "\n",
    "fig, ax = plt.subplots(nrows=3, ncols=1, figsize=(12, 15))\n",
    "df = batina_best_corr.T\n",
    "df[[GUESSED_VALUE, SECRET_VALUE]].set_index(SECRET_VALUE)[GUESSED_VALUE].plot(ax=ax[0], marker='.', label='without noise')\n",
    "df = noise_batina_best_corr.T\n",
    "df[[GUESSED_VALUE, SECRET_VALUE]].set_index(SECRET_VALUE)[GUESSED_VALUE].plot(ax=ax[0], marker='.', label='with noise')\n",
    "ax[0].set_ylabel('Guessed values')\n",
    "ax[0].set_title('Guessed values (Batina, best corr, SNR=%0.2f)' % signal_to_noise_ratio)\n",
    "\n",
    "df = batina_best_corr.T\n",
    "df[[ERROR, SECRET_VALUE]].set_index(SECRET_VALUE)[ERROR].plot(ax=ax[1], marker='.', label='without noise')\n",
    "df = noise_batina_best_corr.T\n",
    "df[[ERROR, SECRET_VALUE]].set_index(SECRET_VALUE)[ERROR].plot(ax=ax[1], marker='.', label='with noise')\n",
    "ax[1].set_ylabel('Error')\n",
    "ax[1].set_title('Guess Error (Batina, best corr, SNR=%0.2f)' % signal_to_noise_ratio)\n",
    "\n",
    "df = batina_best_corr.T\n",
    "df[[CORRELATION, SECRET_VALUE]].set_index(SECRET_VALUE)[CORRELATION].plot(ax=ax[2], marker='.', label='without noise')\n",
    "df = noise_batina_best_corr.T\n",
    "df[[CORRELATION, SECRET_VALUE]].set_index(SECRET_VALUE)[CORRELATION].plot(ax=ax[2], marker='.', label='with noise')\n",
    "ax[2].set_ylabel('Correlation')\n",
    "ax[2].set_title('Correlation (Batina, best corr, SNR=%0.2f)' % signal_to_noise_ratio)\n",
    "\n",
    "for a in ax:\n",
    "    a.legend()\n",
    "    a.grid(True)\n",
    "    a.set_xlabel('secret values')\n",
    "\n",
    "from datetime import datetime\n",
    "fname = 'nhw-%s.jpg' % (datetime.now().strftime(\"%Y%m%d_%H%M%S%f\"))\n",
    "plt.savefig(fname)\n",
    "plt.show()"
   ]
  },
  {
   "cell_type": "code",
   "execution_count": null,
   "metadata": {},
   "outputs": [],
   "source": [
    "from matplotlib import pyplot as plt\n",
    "\n",
    "fig, ax = plt.subplots(nrows=3, ncols=1, figsize=(12, 15))\n",
    "df = batina_best_corr.T\n",
    "df[[GUESSED_VALUE, SECRET_VALUE]].set_index(SECRET_VALUE)[GUESSED_VALUE].plot(ax=ax[0], marker='.', label='without noise')\n",
    "ax[0].set_ylabel('Guessed values')\n",
    "ax[0].set_title('Guessed values (Batina, best corr)')\n",
    "\n",
    "df = batina_best_corr.T\n",
    "df[[ERROR, SECRET_VALUE]].set_index(SECRET_VALUE)[ERROR].plot(ax=ax[1], marker='.', label='without noise')\n",
    "ax[1].set_ylabel('Error')\n",
    "ax[1].set_title('Guess Error (Batina, best corr)')\n",
    "\n",
    "df = batina_best_corr.T\n",
    "df[[CORRELATION, SECRET_VALUE]].set_index(SECRET_VALUE)[CORRELATION].plot(ax=ax[2], marker='.', label='without noise')\n",
    "ax[2].set_ylabel('Correlation')\n",
    "ax[2].set_title('Correlation (Batina, best corr)')\n",
    "\n",
    "for a in ax:\n",
    "    a.legend()\n",
    "    a.grid(True)\n",
    "    a.set_xlabel('secret values')\n",
    "\n",
    "from datetime import datetime\n",
    "fname = 'nhw-%s.jpg' % (datetime.now().strftime(\"%Y%m%d_%H%M%S%f\"))\n",
    "plt.savefig(fname)\n",
    "plt.show()\n",
    "print('saved picture in %s' % fname)"
   ]
  },
  {
   "cell_type": "code",
   "execution_count": null,
   "metadata": {},
   "outputs": [],
   "source": []
  }
 ],
 "metadata": {
  "kernelspec": {
   "display_name": "Python 3",
   "language": "python",
   "name": "python3"
  },
  "language_info": {
   "codemirror_mode": {
    "name": "ipython",
    "version": 3
   },
   "file_extension": ".py",
   "mimetype": "text/x-python",
   "name": "python",
   "nbconvert_exporter": "python",
   "pygments_lexer": "ipython3",
   "version": "3.7.5"
  }
 },
 "nbformat": 4,
 "nbformat_minor": 4
}
